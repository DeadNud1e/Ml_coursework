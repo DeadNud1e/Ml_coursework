{
 "cells": [
  {
   "cell_type": "markdown",
   "metadata": {
    "colab_type": "text",
    "id": "BBv-oIFLVYRz"
   },
   "source": [
    "# Курсовая работа. Блок ML Beginner\n",
    "<br>\n",
    "\n",
    "**NB!** Код должен быть с комментариями к каждому логическому блоку кода. В противном случае работа **не** будет принята. <br><br>\n",
    "Выполнение курсовой работы может потребовать использование дополнительных библиотек. Может потребоваться предварительная обработка данных.\n",
    "\n",
    "<br><br>\n",
    "**Описание работы:**\n",
    "&nbsp;&nbsp;&nbsp;&nbsp;\n",
    "<br><br>\n",
    "&nbsp;&nbsp;&nbsp;&nbsp; Любой бизнес хочет максимизировать количество клиентов. Для достижения этой цели важно не только пытаться привлечь новых, но и удерживать уже существующих. Удержать клиента обойдется компании дешевле, чем привлечь нового. Кроме того, новый клиент может оказаться слабо заинтересованным в услугах бизнеса и с ним будет сложно работать, тогда как о старых клиентах уже есть необходимые данные по взаимодействию с сервисом. \n",
    " <br>\n",
    "\n",
    "&nbsp;&nbsp;&nbsp;&nbsp; Соответственно, прогнозируя отток, мы можем вовремя среагировать и попытаться удержать клиента, который хочет уйти. Опираясь на данные об услугах, которыми пользуется клиент, мы можем сделать ему специальное предложение, пытаясь изменить его решение об уходе от оператора. Благодаря этому задача удержания будет легче в реализации, чем задача привлечения новых пользователей, о которых мы еще ничего не знаем.<br>\n",
    "\n",
    "&nbsp;&nbsp;&nbsp;&nbsp; Вам предоставлен набор данных от телекоммуникационной компании. В данных содержится информация о почти шести тысячах пользователей, их демографических характеристиках, услугах, которыми они пользуются, длительности пользования услугами оператора, методе оплаты, размере оплаты. \n",
    "<br>\n",
    "\n",
    "&nbsp;&nbsp;&nbsp;&nbsp; Cтоит задача проанализировать данные и спрогнозировать отток пользователей (выявить людей, которые продлят контракт и которые не продлят). Работа должна включать в себя следующие обязательные пункты: \n",
    "1. Описание данных *(с расчетом базовых статистик)*, \n",
    "2. Исследование зависимостей и формулирование гипотез, \n",
    "3. Построение моделей для прогнозирования оттока *(с обоснованием выбора той или иной модели)* на основе проверенных гипотез и выявленных взаимосвязей, \n",
    "4. Сравнение качества полученных моделей. \n",
    "\n",
    "Во втором разделе обязательно должно присутствовать обоснование гипотез, подробное описание выявленных взаимосвязей, а также их визуализация. \n",
    "<br>В четвертом дополнительно должны быть сформулированы общие выводы работы.\n",
    "\n",
    "<br><br>\n",
    "\n",
    "_________\n",
    "\n",
    "[Codebook](#Codebook) <br>\n",
    "[1. Описание данных](#1.-Описание-данных)<br>\n",
    "[2. Исследование зависимостей и формулирование гипотез](#2.-Исследование-зависимостей-и-формулирование-гипотез)<br>\n",
    "[3. Построение моделей для прогнозирования оттока](#3.-Построение-моделей-для-прогнозирования-оттока)<br>\n",
    "[4. Сравнение качества моделей](#4.-Сравнение-качества-моделей) <br>\n"
   ]
  },
  {
   "cell_type": "markdown",
   "metadata": {
    "colab_type": "text",
    "id": "uZY64JwzVYR6"
   },
   "source": [
    "## Codebook\n",
    "<br>\n",
    "\n",
    "[Ссылка для скачивания данных](https://drive.google.com/open?id=1dPCG76ST6NohYKtVMGv6HpFL-jD5p1eJ) \n",
    "<br><br>\n",
    "\n",
    "`telecom_users.csv` содержит следующие значения:<br><br>\n",
    "\n",
    "&nbsp;&nbsp;&nbsp;&nbsp; `customerID` – id клиента<br>\n",
    "&nbsp;&nbsp;&nbsp;&nbsp; `gender` – пол клиента (male/female)<br>\n",
    "&nbsp;&nbsp;&nbsp;&nbsp; `SeniorCitizen` – яляется ли клиент пенсионером (1, 0)<br>\n",
    "&nbsp;&nbsp;&nbsp;&nbsp; `Partner` – состоит ли клиент в браке (Yes, No)<br>\n",
    "&nbsp;&nbsp;&nbsp;&nbsp; `Dependents` – есть ли у клиента иждивенцы (Yes, No)<br>\n",
    "&nbsp;&nbsp;&nbsp;&nbsp; `tenure` – сколько месяцев человек являлся клиентом компании<br>\n",
    "&nbsp;&nbsp;&nbsp;&nbsp; `PhoneService` – подключена ли услуга телефонной связи (Yes, No)<br>\n",
    "&nbsp;&nbsp;&nbsp;&nbsp; `MultipleLines` – подключены ли несколько телефонных линий (Yes, No, No phone service)<br>\n",
    "&nbsp;&nbsp;&nbsp;&nbsp; `InternetService` – интернет-провайдер клиента (DSL, Fiber optic, No)<br>\n",
    "&nbsp;&nbsp;&nbsp;&nbsp; `OnlineSecurity` – подключена ли услуга онлайн-безопасности (Yes, No, No internet service)<br>\n",
    "&nbsp;&nbsp;&nbsp;&nbsp; `OnlineBackup` – подключена ли услуга online backup (Yes, No, No internet service)<br>\n",
    "&nbsp;&nbsp;&nbsp;&nbsp; `DeviceProtection` – есть ли у клиента страховка оборудования (Yes, No, No internet service)<br>\n",
    "&nbsp;&nbsp;&nbsp;&nbsp; `TechSupport` – подключена ли услуга технической поддержки (Yes, No, No internet service)<br>\n",
    "&nbsp;&nbsp;&nbsp;&nbsp; `StreamingTV` – подключена ли услуга стримингового телевидения (Yes, No, No internet service)<br>\n",
    "&nbsp;&nbsp;&nbsp;&nbsp; `StreamingMovies` – подключена ли услуга стримингового кинотеатра (Yes, No, No internet service)<br>\n",
    "&nbsp;&nbsp;&nbsp;&nbsp; `Contract` – тип контракта клиента (Month-to-month, One year, Two year)<br>\n",
    "&nbsp;&nbsp;&nbsp;&nbsp; `PaperlessBilling` – пользуется ли клиент безбумажным биллингом (Yes, No)<br>\n",
    "&nbsp;&nbsp;&nbsp;&nbsp; `PaymentMethod` – метод оплаты (Electronic check, Mailed check, Bank transfer (automatic), Credit card (automatic))<br>\n",
    "&nbsp;&nbsp;&nbsp;&nbsp; `MonthlyCharges` – месячный размер оплаты на настоящий момент<br>\n",
    "&nbsp;&nbsp;&nbsp;&nbsp; `TotalCharges` – общая сумма, которую клиент заплатил за услуги за все время<br>\n",
    "&nbsp;&nbsp;&nbsp;&nbsp; `Churn` – произошел ли отток (Yes or No)<br>"
   ]
  },
  {
   "cell_type": "markdown",
   "metadata": {
    "colab_type": "text",
    "id": "sIRCLuWGVYR9"
   },
   "source": [
    "# 1. Описание данных"
   ]
  },
  {
   "cell_type": "markdown",
   "metadata": {
    "colab_type": "text",
    "id": "ZXd5Dd-3_d7d"
   },
   "source": [
    "Импортируем библиотеки для чтения и визуализации данных"
   ]
  },
  {
   "cell_type": "code",
   "execution_count": 1,
   "metadata": {
    "colab": {},
    "colab_type": "code",
    "id": "s0fDRVkgVYSA"
   },
   "outputs": [],
   "source": [
    "import pandas as pd\n",
    "import seaborn as sns\n",
    "import matplotlib.pyplot as plt"
   ]
  },
  {
   "cell_type": "code",
   "execution_count": 2,
   "metadata": {
    "colab": {},
    "colab_type": "code",
    "id": "i5X8Ooum_d79"
   },
   "outputs": [],
   "source": [
    "df = pd.read_csv('telecom_users.csv')"
   ]
  },
  {
   "cell_type": "markdown",
   "metadata": {
    "colab_type": "text",
    "id": "87JDmtFq_d8I"
   },
   "source": [
    "Смотрим с какими типами обьектов нам предстоит работать"
   ]
  },
  {
   "cell_type": "code",
   "execution_count": 3,
   "metadata": {
    "colab": {
     "base_uri": "https://localhost:8080/",
     "height": 470
    },
    "colab_type": "code",
    "id": "9O3FNjNX_d8I",
    "outputId": "dc2bc502-bb6b-4d2e-b3b2-dc3cc5c5e9ba"
   },
   "outputs": [
    {
     "name": "stdout",
     "output_type": "stream",
     "text": [
      "<class 'pandas.core.frame.DataFrame'>\n",
      "RangeIndex: 5986 entries, 0 to 5985\n",
      "Data columns (total 22 columns):\n",
      "Unnamed: 0          5986 non-null int64\n",
      "customerID          5986 non-null object\n",
      "gender              5986 non-null object\n",
      "SeniorCitizen       5986 non-null int64\n",
      "Partner             5986 non-null object\n",
      "Dependents          5986 non-null object\n",
      "tenure              5986 non-null int64\n",
      "PhoneService        5986 non-null object\n",
      "MultipleLines       5986 non-null object\n",
      "InternetService     5986 non-null object\n",
      "OnlineSecurity      5986 non-null object\n",
      "OnlineBackup        5986 non-null object\n",
      "DeviceProtection    5986 non-null object\n",
      "TechSupport         5986 non-null object\n",
      "StreamingTV         5986 non-null object\n",
      "StreamingMovies     5986 non-null object\n",
      "Contract            5986 non-null object\n",
      "PaperlessBilling    5986 non-null object\n",
      "PaymentMethod       5986 non-null object\n",
      "MonthlyCharges      5986 non-null float64\n",
      "TotalCharges        5986 non-null object\n",
      "Churn               5986 non-null object\n",
      "dtypes: float64(1), int64(3), object(18)\n",
      "memory usage: 1.0+ MB\n"
     ]
    }
   ],
   "source": [
    "df.info()"
   ]
  },
  {
   "cell_type": "markdown",
   "metadata": {
    "colab_type": "text",
    "id": "x4GCTgOh_d8X"
   },
   "source": [
    "Проверяем наличие пустых ячеек"
   ]
  },
  {
   "cell_type": "code",
   "execution_count": 4,
   "metadata": {
    "colab": {
     "base_uri": "https://localhost:8080/",
     "height": 403
    },
    "colab_type": "code",
    "id": "mPQIhiBs_d8X",
    "outputId": "1b672463-ba3f-4361-85a5-96ffc56aca33"
   },
   "outputs": [
    {
     "data": {
      "text/plain": [
       "Unnamed: 0          0\n",
       "customerID          0\n",
       "gender              0\n",
       "SeniorCitizen       0\n",
       "Partner             0\n",
       "Dependents          0\n",
       "tenure              0\n",
       "PhoneService        0\n",
       "MultipleLines       0\n",
       "InternetService     0\n",
       "OnlineSecurity      0\n",
       "OnlineBackup        0\n",
       "DeviceProtection    0\n",
       "TechSupport         0\n",
       "StreamingTV         0\n",
       "StreamingMovies     0\n",
       "Contract            0\n",
       "PaperlessBilling    0\n",
       "PaymentMethod       0\n",
       "MonthlyCharges      0\n",
       "TotalCharges        0\n",
       "Churn               0\n",
       "dtype: int64"
      ]
     },
     "execution_count": 4,
     "metadata": {},
     "output_type": "execute_result"
    }
   ],
   "source": [
    "df.isnull().sum()"
   ]
  },
  {
   "cell_type": "code",
   "execution_count": 5,
   "metadata": {
    "colab": {
     "base_uri": "https://localhost:8080/",
     "height": 319
    },
    "colab_type": "code",
    "id": "3AxCe_78_d8n",
    "outputId": "e4aef5a9-0702-40f3-8f7a-e96cd1d70e24"
   },
   "outputs": [
    {
     "data": {
      "text/html": [
       "<div>\n",
       "<style scoped>\n",
       "    .dataframe tbody tr th:only-of-type {\n",
       "        vertical-align: middle;\n",
       "    }\n",
       "\n",
       "    .dataframe tbody tr th {\n",
       "        vertical-align: top;\n",
       "    }\n",
       "\n",
       "    .dataframe thead th {\n",
       "        text-align: right;\n",
       "    }\n",
       "</style>\n",
       "<table border=\"1\" class=\"dataframe\">\n",
       "  <thead>\n",
       "    <tr style=\"text-align: right;\">\n",
       "      <th></th>\n",
       "      <th>Unnamed: 0</th>\n",
       "      <th>customerID</th>\n",
       "      <th>gender</th>\n",
       "      <th>SeniorCitizen</th>\n",
       "      <th>Partner</th>\n",
       "      <th>Dependents</th>\n",
       "      <th>tenure</th>\n",
       "      <th>PhoneService</th>\n",
       "      <th>MultipleLines</th>\n",
       "      <th>InternetService</th>\n",
       "      <th>...</th>\n",
       "      <th>DeviceProtection</th>\n",
       "      <th>TechSupport</th>\n",
       "      <th>StreamingTV</th>\n",
       "      <th>StreamingMovies</th>\n",
       "      <th>Contract</th>\n",
       "      <th>PaperlessBilling</th>\n",
       "      <th>PaymentMethod</th>\n",
       "      <th>MonthlyCharges</th>\n",
       "      <th>TotalCharges</th>\n",
       "      <th>Churn</th>\n",
       "    </tr>\n",
       "  </thead>\n",
       "  <tbody>\n",
       "    <tr>\n",
       "      <th>0</th>\n",
       "      <td>1869</td>\n",
       "      <td>7010-BRBUU</td>\n",
       "      <td>Male</td>\n",
       "      <td>0</td>\n",
       "      <td>Yes</td>\n",
       "      <td>Yes</td>\n",
       "      <td>72</td>\n",
       "      <td>Yes</td>\n",
       "      <td>Yes</td>\n",
       "      <td>No</td>\n",
       "      <td>...</td>\n",
       "      <td>No internet service</td>\n",
       "      <td>No internet service</td>\n",
       "      <td>No internet service</td>\n",
       "      <td>No internet service</td>\n",
       "      <td>Two year</td>\n",
       "      <td>No</td>\n",
       "      <td>Credit card (automatic)</td>\n",
       "      <td>24.10</td>\n",
       "      <td>1734.65</td>\n",
       "      <td>No</td>\n",
       "    </tr>\n",
       "    <tr>\n",
       "      <th>1</th>\n",
       "      <td>4528</td>\n",
       "      <td>9688-YGXVR</td>\n",
       "      <td>Female</td>\n",
       "      <td>0</td>\n",
       "      <td>No</td>\n",
       "      <td>No</td>\n",
       "      <td>44</td>\n",
       "      <td>Yes</td>\n",
       "      <td>No</td>\n",
       "      <td>Fiber optic</td>\n",
       "      <td>...</td>\n",
       "      <td>Yes</td>\n",
       "      <td>No</td>\n",
       "      <td>Yes</td>\n",
       "      <td>No</td>\n",
       "      <td>Month-to-month</td>\n",
       "      <td>Yes</td>\n",
       "      <td>Credit card (automatic)</td>\n",
       "      <td>88.15</td>\n",
       "      <td>3973.2</td>\n",
       "      <td>No</td>\n",
       "    </tr>\n",
       "    <tr>\n",
       "      <th>2</th>\n",
       "      <td>6344</td>\n",
       "      <td>9286-DOJGF</td>\n",
       "      <td>Female</td>\n",
       "      <td>1</td>\n",
       "      <td>Yes</td>\n",
       "      <td>No</td>\n",
       "      <td>38</td>\n",
       "      <td>Yes</td>\n",
       "      <td>Yes</td>\n",
       "      <td>Fiber optic</td>\n",
       "      <td>...</td>\n",
       "      <td>No</td>\n",
       "      <td>No</td>\n",
       "      <td>No</td>\n",
       "      <td>No</td>\n",
       "      <td>Month-to-month</td>\n",
       "      <td>Yes</td>\n",
       "      <td>Bank transfer (automatic)</td>\n",
       "      <td>74.95</td>\n",
       "      <td>2869.85</td>\n",
       "      <td>Yes</td>\n",
       "    </tr>\n",
       "    <tr>\n",
       "      <th>3</th>\n",
       "      <td>6739</td>\n",
       "      <td>6994-KERXL</td>\n",
       "      <td>Male</td>\n",
       "      <td>0</td>\n",
       "      <td>No</td>\n",
       "      <td>No</td>\n",
       "      <td>4</td>\n",
       "      <td>Yes</td>\n",
       "      <td>No</td>\n",
       "      <td>DSL</td>\n",
       "      <td>...</td>\n",
       "      <td>No</td>\n",
       "      <td>No</td>\n",
       "      <td>No</td>\n",
       "      <td>Yes</td>\n",
       "      <td>Month-to-month</td>\n",
       "      <td>Yes</td>\n",
       "      <td>Electronic check</td>\n",
       "      <td>55.90</td>\n",
       "      <td>238.5</td>\n",
       "      <td>No</td>\n",
       "    </tr>\n",
       "    <tr>\n",
       "      <th>4</th>\n",
       "      <td>432</td>\n",
       "      <td>2181-UAESM</td>\n",
       "      <td>Male</td>\n",
       "      <td>0</td>\n",
       "      <td>No</td>\n",
       "      <td>No</td>\n",
       "      <td>2</td>\n",
       "      <td>Yes</td>\n",
       "      <td>No</td>\n",
       "      <td>DSL</td>\n",
       "      <td>...</td>\n",
       "      <td>Yes</td>\n",
       "      <td>No</td>\n",
       "      <td>No</td>\n",
       "      <td>No</td>\n",
       "      <td>Month-to-month</td>\n",
       "      <td>No</td>\n",
       "      <td>Electronic check</td>\n",
       "      <td>53.45</td>\n",
       "      <td>119.5</td>\n",
       "      <td>No</td>\n",
       "    </tr>\n",
       "  </tbody>\n",
       "</table>\n",
       "<p>5 rows × 22 columns</p>\n",
       "</div>"
      ],
      "text/plain": [
       "   Unnamed: 0  customerID  gender  SeniorCitizen Partner Dependents  tenure  \\\n",
       "0        1869  7010-BRBUU    Male              0     Yes        Yes      72   \n",
       "1        4528  9688-YGXVR  Female              0      No         No      44   \n",
       "2        6344  9286-DOJGF  Female              1     Yes         No      38   \n",
       "3        6739  6994-KERXL    Male              0      No         No       4   \n",
       "4         432  2181-UAESM    Male              0      No         No       2   \n",
       "\n",
       "  PhoneService MultipleLines InternetService  ...     DeviceProtection  \\\n",
       "0          Yes           Yes              No  ...  No internet service   \n",
       "1          Yes            No     Fiber optic  ...                  Yes   \n",
       "2          Yes           Yes     Fiber optic  ...                   No   \n",
       "3          Yes            No             DSL  ...                   No   \n",
       "4          Yes            No             DSL  ...                  Yes   \n",
       "\n",
       "           TechSupport          StreamingTV      StreamingMovies  \\\n",
       "0  No internet service  No internet service  No internet service   \n",
       "1                   No                  Yes                   No   \n",
       "2                   No                   No                   No   \n",
       "3                   No                   No                  Yes   \n",
       "4                   No                   No                   No   \n",
       "\n",
       "         Contract PaperlessBilling              PaymentMethod MonthlyCharges  \\\n",
       "0        Two year               No    Credit card (automatic)          24.10   \n",
       "1  Month-to-month              Yes    Credit card (automatic)          88.15   \n",
       "2  Month-to-month              Yes  Bank transfer (automatic)          74.95   \n",
       "3  Month-to-month              Yes           Electronic check          55.90   \n",
       "4  Month-to-month               No           Electronic check          53.45   \n",
       "\n",
       "  TotalCharges  Churn  \n",
       "0      1734.65     No  \n",
       "1       3973.2     No  \n",
       "2      2869.85    Yes  \n",
       "3        238.5     No  \n",
       "4        119.5     No  \n",
       "\n",
       "[5 rows x 22 columns]"
      ]
     },
     "execution_count": 5,
     "metadata": {},
     "output_type": "execute_result"
    }
   ],
   "source": [
    "df.head()"
   ]
  },
  {
   "cell_type": "markdown",
   "metadata": {
    "colab_type": "text",
    "id": "TGKLEpmI_d8n"
   },
   "source": [
    "Посмотрим какую долю занимают \"отточные\" юзеры. Видно что пользователей оставшихся на платформе намного больше. Датасет не сбалансирован."
   ]
  },
  {
   "cell_type": "code",
   "execution_count": 6,
   "metadata": {
    "colab": {
     "base_uri": "https://localhost:8080/",
     "height": 296
    },
    "colab_type": "code",
    "id": "4d0AVhvu_d82",
    "outputId": "29b4a73c-31f4-48b4-9e91-77435514cb17"
   },
   "outputs": [
    {
     "data": {
      "text/plain": [
       "<matplotlib.axes._subplots.AxesSubplot at 0x7f26c337c1d0>"
      ]
     },
     "execution_count": 6,
     "metadata": {},
     "output_type": "execute_result"
    },
    {
     "data": {
      "image/png": "[encoded data removed]",
      "text/plain": [
       "<Figure size 432x288 with 1 Axes>"
      ]
     },
     "metadata": {
      "needs_background": "light"
     },
     "output_type": "display_data"
    }
   ],
   "source": [
    "sns.barplot(y='index', x='Churn', data=df.Churn.value_counts().reset_index())"
   ]
  },
  {
   "cell_type": "markdown",
   "metadata": {
    "colab_type": "text",
    "id": "pCtuf-Tv_d82"
   },
   "source": [
    "Посмотрим какую долю занимают пенсионеры."
   ]
  },
  {
   "cell_type": "code",
   "execution_count": 7,
   "metadata": {
    "colab": {
     "base_uri": "https://localhost:8080/",
     "height": 296
    },
    "colab_type": "code",
    "id": "ZYQUaGog_d82",
    "outputId": "d4ea7123-06f2-4849-a750-de01266489bb"
   },
   "outputs": [
    {
     "data": {
      "text/plain": [
       "<matplotlib.axes._subplots.AxesSubplot at 0x7f26c3031990>"
      ]
     },
     "execution_count": 7,
     "metadata": {},
     "output_type": "execute_result"
    },
    {
     "data": {
      "image/png": "[encoded data removed]",
      "text/plain": [
       "<Figure size 432x288 with 1 Axes>"
      ]
     },
     "metadata": {
      "needs_background": "light"
     },
     "output_type": "display_data"
    }
   ],
   "source": [
    "sns.barplot(x='index', y='SeniorCitizen', data=df.SeniorCitizen.value_counts().reset_index())"
   ]
  },
  {
   "cell_type": "markdown",
   "metadata": {
    "colab_type": "text",
    "id": "33-KD27d_d82"
   },
   "source": [
    "Посмотрим распределение юзеров по полам."
   ]
  },
  {
   "cell_type": "code",
   "execution_count": 8,
   "metadata": {
    "colab": {
     "base_uri": "https://localhost:8080/",
     "height": 296
    },
    "colab_type": "code",
    "id": "QGnsCIPC_d9G",
    "outputId": "ce92793a-81f1-46eb-8fd6-ff876f4e2c6f"
   },
   "outputs": [
    {
     "data": {
      "text/plain": [
       "<matplotlib.axes._subplots.AxesSubplot at 0x7f26c3019a50>"
      ]
     },
     "execution_count": 8,
     "metadata": {},
     "output_type": "execute_result"
    },
    {
     "data": {
      "image/png": "[encoded data removed]",
      "text/plain": [
       "<Figure size 432x288 with 1 Axes>"
      ]
     },
     "metadata": {
      "needs_background": "light"
     },
     "output_type": "display_data"
    }
   ],
   "source": [
    "sns.barplot(x='index', y='gender', data=df.gender.value_counts().reset_index())"
   ]
  },
  {
   "cell_type": "markdown",
   "metadata": {
    "colab_type": "text",
    "id": "HB8f0iav_d9G"
   },
   "source": [
    "Посмотрим состоят ли клиенты в браке."
   ]
  },
  {
   "cell_type": "code",
   "execution_count": 9,
   "metadata": {
    "colab": {
     "base_uri": "https://localhost:8080/",
     "height": 296
    },
    "colab_type": "code",
    "id": "zfyGoJaN_d9W",
    "outputId": "dea55fc2-d81f-4133-e60f-288a1f748283"
   },
   "outputs": [
    {
     "data": {
      "text/plain": [
       "<matplotlib.axes._subplots.AxesSubplot at 0x7f26c2eff150>"
      ]
     },
     "execution_count": 9,
     "metadata": {},
     "output_type": "execute_result"
    },
    {
     "data": {
      "image/png": "[encoded data removed]",
      "text/plain": [
       "<Figure size 432x288 with 1 Axes>"
      ]
     },
     "metadata": {
      "needs_background": "light"
     },
     "output_type": "display_data"
    }
   ],
   "source": [
    "sns.barplot(x='index', y='Partner', data=df.Partner.value_counts().reset_index())"
   ]
  },
  {
   "cell_type": "markdown",
   "metadata": {
    "colab_type": "text",
    "id": "hbKecyFX_d9W"
   },
   "source": [
    "Посмотрим имеют ли юзеры иждивенцев."
   ]
  },
  {
   "cell_type": "code",
   "execution_count": 10,
   "metadata": {
    "colab": {
     "base_uri": "https://localhost:8080/",
     "height": 296
    },
    "colab_type": "code",
    "id": "vEp-Ybz1_d9W",
    "outputId": "557394f1-0166-4338-a191-1b7da9f6a5e6"
   },
   "outputs": [
    {
     "data": {
      "text/plain": [
       "<matplotlib.axes._subplots.AxesSubplot at 0x7f26c2ed3a90>"
      ]
     },
     "execution_count": 10,
     "metadata": {},
     "output_type": "execute_result"
    },
    {
     "data": {
      "image/png": "[encoded data removed]",
      "text/plain": [
       "<Figure size 432x288 with 1 Axes>"
      ]
     },
     "metadata": {
      "needs_background": "light"
     },
     "output_type": "display_data"
    }
   ],
   "source": [
    "sns.barplot(x='index', y='Dependents', data=df.Dependents.value_counts().reset_index())"
   ]
  },
  {
   "cell_type": "markdown",
   "metadata": {
    "colab_type": "text",
    "id": "j5iNawEb_d9W"
   },
   "source": [
    "Посмотрим сколько месяцев люди являются клиентами компании.\n",
    "Видно что очень много людей являются новыми клиентам, так же можно выделить прослойку \"старых\" клентов. Заметим странных клиетов с длительностью клиенства 0 месяцев."
   ]
  },
  {
   "cell_type": "code",
   "execution_count": 11,
   "metadata": {
    "colab": {
     "base_uri": "https://localhost:8080/",
     "height": 622
    },
    "colab_type": "code",
    "id": "fJHOPdTd_d9W",
    "outputId": "2614db35-b002-4e1a-fe57-89ffb5d9c093"
   },
   "outputs": [
    {
     "name": "stdout",
     "output_type": "stream",
     "text": [
      "Меданное значение 29.0\n"
     ]
    },
    {
     "data": {
      "image/png": "[encoded data removed]",
      "text/plain": [
       "<Figure size 1080x720 with 1 Axes>"
      ]
     },
     "metadata": {
      "needs_background": "light"
     },
     "output_type": "display_data"
    }
   ],
   "source": [
    "plt.figure(figsize=(15, 10))\n",
    "sns.barplot(x='index', y='tenure', data=df.tenure.value_counts().reset_index())\n",
    "plt.axvline(df.tenure.median(), color='r', linestyle='--')\n",
    "print(\"Меданное значение\",df.tenure.median())"
   ]
  },
  {
   "cell_type": "markdown",
   "metadata": {
    "colab_type": "text",
    "id": "i9os9Wcq_d9l"
   },
   "source": [
    "Посмотрим наличие различных услуг у пользователей.\n",
    "    Как можно заметить в основном у пользователей оформлены телефонные услуги с одной линией, но пользователей с несколькими линиями тоже не мало. Самый распространенный интернет-оператор Fiber Optic, услугами безопасности и OnlineBackup в основном не пользуются, как и DeviceProtection и TechSupport. Пользователей стриминговым ТВ и кинотеатром практически столько же сколько людей которые не пользуются данными сервисами среди интернет пользователей."
   ]
  },
  {
   "cell_type": "code",
   "execution_count": 12,
   "metadata": {
    "colab": {
     "base_uri": "https://localhost:8080/",
     "height": 1000
    },
    "colab_type": "code",
    "id": "uarEJYQ5_d9l",
    "outputId": "4b0304de-6d75-4586-e62e-77f4569698d5"
   },
   "outputs": [
    {
     "data": {
      "image/png": "[encoded data removed]",
      "text/plain": [
       "<Figure size 432x288 with 1 Axes>"
      ]
     },
     "metadata": {
      "needs_background": "light"
     },
     "output_type": "display_data"
    },
    {
     "data": {
      "image/png": "[encoded data removed]",
      "text/plain": [
       "<Figure size 432x288 with 1 Axes>"
      ]
     },
     "metadata": {
      "needs_background": "light"
     },
     "output_type": "display_data"
    },
    {
     "data": {
      "image/png": "[encoded data removed]",
      "text/plain": [
       "<Figure size 432x288 with 1 Axes>"
      ]
     },
     "metadata": {
      "needs_background": "light"
     },
     "output_type": "display_data"
    },
    {
     "data": {
      "image/png": "[encoded data removed]",
      "text/plain": [
       "<Figure size 432x288 with 1 Axes>"
      ]
     },
     "metadata": {
      "needs_background": "light"
     },
     "output_type": "display_data"
    },
    {
     "data": {
      "image/png": "[encoded data removed]",
      "text/plain": [
       "<Figure size 432x288 with 1 Axes>"
      ]
     },
     "metadata": {
      "needs_background": "light"
     },
     "output_type": "display_data"
    },
    {
     "data": {
      "image/png": "[encoded data removed]",
      "text/plain": [
       "<Figure size 432x288 with 1 Axes>"
      ]
     },
     "metadata": {
      "needs_background": "light"
     },
     "output_type": "display_data"
    },
    {
     "data": {
      "image/png": "[encoded data removed]",
      "text/plain": [
       "<Figure size 432x288 with 1 Axes>"
      ]
     },
     "metadata": {
      "needs_background": "light"
     },
     "output_type": "display_data"
    },
    {
     "data": {
      "image/png": "[encoded data removed]",
      "text/plain": [
       "<Figure size 432x288 with 1 Axes>"
      ]
     },
     "metadata": {
      "needs_background": "light"
     },
     "output_type": "display_data"
    },
    {
     "data": {
      "image/png": "[encoded data removed]",
      "text/plain": [
       "<Figure size 432x288 with 1 Axes>"
      ]
     },
     "metadata": {
      "needs_background": "light"
     },
     "output_type": "display_data"
    }
   ],
   "source": [
    "column_list = ['PhoneService', 'MultipleLines',\n",
    "       'InternetService', 'OnlineSecurity', 'OnlineBackup', 'DeviceProtection',\n",
    "       'TechSupport', 'StreamingTV', 'StreamingMovies']\n",
    "for i in column_list:\n",
    "    plt.figure(figsize=(6, 4))\n",
    "    plt.bar('index', i, data=df[i].value_counts().reset_index())\n",
    "    plt.title(i)"
   ]
  },
  {
   "cell_type": "markdown",
   "metadata": {
    "colab_type": "text",
    "id": "14x7-l09_d9l"
   },
   "source": [
    "Самый популярный тип подписки-помесячная."
   ]
  },
  {
   "cell_type": "code",
   "execution_count": 13,
   "metadata": {
    "colab": {
     "base_uri": "https://localhost:8080/",
     "height": 296
    },
    "colab_type": "code",
    "id": "sl9eaR6p_d9l",
    "outputId": "8c574fc9-5da1-4c46-8d83-b00afd97961b"
   },
   "outputs": [
    {
     "data": {
      "text/plain": [
       "<matplotlib.axes._subplots.AxesSubplot at 0x7f26c2cce5d0>"
      ]
     },
     "execution_count": 13,
     "metadata": {},
     "output_type": "execute_result"
    },
    {
     "data": {
      "image/png": "[encoded data removed]",
      "text/plain": [
       "<Figure size 432x288 with 1 Axes>"
      ]
     },
     "metadata": {
      "needs_background": "light"
     },
     "output_type": "display_data"
    }
   ],
   "source": [
    "sns.barplot(x='index', y='Contract', data=df.Contract.value_counts().reset_index())"
   ]
  },
  {
   "cell_type": "markdown",
   "metadata": {
    "colab_type": "text",
    "id": "FGDZmWd4_d91"
   },
   "source": [
    "В основном пользуются безбумажным биллингом."
   ]
  },
  {
   "cell_type": "code",
   "execution_count": 14,
   "metadata": {
    "colab": {
     "base_uri": "https://localhost:8080/",
     "height": 296
    },
    "colab_type": "code",
    "id": "y8m6WYB5_d91",
    "outputId": "7a75c8b2-dcbf-4bae-bab5-3e91a255ab1a"
   },
   "outputs": [
    {
     "data": {
      "text/plain": [
       "<matplotlib.axes._subplots.AxesSubplot at 0x7f26c5204f10>"
      ]
     },
     "execution_count": 14,
     "metadata": {},
     "output_type": "execute_result"
    },
    {
     "data": {
      "image/png": "[encoded data removed]",
      "text/plain": [
       "<Figure size 432x288 with 1 Axes>"
      ]
     },
     "metadata": {
      "needs_background": "light"
     },
     "output_type": "display_data"
    }
   ],
   "source": [
    "sns.barplot(x='index', y='PaperlessBilling', data=df.PaperlessBilling.value_counts().reset_index())"
   ]
  },
  {
   "cell_type": "markdown",
   "metadata": {
    "colab_type": "text",
    "id": "4RgdAezt_d-F"
   },
   "source": [
    "Среди способов оплаты можно выделить Electronic check, остальные способы примерно одинаковы."
   ]
  },
  {
   "cell_type": "code",
   "execution_count": 15,
   "metadata": {
    "colab": {
     "base_uri": "https://localhost:8080/",
     "height": 435
    },
    "colab_type": "code",
    "id": "d1rzQKq4_d-F",
    "outputId": "b2aab5f4-41d6-4bb0-ad00-f1e175490457"
   },
   "outputs": [
    {
     "data": {
      "text/plain": [
       "[Text(0, 0, 'Electronic check'),\n",
       " Text(0, 0, 'Mailed check'),\n",
       " Text(0, 0, 'Bank transfer (automatic)'),\n",
       " Text(0, 0, 'Credit card (automatic)')]"
      ]
     },
     "execution_count": 15,
     "metadata": {},
     "output_type": "execute_result"
    },
    {
     "data": {
      "image/png": "[encoded data removed]",
      "text/plain": [
       "<Figure size 432x288 with 1 Axes>"
      ]
     },
     "metadata": {
      "needs_background": "light"
     },
     "output_type": "display_data"
    }
   ],
   "source": [
    "ax = sns.barplot(x='index', y='PaymentMethod', data=df.PaymentMethod.value_counts().reset_index())\n",
    "ax.set_xticklabels(ax.get_xticklabels(), rotation=45)"
   ]
  },
  {
   "cell_type": "markdown",
   "metadata": {
    "colab_type": "text",
    "id": "g__7RBdO_d-F"
   },
   "source": [
    "В стоимости услуг которую платят пользователи можно отметить два центра: в районе 20 в месяц и более 70."
   ]
  },
  {
   "cell_type": "code",
   "execution_count": 16,
   "metadata": {
    "colab": {
     "base_uri": "https://localhost:8080/",
     "height": 458
    },
    "colab_type": "code",
    "id": "pdFGrUKe_d-F",
    "outputId": "8b234e81-1e36-42bf-c46d-425b1dfe715c"
   },
   "outputs": [
    {
     "data": {
      "text/plain": [
       "<seaborn.axisgrid.JointGrid at 0x7f26c2b125d0>"
      ]
     },
     "execution_count": 16,
     "metadata": {},
     "output_type": "execute_result"
    },
    {
     "data": {
      "image/png": "[encoded data removed]",
      "text/plain": [
       "<Figure size 432x432 with 3 Axes>"
      ]
     },
     "metadata": {
      "needs_background": "light"
     },
     "output_type": "display_data"
    }
   ],
   "source": [
    "sns.jointplot(x='MonthlyCharges',y='tenure',data=df,kind=\"kde\")"
   ]
  },
  {
   "cell_type": "markdown",
   "metadata": {
    "colab_type": "text",
    "id": "8Xt_lXyL_d-U"
   },
   "source": [
    "Преобразуем колонку TotalCharges к Float."
   ]
  },
  {
   "cell_type": "code",
   "execution_count": 17,
   "metadata": {
    "colab": {},
    "colab_type": "code",
    "id": "k5tMvrDr_d-U"
   },
   "outputs": [],
   "source": [
    "df['TotalCharges'] = pd.to_numeric(df.TotalCharges, errors='coerce')"
   ]
  },
  {
   "cell_type": "markdown",
   "metadata": {
    "colab_type": "text",
    "id": "dZyjkTRy_d-U"
   },
   "source": [
    "Находим людей с не заполненным полем TotalCharges, это оказываются те \"странные\" пользователи с 0 месецем членства. Так как у них есть подключенные услуги, заполним поле TotalCharges предположив что это новые пользоватли, которые ещё ни разу не оплачивали услуги, и которые должны будут оплатить 1 месяц."
   ]
  },
  {
   "cell_type": "code",
   "execution_count": 18,
   "metadata": {
    "colab": {
     "base_uri": "https://localhost:8080/",
     "height": 548
    },
    "colab_type": "code",
    "id": "eQ9HFlL3_d-U",
    "outputId": "c6f2da94-c41f-45bc-c5af-b7585aff3605"
   },
   "outputs": [
    {
     "data": {
      "text/html": [
       "<div>\n",
       "<style scoped>\n",
       "    .dataframe tbody tr th:only-of-type {\n",
       "        vertical-align: middle;\n",
       "    }\n",
       "\n",
       "    .dataframe tbody tr th {\n",
       "        vertical-align: top;\n",
       "    }\n",
       "\n",
       "    .dataframe thead th {\n",
       "        text-align: right;\n",
       "    }\n",
       "</style>\n",
       "<table border=\"1\" class=\"dataframe\">\n",
       "  <thead>\n",
       "    <tr style=\"text-align: right;\">\n",
       "      <th></th>\n",
       "      <th>Unnamed: 0</th>\n",
       "      <th>customerID</th>\n",
       "      <th>gender</th>\n",
       "      <th>SeniorCitizen</th>\n",
       "      <th>Partner</th>\n",
       "      <th>Dependents</th>\n",
       "      <th>tenure</th>\n",
       "      <th>PhoneService</th>\n",
       "      <th>MultipleLines</th>\n",
       "      <th>InternetService</th>\n",
       "      <th>...</th>\n",
       "      <th>DeviceProtection</th>\n",
       "      <th>TechSupport</th>\n",
       "      <th>StreamingTV</th>\n",
       "      <th>StreamingMovies</th>\n",
       "      <th>Contract</th>\n",
       "      <th>PaperlessBilling</th>\n",
       "      <th>PaymentMethod</th>\n",
       "      <th>MonthlyCharges</th>\n",
       "      <th>TotalCharges</th>\n",
       "      <th>Churn</th>\n",
       "    </tr>\n",
       "  </thead>\n",
       "  <tbody>\n",
       "    <tr>\n",
       "      <th>356</th>\n",
       "      <td>6754</td>\n",
       "      <td>2775-SEFEE</td>\n",
       "      <td>Male</td>\n",
       "      <td>0</td>\n",
       "      <td>No</td>\n",
       "      <td>Yes</td>\n",
       "      <td>0</td>\n",
       "      <td>Yes</td>\n",
       "      <td>Yes</td>\n",
       "      <td>DSL</td>\n",
       "      <td>...</td>\n",
       "      <td>No</td>\n",
       "      <td>Yes</td>\n",
       "      <td>No</td>\n",
       "      <td>No</td>\n",
       "      <td>Two year</td>\n",
       "      <td>Yes</td>\n",
       "      <td>Bank transfer (automatic)</td>\n",
       "      <td>61.90</td>\n",
       "      <td>NaN</td>\n",
       "      <td>No</td>\n",
       "    </tr>\n",
       "    <tr>\n",
       "      <th>634</th>\n",
       "      <td>1340</td>\n",
       "      <td>1371-DWPAZ</td>\n",
       "      <td>Female</td>\n",
       "      <td>0</td>\n",
       "      <td>Yes</td>\n",
       "      <td>Yes</td>\n",
       "      <td>0</td>\n",
       "      <td>No</td>\n",
       "      <td>No phone service</td>\n",
       "      <td>DSL</td>\n",
       "      <td>...</td>\n",
       "      <td>Yes</td>\n",
       "      <td>Yes</td>\n",
       "      <td>Yes</td>\n",
       "      <td>No</td>\n",
       "      <td>Two year</td>\n",
       "      <td>No</td>\n",
       "      <td>Credit card (automatic)</td>\n",
       "      <td>56.05</td>\n",
       "      <td>NaN</td>\n",
       "      <td>No</td>\n",
       "    </tr>\n",
       "    <tr>\n",
       "      <th>2771</th>\n",
       "      <td>3826</td>\n",
       "      <td>3213-VVOLG</td>\n",
       "      <td>Male</td>\n",
       "      <td>0</td>\n",
       "      <td>Yes</td>\n",
       "      <td>Yes</td>\n",
       "      <td>0</td>\n",
       "      <td>Yes</td>\n",
       "      <td>Yes</td>\n",
       "      <td>No</td>\n",
       "      <td>...</td>\n",
       "      <td>No internet service</td>\n",
       "      <td>No internet service</td>\n",
       "      <td>No internet service</td>\n",
       "      <td>No internet service</td>\n",
       "      <td>Two year</td>\n",
       "      <td>No</td>\n",
       "      <td>Mailed check</td>\n",
       "      <td>25.35</td>\n",
       "      <td>NaN</td>\n",
       "      <td>No</td>\n",
       "    </tr>\n",
       "    <tr>\n",
       "      <th>3086</th>\n",
       "      <td>5218</td>\n",
       "      <td>2923-ARZLG</td>\n",
       "      <td>Male</td>\n",
       "      <td>0</td>\n",
       "      <td>Yes</td>\n",
       "      <td>Yes</td>\n",
       "      <td>0</td>\n",
       "      <td>Yes</td>\n",
       "      <td>No</td>\n",
       "      <td>No</td>\n",
       "      <td>...</td>\n",
       "      <td>No internet service</td>\n",
       "      <td>No internet service</td>\n",
       "      <td>No internet service</td>\n",
       "      <td>No internet service</td>\n",
       "      <td>One year</td>\n",
       "      <td>Yes</td>\n",
       "      <td>Mailed check</td>\n",
       "      <td>19.70</td>\n",
       "      <td>NaN</td>\n",
       "      <td>No</td>\n",
       "    </tr>\n",
       "    <tr>\n",
       "      <th>3255</th>\n",
       "      <td>3331</td>\n",
       "      <td>7644-OMVMY</td>\n",
       "      <td>Male</td>\n",
       "      <td>0</td>\n",
       "      <td>Yes</td>\n",
       "      <td>Yes</td>\n",
       "      <td>0</td>\n",
       "      <td>Yes</td>\n",
       "      <td>No</td>\n",
       "      <td>No</td>\n",
       "      <td>...</td>\n",
       "      <td>No internet service</td>\n",
       "      <td>No internet service</td>\n",
       "      <td>No internet service</td>\n",
       "      <td>No internet service</td>\n",
       "      <td>Two year</td>\n",
       "      <td>No</td>\n",
       "      <td>Mailed check</td>\n",
       "      <td>19.85</td>\n",
       "      <td>NaN</td>\n",
       "      <td>No</td>\n",
       "    </tr>\n",
       "    <tr>\n",
       "      <th>4326</th>\n",
       "      <td>936</td>\n",
       "      <td>5709-LVOEQ</td>\n",
       "      <td>Female</td>\n",
       "      <td>0</td>\n",
       "      <td>Yes</td>\n",
       "      <td>Yes</td>\n",
       "      <td>0</td>\n",
       "      <td>Yes</td>\n",
       "      <td>No</td>\n",
       "      <td>DSL</td>\n",
       "      <td>...</td>\n",
       "      <td>Yes</td>\n",
       "      <td>No</td>\n",
       "      <td>Yes</td>\n",
       "      <td>Yes</td>\n",
       "      <td>Two year</td>\n",
       "      <td>No</td>\n",
       "      <td>Mailed check</td>\n",
       "      <td>80.85</td>\n",
       "      <td>NaN</td>\n",
       "      <td>No</td>\n",
       "    </tr>\n",
       "    <tr>\n",
       "      <th>5375</th>\n",
       "      <td>753</td>\n",
       "      <td>3115-CZMZD</td>\n",
       "      <td>Male</td>\n",
       "      <td>0</td>\n",
       "      <td>No</td>\n",
       "      <td>Yes</td>\n",
       "      <td>0</td>\n",
       "      <td>Yes</td>\n",
       "      <td>No</td>\n",
       "      <td>No</td>\n",
       "      <td>...</td>\n",
       "      <td>No internet service</td>\n",
       "      <td>No internet service</td>\n",
       "      <td>No internet service</td>\n",
       "      <td>No internet service</td>\n",
       "      <td>Two year</td>\n",
       "      <td>No</td>\n",
       "      <td>Mailed check</td>\n",
       "      <td>20.25</td>\n",
       "      <td>NaN</td>\n",
       "      <td>No</td>\n",
       "    </tr>\n",
       "    <tr>\n",
       "      <th>5382</th>\n",
       "      <td>4380</td>\n",
       "      <td>2520-SGTTA</td>\n",
       "      <td>Female</td>\n",
       "      <td>0</td>\n",
       "      <td>Yes</td>\n",
       "      <td>Yes</td>\n",
       "      <td>0</td>\n",
       "      <td>Yes</td>\n",
       "      <td>No</td>\n",
       "      <td>No</td>\n",
       "      <td>...</td>\n",
       "      <td>No internet service</td>\n",
       "      <td>No internet service</td>\n",
       "      <td>No internet service</td>\n",
       "      <td>No internet service</td>\n",
       "      <td>Two year</td>\n",
       "      <td>No</td>\n",
       "      <td>Mailed check</td>\n",
       "      <td>20.00</td>\n",
       "      <td>NaN</td>\n",
       "      <td>No</td>\n",
       "    </tr>\n",
       "    <tr>\n",
       "      <th>5695</th>\n",
       "      <td>488</td>\n",
       "      <td>4472-LVYGI</td>\n",
       "      <td>Female</td>\n",
       "      <td>0</td>\n",
       "      <td>Yes</td>\n",
       "      <td>Yes</td>\n",
       "      <td>0</td>\n",
       "      <td>No</td>\n",
       "      <td>No phone service</td>\n",
       "      <td>DSL</td>\n",
       "      <td>...</td>\n",
       "      <td>Yes</td>\n",
       "      <td>Yes</td>\n",
       "      <td>Yes</td>\n",
       "      <td>No</td>\n",
       "      <td>Two year</td>\n",
       "      <td>Yes</td>\n",
       "      <td>Bank transfer (automatic)</td>\n",
       "      <td>52.55</td>\n",
       "      <td>NaN</td>\n",
       "      <td>No</td>\n",
       "    </tr>\n",
       "    <tr>\n",
       "      <th>5951</th>\n",
       "      <td>1082</td>\n",
       "      <td>4367-NUYAO</td>\n",
       "      <td>Male</td>\n",
       "      <td>0</td>\n",
       "      <td>Yes</td>\n",
       "      <td>Yes</td>\n",
       "      <td>0</td>\n",
       "      <td>Yes</td>\n",
       "      <td>Yes</td>\n",
       "      <td>No</td>\n",
       "      <td>...</td>\n",
       "      <td>No internet service</td>\n",
       "      <td>No internet service</td>\n",
       "      <td>No internet service</td>\n",
       "      <td>No internet service</td>\n",
       "      <td>Two year</td>\n",
       "      <td>No</td>\n",
       "      <td>Mailed check</td>\n",
       "      <td>25.75</td>\n",
       "      <td>NaN</td>\n",
       "      <td>No</td>\n",
       "    </tr>\n",
       "  </tbody>\n",
       "</table>\n",
       "<p>10 rows × 22 columns</p>\n",
       "</div>"
      ],
      "text/plain": [
       "      Unnamed: 0  customerID  gender  SeniorCitizen Partner Dependents  \\\n",
       "356         6754  2775-SEFEE    Male              0      No        Yes   \n",
       "634         1340  1371-DWPAZ  Female              0     Yes        Yes   \n",
       "2771        3826  3213-VVOLG    Male              0     Yes        Yes   \n",
       "3086        5218  2923-ARZLG    Male              0     Yes        Yes   \n",
       "3255        3331  7644-OMVMY    Male              0     Yes        Yes   \n",
       "4326         936  5709-LVOEQ  Female              0     Yes        Yes   \n",
       "5375         753  3115-CZMZD    Male              0      No        Yes   \n",
       "5382        4380  2520-SGTTA  Female              0     Yes        Yes   \n",
       "5695         488  4472-LVYGI  Female              0     Yes        Yes   \n",
       "5951        1082  4367-NUYAO    Male              0     Yes        Yes   \n",
       "\n",
       "      tenure PhoneService     MultipleLines InternetService  ...  \\\n",
       "356        0          Yes               Yes             DSL  ...   \n",
       "634        0           No  No phone service             DSL  ...   \n",
       "2771       0          Yes               Yes              No  ...   \n",
       "3086       0          Yes                No              No  ...   \n",
       "3255       0          Yes                No              No  ...   \n",
       "4326       0          Yes                No             DSL  ...   \n",
       "5375       0          Yes                No              No  ...   \n",
       "5382       0          Yes                No              No  ...   \n",
       "5695       0           No  No phone service             DSL  ...   \n",
       "5951       0          Yes               Yes              No  ...   \n",
       "\n",
       "         DeviceProtection          TechSupport          StreamingTV  \\\n",
       "356                    No                  Yes                   No   \n",
       "634                   Yes                  Yes                  Yes   \n",
       "2771  No internet service  No internet service  No internet service   \n",
       "3086  No internet service  No internet service  No internet service   \n",
       "3255  No internet service  No internet service  No internet service   \n",
       "4326                  Yes                   No                  Yes   \n",
       "5375  No internet service  No internet service  No internet service   \n",
       "5382  No internet service  No internet service  No internet service   \n",
       "5695                  Yes                  Yes                  Yes   \n",
       "5951  No internet service  No internet service  No internet service   \n",
       "\n",
       "          StreamingMovies  Contract PaperlessBilling  \\\n",
       "356                    No  Two year              Yes   \n",
       "634                    No  Two year               No   \n",
       "2771  No internet service  Two year               No   \n",
       "3086  No internet service  One year              Yes   \n",
       "3255  No internet service  Two year               No   \n",
       "4326                  Yes  Two year               No   \n",
       "5375  No internet service  Two year               No   \n",
       "5382  No internet service  Two year               No   \n",
       "5695                   No  Two year              Yes   \n",
       "5951  No internet service  Two year               No   \n",
       "\n",
       "                  PaymentMethod MonthlyCharges TotalCharges  Churn  \n",
       "356   Bank transfer (automatic)          61.90          NaN     No  \n",
       "634     Credit card (automatic)          56.05          NaN     No  \n",
       "2771               Mailed check          25.35          NaN     No  \n",
       "3086               Mailed check          19.70          NaN     No  \n",
       "3255               Mailed check          19.85          NaN     No  \n",
       "4326               Mailed check          80.85          NaN     No  \n",
       "5375               Mailed check          20.25          NaN     No  \n",
       "5382               Mailed check          20.00          NaN     No  \n",
       "5695  Bank transfer (automatic)          52.55          NaN     No  \n",
       "5951               Mailed check          25.75          NaN     No  \n",
       "\n",
       "[10 rows x 22 columns]"
      ]
     },
     "execution_count": 18,
     "metadata": {},
     "output_type": "execute_result"
    }
   ],
   "source": [
    "df[df.TotalCharges.isnull() == True]"
   ]
  },
  {
   "cell_type": "code",
   "execution_count": 19,
   "metadata": {
    "colab": {},
    "colab_type": "code",
    "id": "e_UuPuPU_d-k"
   },
   "outputs": [],
   "source": [
    "df.loc[df.TotalCharges.isnull() == True, 'tenure'] = 1"
   ]
  },
  {
   "cell_type": "code",
   "execution_count": 20,
   "metadata": {
    "colab": {},
    "colab_type": "code",
    "id": "q8XzxPy7_d-k"
   },
   "outputs": [],
   "source": [
    "df.loc[df.TotalCharges.isnull() == True, 'TotalCharges'] = df[df.TotalCharges.isnull() == True].MonthlyCharges"
   ]
  },
  {
   "cell_type": "markdown",
   "metadata": {
    "colab_type": "text",
    "id": "pRp7S8Oy_d-k"
   },
   "source": [
    "Посмотрим кто платит больше новые или старые клиенты."
   ]
  },
  {
   "cell_type": "code",
   "execution_count": 21,
   "metadata": {
    "colab": {
     "base_uri": "https://localhost:8080/",
     "height": 458
    },
    "colab_type": "code",
    "id": "4iHbNa3W_d-k",
    "outputId": "705edc77-af12-46dc-bb12-77f195936d3b"
   },
   "outputs": [
    {
     "data": {
      "text/plain": [
       "<seaborn.axisgrid.JointGrid at 0x7f26c2972150>"
      ]
     },
     "execution_count": 21,
     "metadata": {},
     "output_type": "execute_result"
    },
    {
     "data": {
      "image/png": "[encoded data removed]",
      "text/plain": [
       "<Figure size 432x432 with 3 Axes>"
      ]
     },
     "metadata": {
      "needs_background": "light"
     },
     "output_type": "display_data"
    }
   ],
   "source": [
    "sns.jointplot(x='TotalCharges',y='tenure',data=df,kind=\"kde\")"
   ]
  },
  {
   "cell_type": "code",
   "execution_count": 22,
   "metadata": {
    "colab": {
     "base_uri": "https://localhost:8080/",
     "height": 284
    },
    "colab_type": "code",
    "id": "2wcChjUU_d-k",
    "outputId": "e15bf69a-1eec-45da-d640-a68a6867d740"
   },
   "outputs": [
    {
     "data": {
      "text/html": [
       "<div>\n",
       "<style scoped>\n",
       "    .dataframe tbody tr th:only-of-type {\n",
       "        vertical-align: middle;\n",
       "    }\n",
       "\n",
       "    .dataframe tbody tr th {\n",
       "        vertical-align: top;\n",
       "    }\n",
       "\n",
       "    .dataframe thead th {\n",
       "        text-align: right;\n",
       "    }\n",
       "</style>\n",
       "<table border=\"1\" class=\"dataframe\">\n",
       "  <thead>\n",
       "    <tr style=\"text-align: right;\">\n",
       "      <th></th>\n",
       "      <th>Unnamed: 0</th>\n",
       "      <th>SeniorCitizen</th>\n",
       "      <th>tenure</th>\n",
       "      <th>MonthlyCharges</th>\n",
       "      <th>TotalCharges</th>\n",
       "    </tr>\n",
       "  </thead>\n",
       "  <tbody>\n",
       "    <tr>\n",
       "      <th>count</th>\n",
       "      <td>5986.000000</td>\n",
       "      <td>5986.000000</td>\n",
       "      <td>5986.000000</td>\n",
       "      <td>5986.000000</td>\n",
       "      <td>5986.000000</td>\n",
       "    </tr>\n",
       "    <tr>\n",
       "      <th>mean</th>\n",
       "      <td>3533.561310</td>\n",
       "      <td>0.161377</td>\n",
       "      <td>32.470431</td>\n",
       "      <td>64.802213</td>\n",
       "      <td>2294.285416</td>\n",
       "    </tr>\n",
       "    <tr>\n",
       "      <th>std</th>\n",
       "      <td>2035.705666</td>\n",
       "      <td>0.367909</td>\n",
       "      <td>24.514212</td>\n",
       "      <td>30.114702</td>\n",
       "      <td>2274.100395</td>\n",
       "    </tr>\n",
       "    <tr>\n",
       "      <th>min</th>\n",
       "      <td>0.000000</td>\n",
       "      <td>0.000000</td>\n",
       "      <td>1.000000</td>\n",
       "      <td>18.250000</td>\n",
       "      <td>18.800000</td>\n",
       "    </tr>\n",
       "    <tr>\n",
       "      <th>25%</th>\n",
       "      <td>1777.250000</td>\n",
       "      <td>0.000000</td>\n",
       "      <td>9.000000</td>\n",
       "      <td>35.650000</td>\n",
       "      <td>401.587500</td>\n",
       "    </tr>\n",
       "    <tr>\n",
       "      <th>50%</th>\n",
       "      <td>3546.500000</td>\n",
       "      <td>0.000000</td>\n",
       "      <td>29.000000</td>\n",
       "      <td>70.400000</td>\n",
       "      <td>1408.575000</td>\n",
       "    </tr>\n",
       "    <tr>\n",
       "      <th>75%</th>\n",
       "      <td>5291.750000</td>\n",
       "      <td>0.000000</td>\n",
       "      <td>56.000000</td>\n",
       "      <td>89.900000</td>\n",
       "      <td>3841.500000</td>\n",
       "    </tr>\n",
       "    <tr>\n",
       "      <th>max</th>\n",
       "      <td>7042.000000</td>\n",
       "      <td>1.000000</td>\n",
       "      <td>72.000000</td>\n",
       "      <td>118.750000</td>\n",
       "      <td>8684.800000</td>\n",
       "    </tr>\n",
       "  </tbody>\n",
       "</table>\n",
       "</div>"
      ],
      "text/plain": [
       "        Unnamed: 0  SeniorCitizen       tenure  MonthlyCharges  TotalCharges\n",
       "count  5986.000000    5986.000000  5986.000000     5986.000000   5986.000000\n",
       "mean   3533.561310       0.161377    32.470431       64.802213   2294.285416\n",
       "std    2035.705666       0.367909    24.514212       30.114702   2274.100395\n",
       "min       0.000000       0.000000     1.000000       18.250000     18.800000\n",
       "25%    1777.250000       0.000000     9.000000       35.650000    401.587500\n",
       "50%    3546.500000       0.000000    29.000000       70.400000   1408.575000\n",
       "75%    5291.750000       0.000000    56.000000       89.900000   3841.500000\n",
       "max    7042.000000       1.000000    72.000000      118.750000   8684.800000"
      ]
     },
     "execution_count": 22,
     "metadata": {},
     "output_type": "execute_result"
    }
   ],
   "source": [
    "df.describe()"
   ]
  },
  {
   "cell_type": "markdown",
   "metadata": {
    "colab_type": "text",
    "id": "MsYGAP5Z_d-k"
   },
   "source": [
    "Количество месяцев клиентства: минимальное-1, максимальное-72, среднее-32, медиана-29.\n",
    "Оплата в месяц: минимальное-18.25, максимальное-118.75, среднее-64.8, медиана-70.4.\n",
    "Оплата в общем: минимальное-18.8, максимальное-8684.8, среднее-2294.29, медиана-1408.58."
   ]
  },
  {
   "cell_type": "markdown",
   "metadata": {
    "colab_type": "text",
    "id": "TDUhZEKyVYSN"
   },
   "source": [
    "# 2. Исследование зависимостей и формулирование гипотез"
   ]
  },
  {
   "cell_type": "markdown",
   "metadata": {
    "colab_type": "text",
    "id": "QQMPsHS3_d-k"
   },
   "source": [
    "Из эмперического опыта предполагается, что новые пользователи уходят чаще чем старые. Докажем это найдя медеаное количество месяцев подписки среди ущедших клиентов и оставшихся"
   ]
  },
  {
   "cell_type": "code",
   "execution_count": 23,
   "metadata": {
    "colab": {
     "base_uri": "https://localhost:8080/",
     "height": 84
    },
    "colab_type": "code",
    "id": "jOfa3nyv_d-k",
    "outputId": "bef5864b-f5cf-48a0-faa5-c24e68838680"
   },
   "outputs": [
    {
     "data": {
      "text/plain": [
       "Churn\n",
       "No     37\n",
       "Yes    10\n",
       "Name: tenure, dtype: int64"
      ]
     },
     "execution_count": 23,
     "metadata": {},
     "output_type": "execute_result"
    }
   ],
   "source": [
    "df.groupby(['Churn']).tenure.median()"
   ]
  },
  {
   "cell_type": "markdown",
   "metadata": {
    "colab_type": "text",
    "id": "iS9qecoF_d-z"
   },
   "source": [
    "Цена один с основополагающих факторов притягательности сервиса. Взглянем на то сколько платят разные клиенты в месяц и их срок пользования сервисом."
   ]
  },
  {
   "cell_type": "code",
   "execution_count": 24,
   "metadata": {
    "colab": {
     "base_uri": "https://localhost:8080/",
     "height": 296
    },
    "colab_type": "code",
    "id": "eJbjifIw_d-z",
    "outputId": "037705ee-7b40-4a63-f4e7-88a779cefdfd"
   },
   "outputs": [
    {
     "data": {
      "text/plain": [
       "<matplotlib.axes._subplots.AxesSubplot at 0x7f26c2972dd0>"
      ]
     },
     "execution_count": 24,
     "metadata": {},
     "output_type": "execute_result"
    },
    {
     "data": {
      "image/png": "[encoded data removed]",
      "text/plain": [
       "<Figure size 432x288 with 1 Axes>"
      ]
     },
     "metadata": {
      "needs_background": "light"
     },
     "output_type": "display_data"
    }
   ],
   "source": [
    "sns.scatterplot(x='tenure', y='MonthlyCharges' ,hue='Churn', data=df)"
   ]
  },
  {
   "cell_type": "markdown",
   "metadata": {
    "colab_type": "text",
    "id": "_mETV1zH_d-z"
   },
   "source": [
    "Как мы можем наблюдать ползователи, покинувшие сервис, зачастую платили больше в месяц при том что они пользовались сервисом не так долго."
   ]
  },
  {
   "cell_type": "code",
   "execution_count": 25,
   "metadata": {
    "colab": {
     "base_uri": "https://localhost:8080/",
     "height": 296
    },
    "colab_type": "code",
    "id": "8uPmmY_e_d-z",
    "outputId": "cd926304-283f-4bed-ac47-0cec5929f27b"
   },
   "outputs": [
    {
     "data": {
      "text/plain": [
       "<matplotlib.axes._subplots.AxesSubplot at 0x7f26c2cdfb50>"
      ]
     },
     "execution_count": 25,
     "metadata": {},
     "output_type": "execute_result"
    },
    {
     "data": {
      "image/png": "[encoded data removed]",
      "text/plain": [
       "<Figure size 432x288 with 1 Axes>"
      ]
     },
     "metadata": {
      "needs_background": "light"
     },
     "output_type": "display_data"
    }
   ],
   "source": [
    "sns.scatterplot(x='MonthlyCharges', y='TotalCharges' ,hue='Churn', data=df)"
   ]
  },
  {
   "cell_type": "code",
   "execution_count": 26,
   "metadata": {
    "colab": {
     "base_uri": "https://localhost:8080/",
     "height": 134
    },
    "colab_type": "code",
    "id": "pcxUfiYc_d-z",
    "outputId": "c3435fd4-bed4-4574-b77d-e58045808693"
   },
   "outputs": [
    {
     "data": {
      "text/plain": [
       "Index(['Unnamed: 0', 'customerID', 'gender', 'SeniorCitizen', 'Partner',\n",
       "       'Dependents', 'tenure', 'PhoneService', 'MultipleLines',\n",
       "       'InternetService', 'OnlineSecurity', 'OnlineBackup', 'DeviceProtection',\n",
       "       'TechSupport', 'StreamingTV', 'StreamingMovies', 'Contract',\n",
       "       'PaperlessBilling', 'PaymentMethod', 'MonthlyCharges', 'TotalCharges',\n",
       "       'Churn'],\n",
       "      dtype='object')"
      ]
     },
     "execution_count": 26,
     "metadata": {},
     "output_type": "execute_result"
    }
   ],
   "source": [
    "df.columns"
   ]
  },
  {
   "cell_type": "markdown",
   "metadata": {
    "colab_type": "text",
    "id": "PppVfO_K_d_D"
   },
   "source": [
    "Вглянем на разницу медианного значения оплаты в месяц среди оставшихся и ушедших пользователей."
   ]
  },
  {
   "cell_type": "code",
   "execution_count": 27,
   "metadata": {
    "colab": {
     "base_uri": "https://localhost:8080/",
     "height": 84
    },
    "colab_type": "code",
    "id": "ZrKxjfh2_d_D",
    "outputId": "579f346c-4ff8-4855-b00d-d17ed62bb416"
   },
   "outputs": [
    {
     "data": {
      "text/plain": [
       "Churn\n",
       "No     64.75\n",
       "Yes    79.50\n",
       "Name: MonthlyCharges, dtype: float64"
      ]
     },
     "execution_count": 27,
     "metadata": {},
     "output_type": "execute_result"
    }
   ],
   "source": [
    "df.groupby(['Churn'])['MonthlyCharges'].median()"
   ]
  },
  {
   "cell_type": "code",
   "execution_count": 28,
   "metadata": {
    "colab": {
     "base_uri": "https://localhost:8080/",
     "height": 84
    },
    "colab_type": "code",
    "id": "x7VagKfK_d_D",
    "outputId": "23015a4a-d19f-42ae-f621-9372430f737b"
   },
   "outputs": [
    {
     "data": {
      "text/plain": [
       "Churn\n",
       "No     61.424506\n",
       "Yes    74.164871\n",
       "Name: MonthlyCharges, dtype: float64"
      ]
     },
     "execution_count": 28,
     "metadata": {},
     "output_type": "execute_result"
    }
   ],
   "source": [
    "df.groupby(['Churn'])['MonthlyCharges'].mean()"
   ]
  },
  {
   "cell_type": "markdown",
   "metadata": {
    "colab_type": "text",
    "id": "Ur_Cps7K_d_D"
   },
   "source": [
    "Предполагается что эту разницу можно объяснить тем что новые пользователи подписанны на множество услуг."
   ]
  },
  {
   "cell_type": "code",
   "execution_count": 29,
   "metadata": {
    "colab": {
     "base_uri": "https://localhost:8080/",
     "height": 1000
    },
    "colab_type": "code",
    "id": "2mIl3dFs_d_D",
    "outputId": "f8b9754c-acb1-4335-86a0-446435c5f044"
   },
   "outputs": [
    {
     "name": "stdout",
     "output_type": "stream",
     "text": [
      "Churn  PhoneService\n",
      "No     Yes             0.899750\n",
      "       No              0.100250\n",
      "Yes    Yes             0.906112\n",
      "       No              0.093888\n",
      "Name: PhoneService, dtype: float64\n",
      "Churn  MultipleLines   \n",
      "No     No                  0.484883\n",
      "       Yes                 0.414867\n",
      "       No phone service    0.100250\n",
      "Yes    Yes                 0.455577\n",
      "       No                  0.450536\n",
      "       No phone service    0.093888\n",
      "dtype: float64\n",
      "Churn  InternetService\n",
      "No     DSL                0.379859\n",
      "       Fiber optic        0.349170\n",
      "       No                 0.270971\n",
      "Yes    Fiber optic        0.687461\n",
      "       DSL                0.250158\n",
      "       No                 0.062382\n",
      "dtype: float64\n",
      "Churn  OnlineSecurity     \n",
      "No     No                     0.395544\n",
      "       Yes                    0.333485\n",
      "       No internet service    0.270971\n",
      "Yes    No                     0.782609\n",
      "       Yes                    0.155009\n",
      "       No internet service    0.062382\n",
      "dtype: float64\n",
      "Churn  OnlineBackup       \n",
      "No     Yes                    0.372812\n",
      "       No                     0.356217\n",
      "       No internet service    0.270971\n",
      "Yes    No                     0.654064\n",
      "       Yes                    0.283554\n",
      "       No internet service    0.062382\n",
      "dtype: float64\n",
      "Churn  DeviceProtection   \n",
      "No     No                     0.365765\n",
      "       Yes                    0.363264\n",
      "       No internet service    0.270971\n",
      "Yes    No                     0.649653\n",
      "       Yes                    0.287965\n",
      "       No internet service    0.062382\n",
      "dtype: float64\n",
      "Churn  TechSupport        \n",
      "No     No                     0.395090\n",
      "       Yes                    0.333940\n",
      "       No internet service    0.270971\n",
      "Yes    No                     0.770006\n",
      "       Yes                    0.167612\n",
      "       No internet service    0.062382\n",
      "dtype: float64\n",
      "Churn  StreamingTV        \n",
      "No     Yes                    0.367584\n",
      "       No                     0.361446\n",
      "       No internet service    0.270971\n",
      "Yes    No                     0.503466\n",
      "       Yes                    0.434152\n",
      "       No internet service    0.062382\n",
      "dtype: float64\n",
      "Churn  StreamingMovies    \n",
      "No     Yes                    0.373494\n",
      "       No                     0.355535\n",
      "       No internet service    0.270971\n",
      "Yes    No                     0.499055\n",
      "       Yes                    0.438563\n",
      "       No internet service    0.062382\n",
      "dtype: float64\n"
     ]
    }
   ],
   "source": [
    "print(df.groupby(['Churn']).PhoneService.value_counts()/df.groupby(['Churn']).PhoneService.count())\n",
    "print(df.groupby(['Churn'])['MultipleLines'].value_counts()/df.groupby(['Churn']).PhoneService.count())\n",
    "print(df.groupby(['Churn'])['InternetService'].value_counts()/df.groupby(['Churn']).PhoneService.count())\n",
    "print(df.groupby(['Churn'])['OnlineSecurity'].value_counts()/df.groupby(['Churn']).PhoneService.count())\n",
    "print(df.groupby(['Churn'])['OnlineBackup'].value_counts()/df.groupby(['Churn']).PhoneService.count())\n",
    "print(df.groupby(['Churn'])['DeviceProtection'].value_counts()/df.groupby(['Churn']).PhoneService.count())\n",
    "print(df.groupby(['Churn'])['TechSupport'].value_counts()/df.groupby(['Churn']).PhoneService.count())\n",
    "print(df.groupby(['Churn'])['StreamingTV'].value_counts()/df.groupby(['Churn']).PhoneService.count())\n",
    "print(df.groupby(['Churn'])['StreamingMovies'].value_counts()/df.groupby(['Churn']).PhoneService.count())"
   ]
  },
  {
   "cell_type": "markdown",
   "metadata": {
    "colab_type": "text",
    "id": "O03cF64G_d_D"
   },
   "source": [
    "Как мы видим из отношения ппользователей которые пользуются услугами ко всем пользователям. Ушедшие пользователи недополучают услуги( кроме стриминвого ТВ и кино), при этом в среднем они платят больше."
   ]
  },
  {
   "cell_type": "markdown",
   "metadata": {
    "colab_type": "text",
    "id": "l4vhyBWk_d_D"
   },
   "source": [
    "Посмотрим какой тип подписки предпочитают пользователи."
   ]
  },
  {
   "cell_type": "code",
   "execution_count": 30,
   "metadata": {
    "colab": {
     "base_uri": "https://localhost:8080/",
     "height": 151
    },
    "colab_type": "code",
    "id": "w8BA5W8Z_d_D",
    "outputId": "325c664b-801d-40a9-d348-860a69f016af"
   },
   "outputs": [
    {
     "data": {
      "text/plain": [
       "Churn  Contract      \n",
       "No     Month-to-month    1871\n",
       "       Two year          1400\n",
       "       One year          1128\n",
       "Yes    Month-to-month    1398\n",
       "       One year           148\n",
       "       Two year            41\n",
       "Name: Contract, dtype: int64"
      ]
     },
     "execution_count": 30,
     "metadata": {},
     "output_type": "execute_result"
    }
   ],
   "source": [
    "df.groupby(['Churn'])['Contract'].value_counts()"
   ]
  },
  {
   "cell_type": "markdown",
   "metadata": {
    "colab_type": "text",
    "id": "TfuFHrh1_d_T"
   },
   "source": [
    "Видно что пользователи которые ушли подписывались в основном помесячно."
   ]
  },
  {
   "cell_type": "code",
   "execution_count": 31,
   "metadata": {
    "colab": {
     "base_uri": "https://localhost:8080/",
     "height": 84
    },
    "colab_type": "code",
    "id": "momVgjuH_d_T",
    "outputId": "4564df8b-ad8f-468b-fafd-7e89ad41e5a9"
   },
   "outputs": [
    {
     "data": {
      "text/plain": [
       "Churn\n",
       "No     30.55\n",
       "Yes    69.25\n",
       "Name: MonthlyCharges, dtype: float64"
      ]
     },
     "execution_count": 31,
     "metadata": {},
     "output_type": "execute_result"
    }
   ],
   "source": [
    "df[(df.Contract == 'Month-to-month') & (df.tenure == 1)].groupby(['Churn'])['MonthlyCharges'].median()"
   ]
  },
  {
   "cell_type": "code",
   "execution_count": 32,
   "metadata": {
    "colab": {
     "base_uri": "https://localhost:8080/",
     "height": 622
    },
    "colab_type": "code",
    "id": "5hKn2YsM_d_T",
    "outputId": "557877ea-0d60-4b3a-81e4-b2444d488ffb"
   },
   "outputs": [
    {
     "data": {
      "text/plain": [
       "<matplotlib.axes._subplots.AxesSubplot at 0x7f26c2eb0250>"
      ]
     },
     "execution_count": 32,
     "metadata": {},
     "output_type": "execute_result"
    },
    {
     "data": {
      "image/png": "[encoded data removed]",
      "text/plain": [
       "<Figure size 1152x720 with 1 Axes>"
      ]
     },
     "metadata": {
      "needs_background": "light"
     },
     "output_type": "display_data"
    }
   ],
   "source": [
    "plt.figure(figsize=(16,10))\n",
    "sns.barplot(x='tenure', y='customerID', data = df[df.Churn == 'Yes'].groupby(['tenure']).customerID.count().reset_index())"
   ]
  },
  {
   "cell_type": "markdown",
   "metadata": {
    "colab_type": "text",
    "id": "W2DbMHA2_d_T"
   },
   "source": [
    "Как мы видим в основном уходят новые пользователи, в то же время платежи от этих новых пользователей в разы больше чем у пользователей которые остаются."
   ]
  },
  {
   "cell_type": "code",
   "execution_count": 33,
   "metadata": {
    "colab": {
     "base_uri": "https://localhost:8080/",
     "height": 218
    },
    "colab_type": "code",
    "id": "rWXK2APa_d_T",
    "outputId": "dae4b26a-14f3-4606-b35a-c8723f90ad8e"
   },
   "outputs": [
    {
     "name": "stdout",
     "output_type": "stream",
     "text": [
      "Churn\n",
      "No     65.00\n",
      "Yes    78.45\n",
      "Name: MonthlyCharges, dtype: float64\n",
      "Churn\n",
      "No     64.850\n",
      "Yes    96.175\n",
      "Name: MonthlyCharges, dtype: float64\n",
      "Churn\n",
      "No     64.125\n",
      "Yes    98.300\n",
      "Name: MonthlyCharges, dtype: float64\n"
     ]
    }
   ],
   "source": [
    "print(df[df.Contract == 'Month-to-month'].groupby(['Churn'])['MonthlyCharges'].median())\n",
    "print(df[df.Contract == 'One year'].groupby(['Churn'])['MonthlyCharges'].median())\n",
    "print(df[df.Contract == 'Two year'].groupby(['Churn'])['MonthlyCharges'].median())"
   ]
  },
  {
   "cell_type": "markdown",
   "metadata": {
    "colab_type": "text",
    "id": "T2T3prfk_d_T"
   },
   "source": [
    "Предпологается что пользователей отпугивает высокая цена за сервис."
   ]
  },
  {
   "cell_type": "markdown",
   "metadata": {
    "colab_type": "text",
    "id": "KpnNWr6N_d_T"
   },
   "source": [
    "Преобразуем данные для более удобной работы с ними"
   ]
  },
  {
   "cell_type": "markdown",
   "metadata": {
    "colab_type": "text",
    "id": "OHWbyjEf_d_T"
   },
   "source": [
    "С помощью LabelEncoder преобразуем категориальные строковые данные в численые."
   ]
  },
  {
   "cell_type": "code",
   "execution_count": 34,
   "metadata": {
    "colab": {},
    "colab_type": "code",
    "id": "8-lLP24E_d_T"
   },
   "outputs": [],
   "source": [
    "from sklearn.preprocessing import LabelEncoder\n",
    "\n",
    "encoder = LabelEncoder()\n",
    "\n",
    "df[\"gender\"] = encoder.fit_transform(df[\"gender\"])\n",
    "df[\"Partner\"] = encoder.fit_transform(df[\"Partner\"])\n",
    "df[\"Dependents\"] = encoder.fit_transform(df[\"Dependents\"])\n",
    "df[\"PhoneService\"] = encoder.fit_transform(df[\"PhoneService\"])\n",
    "df[\"MultipleLines\"] = encoder.fit_transform(df[\"MultipleLines\"])\n",
    "df[\"InternetService\"] = encoder.fit_transform(df[\"InternetService\"])\n",
    "df[\"OnlineSecurity\"] = encoder.fit_transform(df[\"OnlineSecurity\"])\n",
    "df[\"OnlineBackup\"] = encoder.fit_transform(df[\"OnlineBackup\"])\n",
    "df[\"DeviceProtection\"] = encoder.fit_transform(df[\"DeviceProtection\"])\n",
    "df[\"TechSupport\"] = encoder.fit_transform(df[\"TechSupport\"])\n",
    "df[\"StreamingTV\"] = encoder.fit_transform(df[\"StreamingTV\"])\n",
    "df[\"StreamingMovies\"] = encoder.fit_transform(df[\"StreamingMovies\"])\n",
    "df[\"Contract\"] = encoder.fit_transform(df[\"Contract\"])\n",
    "df[\"PaperlessBilling\"] = encoder.fit_transform(df[\"PaperlessBilling\"])\n",
    "df[\"PaymentMethod\"] = encoder.fit_transform(df[\"PaymentMethod\"])"
   ]
  },
  {
   "cell_type": "code",
   "execution_count": 35,
   "metadata": {
    "colab": {},
    "colab_type": "code",
    "id": "FBP03WDF_d_T"
   },
   "outputs": [],
   "source": [
    "df[\"Churn\"] = encoder.fit_transform(df[\"Churn\"])"
   ]
  },
  {
   "cell_type": "code",
   "execution_count": 36,
   "metadata": {
    "colab": {
     "base_uri": "https://localhost:8080/",
     "height": 316
    },
    "colab_type": "code",
    "id": "DhuJHu3__d_T",
    "outputId": "41db716b-22a3-451b-af6f-31217ebc4745"
   },
   "outputs": [
    {
     "data": {
      "text/html": [
       "<div>\n",
       "<style scoped>\n",
       "    .dataframe tbody tr th:only-of-type {\n",
       "        vertical-align: middle;\n",
       "    }\n",
       "\n",
       "    .dataframe tbody tr th {\n",
       "        vertical-align: top;\n",
       "    }\n",
       "\n",
       "    .dataframe thead th {\n",
       "        text-align: right;\n",
       "    }\n",
       "</style>\n",
       "<table border=\"1\" class=\"dataframe\">\n",
       "  <thead>\n",
       "    <tr style=\"text-align: right;\">\n",
       "      <th></th>\n",
       "      <th>Unnamed: 0</th>\n",
       "      <th>customerID</th>\n",
       "      <th>gender</th>\n",
       "      <th>SeniorCitizen</th>\n",
       "      <th>Partner</th>\n",
       "      <th>Dependents</th>\n",
       "      <th>tenure</th>\n",
       "      <th>PhoneService</th>\n",
       "      <th>MultipleLines</th>\n",
       "      <th>InternetService</th>\n",
       "      <th>...</th>\n",
       "      <th>DeviceProtection</th>\n",
       "      <th>TechSupport</th>\n",
       "      <th>StreamingTV</th>\n",
       "      <th>StreamingMovies</th>\n",
       "      <th>Contract</th>\n",
       "      <th>PaperlessBilling</th>\n",
       "      <th>PaymentMethod</th>\n",
       "      <th>MonthlyCharges</th>\n",
       "      <th>TotalCharges</th>\n",
       "      <th>Churn</th>\n",
       "    </tr>\n",
       "  </thead>\n",
       "  <tbody>\n",
       "    <tr>\n",
       "      <th>0</th>\n",
       "      <td>1869</td>\n",
       "      <td>7010-BRBUU</td>\n",
       "      <td>1</td>\n",
       "      <td>0</td>\n",
       "      <td>1</td>\n",
       "      <td>1</td>\n",
       "      <td>72</td>\n",
       "      <td>1</td>\n",
       "      <td>2</td>\n",
       "      <td>2</td>\n",
       "      <td>...</td>\n",
       "      <td>1</td>\n",
       "      <td>1</td>\n",
       "      <td>1</td>\n",
       "      <td>1</td>\n",
       "      <td>2</td>\n",
       "      <td>0</td>\n",
       "      <td>1</td>\n",
       "      <td>24.10</td>\n",
       "      <td>1734.65</td>\n",
       "      <td>0</td>\n",
       "    </tr>\n",
       "    <tr>\n",
       "      <th>1</th>\n",
       "      <td>4528</td>\n",
       "      <td>9688-YGXVR</td>\n",
       "      <td>0</td>\n",
       "      <td>0</td>\n",
       "      <td>0</td>\n",
       "      <td>0</td>\n",
       "      <td>44</td>\n",
       "      <td>1</td>\n",
       "      <td>0</td>\n",
       "      <td>1</td>\n",
       "      <td>...</td>\n",
       "      <td>2</td>\n",
       "      <td>0</td>\n",
       "      <td>2</td>\n",
       "      <td>0</td>\n",
       "      <td>0</td>\n",
       "      <td>1</td>\n",
       "      <td>1</td>\n",
       "      <td>88.15</td>\n",
       "      <td>3973.20</td>\n",
       "      <td>0</td>\n",
       "    </tr>\n",
       "    <tr>\n",
       "      <th>2</th>\n",
       "      <td>6344</td>\n",
       "      <td>9286-DOJGF</td>\n",
       "      <td>0</td>\n",
       "      <td>1</td>\n",
       "      <td>1</td>\n",
       "      <td>0</td>\n",
       "      <td>38</td>\n",
       "      <td>1</td>\n",
       "      <td>2</td>\n",
       "      <td>1</td>\n",
       "      <td>...</td>\n",
       "      <td>0</td>\n",
       "      <td>0</td>\n",
       "      <td>0</td>\n",
       "      <td>0</td>\n",
       "      <td>0</td>\n",
       "      <td>1</td>\n",
       "      <td>0</td>\n",
       "      <td>74.95</td>\n",
       "      <td>2869.85</td>\n",
       "      <td>1</td>\n",
       "    </tr>\n",
       "    <tr>\n",
       "      <th>3</th>\n",
       "      <td>6739</td>\n",
       "      <td>6994-KERXL</td>\n",
       "      <td>1</td>\n",
       "      <td>0</td>\n",
       "      <td>0</td>\n",
       "      <td>0</td>\n",
       "      <td>4</td>\n",
       "      <td>1</td>\n",
       "      <td>0</td>\n",
       "      <td>0</td>\n",
       "      <td>...</td>\n",
       "      <td>0</td>\n",
       "      <td>0</td>\n",
       "      <td>0</td>\n",
       "      <td>2</td>\n",
       "      <td>0</td>\n",
       "      <td>1</td>\n",
       "      <td>2</td>\n",
       "      <td>55.90</td>\n",
       "      <td>238.50</td>\n",
       "      <td>0</td>\n",
       "    </tr>\n",
       "    <tr>\n",
       "      <th>4</th>\n",
       "      <td>432</td>\n",
       "      <td>2181-UAESM</td>\n",
       "      <td>1</td>\n",
       "      <td>0</td>\n",
       "      <td>0</td>\n",
       "      <td>0</td>\n",
       "      <td>2</td>\n",
       "      <td>1</td>\n",
       "      <td>0</td>\n",
       "      <td>0</td>\n",
       "      <td>...</td>\n",
       "      <td>2</td>\n",
       "      <td>0</td>\n",
       "      <td>0</td>\n",
       "      <td>0</td>\n",
       "      <td>0</td>\n",
       "      <td>0</td>\n",
       "      <td>2</td>\n",
       "      <td>53.45</td>\n",
       "      <td>119.50</td>\n",
       "      <td>0</td>\n",
       "    </tr>\n",
       "  </tbody>\n",
       "</table>\n",
       "<p>5 rows × 22 columns</p>\n",
       "</div>"
      ],
      "text/plain": [
       "   Unnamed: 0  customerID  gender  SeniorCitizen  Partner  Dependents  tenure  \\\n",
       "0        1869  7010-BRBUU       1              0        1           1      72   \n",
       "1        4528  9688-YGXVR       0              0        0           0      44   \n",
       "2        6344  9286-DOJGF       0              1        1           0      38   \n",
       "3        6739  6994-KERXL       1              0        0           0       4   \n",
       "4         432  2181-UAESM       1              0        0           0       2   \n",
       "\n",
       "   PhoneService  MultipleLines  InternetService  ...  DeviceProtection  \\\n",
       "0             1              2                2  ...                 1   \n",
       "1             1              0                1  ...                 2   \n",
       "2             1              2                1  ...                 0   \n",
       "3             1              0                0  ...                 0   \n",
       "4             1              0                0  ...                 2   \n",
       "\n",
       "   TechSupport  StreamingTV  StreamingMovies  Contract  PaperlessBilling  \\\n",
       "0            1            1                1         2                 0   \n",
       "1            0            2                0         0                 1   \n",
       "2            0            0                0         0                 1   \n",
       "3            0            0                2         0                 1   \n",
       "4            0            0                0         0                 0   \n",
       "\n",
       "   PaymentMethod  MonthlyCharges  TotalCharges  Churn  \n",
       "0              1           24.10       1734.65      0  \n",
       "1              1           88.15       3973.20      0  \n",
       "2              0           74.95       2869.85      1  \n",
       "3              2           55.90        238.50      0  \n",
       "4              2           53.45        119.50      0  \n",
       "\n",
       "[5 rows x 22 columns]"
      ]
     },
     "execution_count": 36,
     "metadata": {},
     "output_type": "execute_result"
    }
   ],
   "source": [
    "df.head()"
   ]
  },
  {
   "cell_type": "markdown",
   "metadata": {
    "colab_type": "text",
    "id": "M8PY07Fb_d_i"
   },
   "source": [
    "Удалим не нужные колонки."
   ]
  },
  {
   "cell_type": "code",
   "execution_count": 37,
   "metadata": {
    "colab": {},
    "colab_type": "code",
    "id": "AsTivxkp_d_i"
   },
   "outputs": [],
   "source": [
    "df = df.drop(['Unnamed: 0', 'customerID'], axis=1)"
   ]
  },
  {
   "cell_type": "markdown",
   "metadata": {
    "colab_type": "text",
    "id": "RddaNfT0_d_i"
   },
   "source": [
    "Построим матрицу кореляций признаков."
   ]
  },
  {
   "cell_type": "code",
   "execution_count": 38,
   "metadata": {
    "colab": {
     "base_uri": "https://localhost:8080/",
     "height": 458
    },
    "colab_type": "code",
    "id": "daP_LaS8_d_i",
    "outputId": "124faf76-bae0-4ce5-ca1b-a3e84c7a55f8"
   },
   "outputs": [
    {
     "data": {
      "text/html": [
       "<style  type=\"text/css\" >\n",
       "    #T_fbff4642_7335_11ea_83ea_b3662bcab3f9row0_col0 {\n",
       "            background-color:  #b40426;\n",
       "            color:  #f1f1f1;\n",
       "        }    #T_fbff4642_7335_11ea_83ea_b3662bcab3f9row0_col1 {\n",
       "            background-color:  #7093f3;\n",
       "            color:  #000000;\n",
       "        }    #T_fbff4642_7335_11ea_83ea_b3662bcab3f9row0_col2 {\n",
       "            background-color:  #6180e9;\n",
       "            color:  #000000;\n",
       "        }    #T_fbff4642_7335_11ea_83ea_b3662bcab3f9row0_col3 {\n",
       "            background-color:  #7699f6;\n",
       "            color:  #000000;\n",
       "        }    #T_fbff4642_7335_11ea_83ea_b3662bcab3f9row0_col4 {\n",
       "            background-color:  #93b5fe;\n",
       "            color:  #000000;\n",
       "        }    #T_fbff4642_7335_11ea_83ea_b3662bcab3f9row0_col5 {\n",
       "            background-color:  #3e51c5;\n",
       "            color:  #f1f1f1;\n",
       "        }    #T_fbff4642_7335_11ea_83ea_b3662bcab3f9row0_col6 {\n",
       "            background-color:  #6a8bef;\n",
       "            color:  #000000;\n",
       "        }    #T_fbff4642_7335_11ea_83ea_b3662bcab3f9row0_col7 {\n",
       "            background-color:  #89acfd;\n",
       "            color:  #000000;\n",
       "        }    #T_fbff4642_7335_11ea_83ea_b3662bcab3f9row0_col8 {\n",
       "            background-color:  #7ea1fa;\n",
       "            color:  #000000;\n",
       "        }    #T_fbff4642_7335_11ea_83ea_b3662bcab3f9row0_col9 {\n",
       "            background-color:  #688aef;\n",
       "            color:  #000000;\n",
       "        }    #T_fbff4642_7335_11ea_83ea_b3662bcab3f9row0_col10 {\n",
       "            background-color:  #6a8bef;\n",
       "            color:  #000000;\n",
       "        }    #T_fbff4642_7335_11ea_83ea_b3662bcab3f9row0_col11 {\n",
       "            background-color:  #7ea1fa;\n",
       "            color:  #000000;\n",
       "        }    #T_fbff4642_7335_11ea_83ea_b3662bcab3f9row0_col12 {\n",
       "            background-color:  #5470de;\n",
       "            color:  #000000;\n",
       "        }    #T_fbff4642_7335_11ea_83ea_b3662bcab3f9row0_col13 {\n",
       "            background-color:  #5875e1;\n",
       "            color:  #000000;\n",
       "        }    #T_fbff4642_7335_11ea_83ea_b3662bcab3f9row0_col14 {\n",
       "            background-color:  #98b9ff;\n",
       "            color:  #000000;\n",
       "        }    #T_fbff4642_7335_11ea_83ea_b3662bcab3f9row0_col15 {\n",
       "            background-color:  #6788ee;\n",
       "            color:  #000000;\n",
       "        }    #T_fbff4642_7335_11ea_83ea_b3662bcab3f9row0_col16 {\n",
       "            background-color:  #96b7ff;\n",
       "            color:  #000000;\n",
       "        }    #T_fbff4642_7335_11ea_83ea_b3662bcab3f9row0_col17 {\n",
       "            background-color:  #86a9fc;\n",
       "            color:  #000000;\n",
       "        }    #T_fbff4642_7335_11ea_83ea_b3662bcab3f9row0_col18 {\n",
       "            background-color:  #8badfd;\n",
       "            color:  #000000;\n",
       "        }    #T_fbff4642_7335_11ea_83ea_b3662bcab3f9row0_col19 {\n",
       "            background-color:  #96b7ff;\n",
       "            color:  #000000;\n",
       "        }    #T_fbff4642_7335_11ea_83ea_b3662bcab3f9row1_col0 {\n",
       "            background-color:  #3e51c5;\n",
       "            color:  #f1f1f1;\n",
       "        }    #T_fbff4642_7335_11ea_83ea_b3662bcab3f9row1_col1 {\n",
       "            background-color:  #b40426;\n",
       "            color:  #f1f1f1;\n",
       "        }    #T_fbff4642_7335_11ea_83ea_b3662bcab3f9row1_col2 {\n",
       "            background-color:  #6788ee;\n",
       "            color:  #000000;\n",
       "        }    #T_fbff4642_7335_11ea_83ea_b3662bcab3f9row1_col3 {\n",
       "            background-color:  #3b4cc0;\n",
       "            color:  #f1f1f1;\n",
       "        }    #T_fbff4642_7335_11ea_83ea_b3662bcab3f9row1_col4 {\n",
       "            background-color:  #93b5fe;\n",
       "            color:  #000000;\n",
       "        }    #T_fbff4642_7335_11ea_83ea_b3662bcab3f9row1_col5 {\n",
       "            background-color:  #4257c9;\n",
       "            color:  #f1f1f1;\n",
       "        }    #T_fbff4642_7335_11ea_83ea_b3662bcab3f9row1_col6 {\n",
       "            background-color:  #92b4fe;\n",
       "            color:  #000000;\n",
       "        }    #T_fbff4642_7335_11ea_83ea_b3662bcab3f9row1_col7 {\n",
       "            background-color:  #81a4fb;\n",
       "            color:  #000000;\n",
       "        }    #T_fbff4642_7335_11ea_83ea_b3662bcab3f9row1_col8 {\n",
       "            background-color:  #6282ea;\n",
       "            color:  #000000;\n",
       "        }    #T_fbff4642_7335_11ea_83ea_b3662bcab3f9row1_col9 {\n",
       "            background-color:  #688aef;\n",
       "            color:  #000000;\n",
       "        }    #T_fbff4642_7335_11ea_83ea_b3662bcab3f9row1_col10 {\n",
       "            background-color:  #6485ec;\n",
       "            color:  #000000;\n",
       "        }    #T_fbff4642_7335_11ea_83ea_b3662bcab3f9row1_col11 {\n",
       "            background-color:  #5977e3;\n",
       "            color:  #000000;\n",
       "        }    #T_fbff4642_7335_11ea_83ea_b3662bcab3f9row1_col12 {\n",
       "            background-color:  #5e7de7;\n",
       "            color:  #000000;\n",
       "        }    #T_fbff4642_7335_11ea_83ea_b3662bcab3f9row1_col13 {\n",
       "            background-color:  #6788ee;\n",
       "            color:  #000000;\n",
       "        }    #T_fbff4642_7335_11ea_83ea_b3662bcab3f9row1_col14 {\n",
       "            background-color:  #7396f5;\n",
       "            color:  #000000;\n",
       "        }    #T_fbff4642_7335_11ea_83ea_b3662bcab3f9row1_col15 {\n",
       "            background-color:  #9abbff;\n",
       "            color:  #000000;\n",
       "        }    #T_fbff4642_7335_11ea_83ea_b3662bcab3f9row1_col16 {\n",
       "            background-color:  #88abfd;\n",
       "            color:  #000000;\n",
       "        }    #T_fbff4642_7335_11ea_83ea_b3662bcab3f9row1_col17 {\n",
       "            background-color:  #c3d5f4;\n",
       "            color:  #000000;\n",
       "        }    #T_fbff4642_7335_11ea_83ea_b3662bcab3f9row1_col18 {\n",
       "            background-color:  #a5c3fe;\n",
       "            color:  #000000;\n",
       "        }    #T_fbff4642_7335_11ea_83ea_b3662bcab3f9row1_col19 {\n",
       "            background-color:  #bed2f6;\n",
       "            color:  #000000;\n",
       "        }    #T_fbff4642_7335_11ea_83ea_b3662bcab3f9row2_col0 {\n",
       "            background-color:  #3e51c5;\n",
       "            color:  #f1f1f1;\n",
       "        }    #T_fbff4642_7335_11ea_83ea_b3662bcab3f9row2_col1 {\n",
       "            background-color:  #779af7;\n",
       "            color:  #000000;\n",
       "        }    #T_fbff4642_7335_11ea_83ea_b3662bcab3f9row2_col2 {\n",
       "            background-color:  #b40426;\n",
       "            color:  #f1f1f1;\n",
       "        }    #T_fbff4642_7335_11ea_83ea_b3662bcab3f9row2_col3 {\n",
       "            background-color:  #e8d6cc;\n",
       "            color:  #000000;\n",
       "        }    #T_fbff4642_7335_11ea_83ea_b3662bcab3f9row2_col4 {\n",
       "            background-color:  #e8d6cc;\n",
       "            color:  #000000;\n",
       "        }    #T_fbff4642_7335_11ea_83ea_b3662bcab3f9row2_col5 {\n",
       "            background-color:  #465ecf;\n",
       "            color:  #f1f1f1;\n",
       "        }    #T_fbff4642_7335_11ea_83ea_b3662bcab3f9row2_col6 {\n",
       "            background-color:  #96b7ff;\n",
       "            color:  #000000;\n",
       "        }    #T_fbff4642_7335_11ea_83ea_b3662bcab3f9row2_col7 {\n",
       "            background-color:  #8caffe;\n",
       "            color:  #000000;\n",
       "        }    #T_fbff4642_7335_11ea_83ea_b3662bcab3f9row2_col8 {\n",
       "            background-color:  #afcafc;\n",
       "            color:  #000000;\n",
       "        }    #T_fbff4642_7335_11ea_83ea_b3662bcab3f9row2_col9 {\n",
       "            background-color:  #9ebeff;\n",
       "            color:  #000000;\n",
       "        }    #T_fbff4642_7335_11ea_83ea_b3662bcab3f9row2_col10 {\n",
       "            background-color:  #9dbdff;\n",
       "            color:  #000000;\n",
       "        }    #T_fbff4642_7335_11ea_83ea_b3662bcab3f9row2_col11 {\n",
       "            background-color:  #a6c4fe;\n",
       "            color:  #000000;\n",
       "        }    #T_fbff4642_7335_11ea_83ea_b3662bcab3f9row2_col12 {\n",
       "            background-color:  #82a6fb;\n",
       "            color:  #000000;\n",
       "        }    #T_fbff4642_7335_11ea_83ea_b3662bcab3f9row2_col13 {\n",
       "            background-color:  #84a7fc;\n",
       "            color:  #000000;\n",
       "        }    #T_fbff4642_7335_11ea_83ea_b3662bcab3f9row2_col14 {\n",
       "            background-color:  #dcdddd;\n",
       "            color:  #000000;\n",
       "        }    #T_fbff4642_7335_11ea_83ea_b3662bcab3f9row2_col15 {\n",
       "            background-color:  #6687ed;\n",
       "            color:  #000000;\n",
       "        }    #T_fbff4642_7335_11ea_83ea_b3662bcab3f9row2_col16 {\n",
       "            background-color:  #6b8df0;\n",
       "            color:  #000000;\n",
       "        }    #T_fbff4642_7335_11ea_83ea_b3662bcab3f9row2_col17 {\n",
       "            background-color:  #a6c4fe;\n",
       "            color:  #000000;\n",
       "        }    #T_fbff4642_7335_11ea_83ea_b3662bcab3f9row2_col18 {\n",
       "            background-color:  #d9dce1;\n",
       "            color:  #000000;\n",
       "        }    #T_fbff4642_7335_11ea_83ea_b3662bcab3f9row2_col19 {\n",
       "            background-color:  #7396f5;\n",
       "            color:  #000000;\n",
       "        }    #T_fbff4642_7335_11ea_83ea_b3662bcab3f9row3_col0 {\n",
       "            background-color:  #4358cb;\n",
       "            color:  #f1f1f1;\n",
       "        }    #T_fbff4642_7335_11ea_83ea_b3662bcab3f9row3_col1 {\n",
       "            background-color:  #3b4cc0;\n",
       "            color:  #f1f1f1;\n",
       "        }    #T_fbff4642_7335_11ea_83ea_b3662bcab3f9row3_col2 {\n",
       "            background-color:  #e2dad5;\n",
       "            color:  #000000;\n",
       "        }    #T_fbff4642_7335_11ea_83ea_b3662bcab3f9row3_col3 {\n",
       "            background-color:  #b40426;\n",
       "            color:  #f1f1f1;\n",
       "        }    #T_fbff4642_7335_11ea_83ea_b3662bcab3f9row3_col4 {\n",
       "            background-color:  #bbd1f8;\n",
       "            color:  #000000;\n",
       "        }    #T_fbff4642_7335_11ea_83ea_b3662bcab3f9row3_col5 {\n",
       "            background-color:  #3f53c6;\n",
       "            color:  #f1f1f1;\n",
       "        }    #T_fbff4642_7335_11ea_83ea_b3662bcab3f9row3_col6 {\n",
       "            background-color:  #6384eb;\n",
       "            color:  #000000;\n",
       "        }    #T_fbff4642_7335_11ea_83ea_b3662bcab3f9row3_col7 {\n",
       "            background-color:  #97b8ff;\n",
       "            color:  #000000;\n",
       "        }    #T_fbff4642_7335_11ea_83ea_b3662bcab3f9row3_col8 {\n",
       "            background-color:  #aec9fc;\n",
       "            color:  #000000;\n",
       "        }    #T_fbff4642_7335_11ea_83ea_b3662bcab3f9row3_col9 {\n",
       "            background-color:  #89acfd;\n",
       "            color:  #000000;\n",
       "        }    #T_fbff4642_7335_11ea_83ea_b3662bcab3f9row3_col10 {\n",
       "            background-color:  #81a4fb;\n",
       "            color:  #000000;\n",
       "        }    #T_fbff4642_7335_11ea_83ea_b3662bcab3f9row3_col11 {\n",
       "            background-color:  #a7c5fe;\n",
       "            color:  #000000;\n",
       "        }    #T_fbff4642_7335_11ea_83ea_b3662bcab3f9row3_col12 {\n",
       "            background-color:  #6485ec;\n",
       "            color:  #000000;\n",
       "        }    #T_fbff4642_7335_11ea_83ea_b3662bcab3f9row3_col13 {\n",
       "            background-color:  #6282ea;\n",
       "            color:  #000000;\n",
       "        }    #T_fbff4642_7335_11ea_83ea_b3662bcab3f9row3_col14 {\n",
       "            background-color:  #d2dbe8;\n",
       "            color:  #000000;\n",
       "        }    #T_fbff4642_7335_11ea_83ea_b3662bcab3f9row3_col15 {\n",
       "            background-color:  #4c66d6;\n",
       "            color:  #000000;\n",
       "        }    #T_fbff4642_7335_11ea_83ea_b3662bcab3f9row3_col16 {\n",
       "            background-color:  #88abfd;\n",
       "            color:  #000000;\n",
       "        }    #T_fbff4642_7335_11ea_83ea_b3662bcab3f9row3_col17 {\n",
       "            background-color:  #6b8df0;\n",
       "            color:  #000000;\n",
       "        }    #T_fbff4642_7335_11ea_83ea_b3662bcab3f9row3_col18 {\n",
       "            background-color:  #9dbdff;\n",
       "            color:  #000000;\n",
       "        }    #T_fbff4642_7335_11ea_83ea_b3662bcab3f9row3_col19 {\n",
       "            background-color:  #7093f3;\n",
       "            color:  #000000;\n",
       "        }    #T_fbff4642_7335_11ea_83ea_b3662bcab3f9row4_col0 {\n",
       "            background-color:  #4257c9;\n",
       "            color:  #f1f1f1;\n",
       "        }    #T_fbff4642_7335_11ea_83ea_b3662bcab3f9row4_col1 {\n",
       "            background-color:  #7597f6;\n",
       "            color:  #000000;\n",
       "        }    #T_fbff4642_7335_11ea_83ea_b3662bcab3f9row4_col2 {\n",
       "            background-color:  #d3dbe7;\n",
       "            color:  #000000;\n",
       "        }    #T_fbff4642_7335_11ea_83ea_b3662bcab3f9row4_col3 {\n",
       "            background-color:  #a2c1ff;\n",
       "            color:  #000000;\n",
       "        }    #T_fbff4642_7335_11ea_83ea_b3662bcab3f9row4_col4 {\n",
       "            background-color:  #b40426;\n",
       "            color:  #f1f1f1;\n",
       "        }    #T_fbff4642_7335_11ea_83ea_b3662bcab3f9row4_col5 {\n",
       "            background-color:  #4358cb;\n",
       "            color:  #f1f1f1;\n",
       "        }    #T_fbff4642_7335_11ea_83ea_b3662bcab3f9row4_col6 {\n",
       "            background-color:  #cedaeb;\n",
       "            color:  #000000;\n",
       "        }    #T_fbff4642_7335_11ea_83ea_b3662bcab3f9row4_col7 {\n",
       "            background-color:  #82a6fb;\n",
       "            color:  #000000;\n",
       "        }    #T_fbff4642_7335_11ea_83ea_b3662bcab3f9row4_col8 {\n",
       "            background-color:  #d7dce3;\n",
       "            color:  #000000;\n",
       "        }    #T_fbff4642_7335_11ea_83ea_b3662bcab3f9row4_col9 {\n",
       "            background-color:  #d5dbe5;\n",
       "            color:  #000000;\n",
       "        }    #T_fbff4642_7335_11ea_83ea_b3662bcab3f9row4_col10 {\n",
       "            background-color:  #d4dbe6;\n",
       "            color:  #000000;\n",
       "        }    #T_fbff4642_7335_11ea_83ea_b3662bcab3f9row4_col11 {\n",
       "            background-color:  #d5dbe5;\n",
       "            color:  #000000;\n",
       "        }    #T_fbff4642_7335_11ea_83ea_b3662bcab3f9row4_col12 {\n",
       "            background-color:  #b2ccfb;\n",
       "            color:  #000000;\n",
       "        }    #T_fbff4642_7335_11ea_83ea_b3662bcab3f9row4_col13 {\n",
       "            background-color:  #bad0f8;\n",
       "            color:  #000000;\n",
       "        }    #T_fbff4642_7335_11ea_83ea_b3662bcab3f9row4_col14 {\n",
       "            background-color:  #f39475;\n",
       "            color:  #000000;\n",
       "        }    #T_fbff4642_7335_11ea_83ea_b3662bcab3f9row4_col15 {\n",
       "            background-color:  #6e90f2;\n",
       "            color:  #000000;\n",
       "        }    #T_fbff4642_7335_11ea_83ea_b3662bcab3f9row4_col16 {\n",
       "            background-color:  #3b4cc0;\n",
       "            color:  #f1f1f1;\n",
       "        }    #T_fbff4642_7335_11ea_83ea_b3662bcab3f9row4_col17 {\n",
       "            background-color:  #cbd8ee;\n",
       "            color:  #000000;\n",
       "        }    #T_fbff4642_7335_11ea_83ea_b3662bcab3f9row4_col18 {\n",
       "            background-color:  #df634e;\n",
       "            color:  #000000;\n",
       "        }    #T_fbff4642_7335_11ea_83ea_b3662bcab3f9row4_col19 {\n",
       "            background-color:  #445acc;\n",
       "            color:  #f1f1f1;\n",
       "        }    #T_fbff4642_7335_11ea_83ea_b3662bcab3f9row5_col0 {\n",
       "            background-color:  #3e51c5;\n",
       "            color:  #f1f1f1;\n",
       "        }    #T_fbff4642_7335_11ea_83ea_b3662bcab3f9row5_col1 {\n",
       "            background-color:  #7699f6;\n",
       "            color:  #000000;\n",
       "        }    #T_fbff4642_7335_11ea_83ea_b3662bcab3f9row5_col2 {\n",
       "            background-color:  #6b8df0;\n",
       "            color:  #000000;\n",
       "        }    #T_fbff4642_7335_11ea_83ea_b3662bcab3f9row5_col3 {\n",
       "            background-color:  #7396f5;\n",
       "            color:  #000000;\n",
       "        }    #T_fbff4642_7335_11ea_83ea_b3662bcab3f9row5_col4 {\n",
       "            background-color:  #94b6ff;\n",
       "            color:  #000000;\n",
       "        }    #T_fbff4642_7335_11ea_83ea_b3662bcab3f9row5_col5 {\n",
       "            background-color:  #b40426;\n",
       "            color:  #f1f1f1;\n",
       "        }    #T_fbff4642_7335_11ea_83ea_b3662bcab3f9row5_col6 {\n",
       "            background-color:  #6485ec;\n",
       "            color:  #000000;\n",
       "        }    #T_fbff4642_7335_11ea_83ea_b3662bcab3f9row5_col7 {\n",
       "            background-color:  #e6d7cf;\n",
       "            color:  #000000;\n",
       "        }    #T_fbff4642_7335_11ea_83ea_b3662bcab3f9row5_col8 {\n",
       "            background-color:  #81a4fb;\n",
       "            color:  #000000;\n",
       "        }    #T_fbff4642_7335_11ea_83ea_b3662bcab3f9row5_col9 {\n",
       "            background-color:  #7699f6;\n",
       "            color:  #000000;\n",
       "        }    #T_fbff4642_7335_11ea_83ea_b3662bcab3f9row5_col10 {\n",
       "            background-color:  #6b8df0;\n",
       "            color:  #000000;\n",
       "        }    #T_fbff4642_7335_11ea_83ea_b3662bcab3f9row5_col11 {\n",
       "            background-color:  #7ea1fa;\n",
       "            color:  #000000;\n",
       "        }    #T_fbff4642_7335_11ea_83ea_b3662bcab3f9row5_col12 {\n",
       "            background-color:  #6788ee;\n",
       "            color:  #000000;\n",
       "        }    #T_fbff4642_7335_11ea_83ea_b3662bcab3f9row5_col13 {\n",
       "            background-color:  #688aef;\n",
       "            color:  #000000;\n",
       "        }    #T_fbff4642_7335_11ea_83ea_b3662bcab3f9row5_col14 {\n",
       "            background-color:  #9abbff;\n",
       "            color:  #000000;\n",
       "        }    #T_fbff4642_7335_11ea_83ea_b3662bcab3f9row5_col15 {\n",
       "            background-color:  #7295f4;\n",
       "            color:  #000000;\n",
       "        }    #T_fbff4642_7335_11ea_83ea_b3662bcab3f9row5_col16 {\n",
       "            background-color:  #90b2fe;\n",
       "            color:  #000000;\n",
       "        }    #T_fbff4642_7335_11ea_83ea_b3662bcab3f9row5_col17 {\n",
       "            background-color:  #cad8ef;\n",
       "            color:  #000000;\n",
       "        }    #T_fbff4642_7335_11ea_83ea_b3662bcab3f9row5_col18 {\n",
       "            background-color:  #aac7fd;\n",
       "            color:  #000000;\n",
       "        }    #T_fbff4642_7335_11ea_83ea_b3662bcab3f9row5_col19 {\n",
       "            background-color:  #9bbcff;\n",
       "            color:  #000000;\n",
       "        }    #T_fbff4642_7335_11ea_83ea_b3662bcab3f9row6_col0 {\n",
       "            background-color:  #4055c8;\n",
       "            color:  #f1f1f1;\n",
       "        }    #T_fbff4642_7335_11ea_83ea_b3662bcab3f9row6_col1 {\n",
       "            background-color:  #9abbff;\n",
       "            color:  #000000;\n",
       "        }    #T_fbff4642_7335_11ea_83ea_b3662bcab3f9row6_col2 {\n",
       "            background-color:  #90b2fe;\n",
       "            color:  #000000;\n",
       "        }    #T_fbff4642_7335_11ea_83ea_b3662bcab3f9row6_col3 {\n",
       "            background-color:  #6c8ff1;\n",
       "            color:  #000000;\n",
       "        }    #T_fbff4642_7335_11ea_83ea_b3662bcab3f9row6_col4 {\n",
       "            background-color:  #e2dad5;\n",
       "            color:  #000000;\n",
       "        }    #T_fbff4642_7335_11ea_83ea_b3662bcab3f9row6_col5 {\n",
       "            background-color:  #3b4cc0;\n",
       "            color:  #f1f1f1;\n",
       "        }    #T_fbff4642_7335_11ea_83ea_b3662bcab3f9row6_col6 {\n",
       "            background-color:  #b40426;\n",
       "            color:  #f1f1f1;\n",
       "        }    #T_fbff4642_7335_11ea_83ea_b3662bcab3f9row6_col7 {\n",
       "            background-color:  #6e90f2;\n",
       "            color:  #000000;\n",
       "        }    #T_fbff4642_7335_11ea_83ea_b3662bcab3f9row6_col8 {\n",
       "            background-color:  #88abfd;\n",
       "            color:  #000000;\n",
       "        }    #T_fbff4642_7335_11ea_83ea_b3662bcab3f9row6_col9 {\n",
       "            background-color:  #93b5fe;\n",
       "            color:  #000000;\n",
       "        }    #T_fbff4642_7335_11ea_83ea_b3662bcab3f9row6_col10 {\n",
       "            background-color:  #90b2fe;\n",
       "            color:  #000000;\n",
       "        }    #T_fbff4642_7335_11ea_83ea_b3662bcab3f9row6_col11 {\n",
       "            background-color:  #85a8fc;\n",
       "            color:  #000000;\n",
       "        }    #T_fbff4642_7335_11ea_83ea_b3662bcab3f9row6_col12 {\n",
       "            background-color:  #8caffe;\n",
       "            color:  #000000;\n",
       "        }    #T_fbff4642_7335_11ea_83ea_b3662bcab3f9row6_col13 {\n",
       "            background-color:  #93b5fe;\n",
       "            color:  #000000;\n",
       "        }    #T_fbff4642_7335_11ea_83ea_b3662bcab3f9row6_col14 {\n",
       "            background-color:  #b5cdfa;\n",
       "            color:  #000000;\n",
       "        }    #T_fbff4642_7335_11ea_83ea_b3662bcab3f9row6_col15 {\n",
       "            background-color:  #9ebeff;\n",
       "            color:  #000000;\n",
       "        }    #T_fbff4642_7335_11ea_83ea_b3662bcab3f9row6_col16 {\n",
       "            background-color:  #6485ec;\n",
       "            color:  #000000;\n",
       "        }    #T_fbff4642_7335_11ea_83ea_b3662bcab3f9row6_col17 {\n",
       "            background-color:  #edd1c2;\n",
       "            color:  #000000;\n",
       "        }    #T_fbff4642_7335_11ea_83ea_b3662bcab3f9row6_col18 {\n",
       "            background-color:  #f1cdba;\n",
       "            color:  #000000;\n",
       "        }    #T_fbff4642_7335_11ea_83ea_b3662bcab3f9row6_col19 {\n",
       "            background-color:  #a2c1ff;\n",
       "            color:  #000000;\n",
       "        }    #T_fbff4642_7335_11ea_83ea_b3662bcab3f9row7_col0 {\n",
       "            background-color:  #3f53c6;\n",
       "            color:  #f1f1f1;\n",
       "        }    #T_fbff4642_7335_11ea_83ea_b3662bcab3f9row7_col1 {\n",
       "            background-color:  #6a8bef;\n",
       "            color:  #000000;\n",
       "        }    #T_fbff4642_7335_11ea_83ea_b3662bcab3f9row7_col2 {\n",
       "            background-color:  #6687ed;\n",
       "            color:  #000000;\n",
       "        }    #T_fbff4642_7335_11ea_83ea_b3662bcab3f9row7_col3 {\n",
       "            background-color:  #81a4fb;\n",
       "            color:  #000000;\n",
       "        }    #T_fbff4642_7335_11ea_83ea_b3662bcab3f9row7_col4 {\n",
       "            background-color:  #8badfd;\n",
       "            color:  #000000;\n",
       "        }    #T_fbff4642_7335_11ea_83ea_b3662bcab3f9row7_col5 {\n",
       "            background-color:  #c0d4f5;\n",
       "            color:  #000000;\n",
       "        }    #T_fbff4642_7335_11ea_83ea_b3662bcab3f9row7_col6 {\n",
       "            background-color:  #4c66d6;\n",
       "            color:  #000000;\n",
       "        }    #T_fbff4642_7335_11ea_83ea_b3662bcab3f9row7_col7 {\n",
       "            background-color:  #b40426;\n",
       "            color:  #f1f1f1;\n",
       "        }    #T_fbff4642_7335_11ea_83ea_b3662bcab3f9row7_col8 {\n",
       "            background-color:  #7da0f9;\n",
       "            color:  #000000;\n",
       "        }    #T_fbff4642_7335_11ea_83ea_b3662bcab3f9row7_col9 {\n",
       "            background-color:  #779af7;\n",
       "            color:  #000000;\n",
       "        }    #T_fbff4642_7335_11ea_83ea_b3662bcab3f9row7_col10 {\n",
       "            background-color:  #779af7;\n",
       "            color:  #000000;\n",
       "        }    #T_fbff4642_7335_11ea_83ea_b3662bcab3f9row7_col11 {\n",
       "            background-color:  #7b9ff9;\n",
       "            color:  #000000;\n",
       "        }    #T_fbff4642_7335_11ea_83ea_b3662bcab3f9row7_col12 {\n",
       "            background-color:  #779af7;\n",
       "            color:  #000000;\n",
       "        }    #T_fbff4642_7335_11ea_83ea_b3662bcab3f9row7_col13 {\n",
       "            background-color:  #7699f6;\n",
       "            color:  #000000;\n",
       "        }    #T_fbff4642_7335_11ea_83ea_b3662bcab3f9row7_col14 {\n",
       "            background-color:  #b2ccfb;\n",
       "            color:  #000000;\n",
       "        }    #T_fbff4642_7335_11ea_83ea_b3662bcab3f9row7_col15 {\n",
       "            background-color:  #455cce;\n",
       "            color:  #f1f1f1;\n",
       "        }    #T_fbff4642_7335_11ea_83ea_b3662bcab3f9row7_col16 {\n",
       "            background-color:  #a9c6fd;\n",
       "            color:  #000000;\n",
       "        }    #T_fbff4642_7335_11ea_83ea_b3662bcab3f9row7_col17 {\n",
       "            background-color:  #3b4cc0;\n",
       "            color:  #f1f1f1;\n",
       "        }    #T_fbff4642_7335_11ea_83ea_b3662bcab3f9row7_col18 {\n",
       "            background-color:  #5e7de7;\n",
       "            color:  #000000;\n",
       "        }    #T_fbff4642_7335_11ea_83ea_b3662bcab3f9row7_col19 {\n",
       "            background-color:  #8db0fe;\n",
       "            color:  #000000;\n",
       "        }    #T_fbff4642_7335_11ea_83ea_b3662bcab3f9row8_col0 {\n",
       "            background-color:  #3b4cc0;\n",
       "            color:  #f1f1f1;\n",
       "        }    #T_fbff4642_7335_11ea_83ea_b3662bcab3f9row8_col1 {\n",
       "            background-color:  #506bda;\n",
       "            color:  #000000;\n",
       "        }    #T_fbff4642_7335_11ea_83ea_b3662bcab3f9row8_col2 {\n",
       "            background-color:  #94b6ff;\n",
       "            color:  #000000;\n",
       "        }    #T_fbff4642_7335_11ea_83ea_b3662bcab3f9row8_col3 {\n",
       "            background-color:  #a1c0ff;\n",
       "            color:  #000000;\n",
       "        }    #T_fbff4642_7335_11ea_83ea_b3662bcab3f9row8_col4 {\n",
       "            background-color:  #dedcdb;\n",
       "            color:  #000000;\n",
       "        }    #T_fbff4642_7335_11ea_83ea_b3662bcab3f9row8_col5 {\n",
       "            background-color:  #3c4ec2;\n",
       "            color:  #f1f1f1;\n",
       "        }    #T_fbff4642_7335_11ea_83ea_b3662bcab3f9row8_col6 {\n",
       "            background-color:  #6e90f2;\n",
       "            color:  #000000;\n",
       "        }    #T_fbff4642_7335_11ea_83ea_b3662bcab3f9row8_col7 {\n",
       "            background-color:  #84a7fc;\n",
       "            color:  #000000;\n",
       "        }    #T_fbff4642_7335_11ea_83ea_b3662bcab3f9row8_col8 {\n",
       "            background-color:  #b40426;\n",
       "            color:  #f1f1f1;\n",
       "        }    #T_fbff4642_7335_11ea_83ea_b3662bcab3f9row8_col9 {\n",
       "            background-color:  #a5c3fe;\n",
       "            color:  #000000;\n",
       "        }    #T_fbff4642_7335_11ea_83ea_b3662bcab3f9row8_col10 {\n",
       "            background-color:  #a2c1ff;\n",
       "            color:  #000000;\n",
       "        }    #T_fbff4642_7335_11ea_83ea_b3662bcab3f9row8_col11 {\n",
       "            background-color:  #ccd9ed;\n",
       "            color:  #000000;\n",
       "        }    #T_fbff4642_7335_11ea_83ea_b3662bcab3f9row8_col12 {\n",
       "            background-color:  #688aef;\n",
       "            color:  #000000;\n",
       "        }    #T_fbff4642_7335_11ea_83ea_b3662bcab3f9row8_col13 {\n",
       "            background-color:  #6f92f3;\n",
       "            color:  #000000;\n",
       "        }    #T_fbff4642_7335_11ea_83ea_b3662bcab3f9row8_col14 {\n",
       "            background-color:  #ead5c9;\n",
       "            color:  #000000;\n",
       "        }    #T_fbff4642_7335_11ea_83ea_b3662bcab3f9row8_col15 {\n",
       "            background-color:  #4358cb;\n",
       "            color:  #f1f1f1;\n",
       "        }    #T_fbff4642_7335_11ea_83ea_b3662bcab3f9row8_col16 {\n",
       "            background-color:  #7a9df8;\n",
       "            color:  #000000;\n",
       "        }    #T_fbff4642_7335_11ea_83ea_b3662bcab3f9row8_col17 {\n",
       "            background-color:  #7ea1fa;\n",
       "            color:  #000000;\n",
       "        }    #T_fbff4642_7335_11ea_83ea_b3662bcab3f9row8_col18 {\n",
       "            background-color:  #ccd9ed;\n",
       "            color:  #000000;\n",
       "        }    #T_fbff4642_7335_11ea_83ea_b3662bcab3f9row8_col19 {\n",
       "            background-color:  #516ddb;\n",
       "            color:  #000000;\n",
       "        }    #T_fbff4642_7335_11ea_83ea_b3662bcab3f9row9_col0 {\n",
       "            background-color:  #3b4cc0;\n",
       "            color:  #f1f1f1;\n",
       "        }    #T_fbff4642_7335_11ea_83ea_b3662bcab3f9row9_col1 {\n",
       "            background-color:  #6e90f2;\n",
       "            color:  #000000;\n",
       "        }    #T_fbff4642_7335_11ea_83ea_b3662bcab3f9row9_col2 {\n",
       "            background-color:  #94b6ff;\n",
       "            color:  #000000;\n",
       "        }    #T_fbff4642_7335_11ea_83ea_b3662bcab3f9row9_col3 {\n",
       "            background-color:  #8db0fe;\n",
       "            color:  #000000;\n",
       "        }    #T_fbff4642_7335_11ea_83ea_b3662bcab3f9row9_col4 {\n",
       "            background-color:  #e5d8d1;\n",
       "            color:  #000000;\n",
       "        }    #T_fbff4642_7335_11ea_83ea_b3662bcab3f9row9_col5 {\n",
       "            background-color:  #485fd1;\n",
       "            color:  #f1f1f1;\n",
       "        }    #T_fbff4642_7335_11ea_83ea_b3662bcab3f9row9_col6 {\n",
       "            background-color:  #8fb1fe;\n",
       "            color:  #000000;\n",
       "        }    #T_fbff4642_7335_11ea_83ea_b3662bcab3f9row9_col7 {\n",
       "            background-color:  #93b5fe;\n",
       "            color:  #000000;\n",
       "        }    #T_fbff4642_7335_11ea_83ea_b3662bcab3f9row9_col8 {\n",
       "            background-color:  #b6cefa;\n",
       "            color:  #000000;\n",
       "        }    #T_fbff4642_7335_11ea_83ea_b3662bcab3f9row9_col9 {\n",
       "            background-color:  #b40426;\n",
       "            color:  #f1f1f1;\n",
       "        }    #T_fbff4642_7335_11ea_83ea_b3662bcab3f9row9_col10 {\n",
       "            background-color:  #a3c2fe;\n",
       "            color:  #000000;\n",
       "        }    #T_fbff4642_7335_11ea_83ea_b3662bcab3f9row9_col11 {\n",
       "            background-color:  #b5cdfa;\n",
       "            color:  #000000;\n",
       "        }    #T_fbff4642_7335_11ea_83ea_b3662bcab3f9row9_col12 {\n",
       "            background-color:  #84a7fc;\n",
       "            color:  #000000;\n",
       "        }    #T_fbff4642_7335_11ea_83ea_b3662bcab3f9row9_col13 {\n",
       "            background-color:  #88abfd;\n",
       "            color:  #000000;\n",
       "        }    #T_fbff4642_7335_11ea_83ea_b3662bcab3f9row9_col14 {\n",
       "            background-color:  #d8dce2;\n",
       "            color:  #000000;\n",
       "        }    #T_fbff4642_7335_11ea_83ea_b3662bcab3f9row9_col15 {\n",
       "            background-color:  #6788ee;\n",
       "            color:  #000000;\n",
       "        }    #T_fbff4642_7335_11ea_83ea_b3662bcab3f9row9_col16 {\n",
       "            background-color:  #7396f5;\n",
       "            color:  #000000;\n",
       "        }    #T_fbff4642_7335_11ea_83ea_b3662bcab3f9row9_col17 {\n",
       "            background-color:  #abc8fd;\n",
       "            color:  #000000;\n",
       "        }    #T_fbff4642_7335_11ea_83ea_b3662bcab3f9row9_col18 {\n",
       "            background-color:  #e3d9d3;\n",
       "            color:  #000000;\n",
       "        }    #T_fbff4642_7335_11ea_83ea_b3662bcab3f9row9_col19 {\n",
       "            background-color:  #688aef;\n",
       "            color:  #000000;\n",
       "        }    #T_fbff4642_7335_11ea_83ea_b3662bcab3f9row10_col0 {\n",
       "            background-color:  #3f53c6;\n",
       "            color:  #f1f1f1;\n",
       "        }    #T_fbff4642_7335_11ea_83ea_b3662bcab3f9row10_col1 {\n",
       "            background-color:  #6c8ff1;\n",
       "            color:  #000000;\n",
       "        }    #T_fbff4642_7335_11ea_83ea_b3662bcab3f9row10_col2 {\n",
       "            background-color:  #96b7ff;\n",
       "            color:  #000000;\n",
       "        }    #T_fbff4642_7335_11ea_83ea_b3662bcab3f9row10_col3 {\n",
       "            background-color:  #89acfd;\n",
       "            color:  #000000;\n",
       "        }    #T_fbff4642_7335_11ea_83ea_b3662bcab3f9row10_col4 {\n",
       "            background-color:  #e6d7cf;\n",
       "            color:  #000000;\n",
       "        }    #T_fbff4642_7335_11ea_83ea_b3662bcab3f9row10_col5 {\n",
       "            background-color:  #4055c8;\n",
       "            color:  #f1f1f1;\n",
       "        }    #T_fbff4642_7335_11ea_83ea_b3662bcab3f9row10_col6 {\n",
       "            background-color:  #8fb1fe;\n",
       "            color:  #000000;\n",
       "        }    #T_fbff4642_7335_11ea_83ea_b3662bcab3f9row10_col7 {\n",
       "            background-color:  #96b7ff;\n",
       "            color:  #000000;\n",
       "        }    #T_fbff4642_7335_11ea_83ea_b3662bcab3f9row10_col8 {\n",
       "            background-color:  #b6cefa;\n",
       "            color:  #000000;\n",
       "        }    #T_fbff4642_7335_11ea_83ea_b3662bcab3f9row10_col9 {\n",
       "            background-color:  #a6c4fe;\n",
       "            color:  #000000;\n",
       "        }    #T_fbff4642_7335_11ea_83ea_b3662bcab3f9row10_col10 {\n",
       "            background-color:  #b40426;\n",
       "            color:  #f1f1f1;\n",
       "        }    #T_fbff4642_7335_11ea_83ea_b3662bcab3f9row10_col11 {\n",
       "            background-color:  #c3d5f4;\n",
       "            color:  #000000;\n",
       "        }    #T_fbff4642_7335_11ea_83ea_b3662bcab3f9row10_col12 {\n",
       "            background-color:  #adc9fd;\n",
       "            color:  #000000;\n",
       "        }    #T_fbff4642_7335_11ea_83ea_b3662bcab3f9row10_col13 {\n",
       "            background-color:  #b7cff9;\n",
       "            color:  #000000;\n",
       "        }    #T_fbff4642_7335_11ea_83ea_b3662bcab3f9row10_col14 {\n",
       "            background-color:  #e6d7cf;\n",
       "            color:  #000000;\n",
       "        }    #T_fbff4642_7335_11ea_83ea_b3662bcab3f9row10_col15 {\n",
       "            background-color:  #6180e9;\n",
       "            color:  #000000;\n",
       "        }    #T_fbff4642_7335_11ea_83ea_b3662bcab3f9row10_col16 {\n",
       "            background-color:  #6e90f2;\n",
       "            color:  #000000;\n",
       "        }    #T_fbff4642_7335_11ea_83ea_b3662bcab3f9row10_col17 {\n",
       "            background-color:  #b5cdfa;\n",
       "            color:  #000000;\n",
       "        }    #T_fbff4642_7335_11ea_83ea_b3662bcab3f9row10_col18 {\n",
       "            background-color:  #e6d7cf;\n",
       "            color:  #000000;\n",
       "        }    #T_fbff4642_7335_11ea_83ea_b3662bcab3f9row10_col19 {\n",
       "            background-color:  #6b8df0;\n",
       "            color:  #000000;\n",
       "        }    #T_fbff4642_7335_11ea_83ea_b3662bcab3f9row11_col0 {\n",
       "            background-color:  #3e51c5;\n",
       "            color:  #f1f1f1;\n",
       "        }    #T_fbff4642_7335_11ea_83ea_b3662bcab3f9row11_col1 {\n",
       "            background-color:  #4a63d3;\n",
       "            color:  #f1f1f1;\n",
       "        }    #T_fbff4642_7335_11ea_83ea_b3662bcab3f9row11_col2 {\n",
       "            background-color:  #8caffe;\n",
       "            color:  #000000;\n",
       "        }    #T_fbff4642_7335_11ea_83ea_b3662bcab3f9row11_col3 {\n",
       "            background-color:  #9bbcff;\n",
       "            color:  #000000;\n",
       "        }    #T_fbff4642_7335_11ea_83ea_b3662bcab3f9row11_col4 {\n",
       "            background-color:  #dedcdb;\n",
       "            color:  #000000;\n",
       "        }    #T_fbff4642_7335_11ea_83ea_b3662bcab3f9row11_col5 {\n",
       "            background-color:  #3c4ec2;\n",
       "            color:  #f1f1f1;\n",
       "        }    #T_fbff4642_7335_11ea_83ea_b3662bcab3f9row11_col6 {\n",
       "            background-color:  #6e90f2;\n",
       "            color:  #000000;\n",
       "        }    #T_fbff4642_7335_11ea_83ea_b3662bcab3f9row11_col7 {\n",
       "            background-color:  #84a7fc;\n",
       "            color:  #000000;\n",
       "        }    #T_fbff4642_7335_11ea_83ea_b3662bcab3f9row11_col8 {\n",
       "            background-color:  #cdd9ec;\n",
       "            color:  #000000;\n",
       "        }    #T_fbff4642_7335_11ea_83ea_b3662bcab3f9row11_col9 {\n",
       "            background-color:  #a6c4fe;\n",
       "            color:  #000000;\n",
       "        }    #T_fbff4642_7335_11ea_83ea_b3662bcab3f9row11_col10 {\n",
       "            background-color:  #b2ccfb;\n",
       "            color:  #000000;\n",
       "        }    #T_fbff4642_7335_11ea_83ea_b3662bcab3f9row11_col11 {\n",
       "            background-color:  #b40426;\n",
       "            color:  #f1f1f1;\n",
       "        }    #T_fbff4642_7335_11ea_83ea_b3662bcab3f9row11_col12 {\n",
       "            background-color:  #8badfd;\n",
       "            color:  #000000;\n",
       "        }    #T_fbff4642_7335_11ea_83ea_b3662bcab3f9row11_col13 {\n",
       "            background-color:  #8db0fe;\n",
       "            color:  #000000;\n",
       "        }    #T_fbff4642_7335_11ea_83ea_b3662bcab3f9row11_col14 {\n",
       "            background-color:  #f1cdba;\n",
       "            color:  #000000;\n",
       "        }    #T_fbff4642_7335_11ea_83ea_b3662bcab3f9row11_col15 {\n",
       "            background-color:  #4b64d5;\n",
       "            color:  #f1f1f1;\n",
       "        }    #T_fbff4642_7335_11ea_83ea_b3662bcab3f9row11_col16 {\n",
       "            background-color:  #779af7;\n",
       "            color:  #000000;\n",
       "        }    #T_fbff4642_7335_11ea_83ea_b3662bcab3f9row11_col17 {\n",
       "            background-color:  #89acfd;\n",
       "            color:  #000000;\n",
       "        }    #T_fbff4642_7335_11ea_83ea_b3662bcab3f9row11_col18 {\n",
       "            background-color:  #d2dbe8;\n",
       "            color:  #000000;\n",
       "        }    #T_fbff4642_7335_11ea_83ea_b3662bcab3f9row11_col19 {\n",
       "            background-color:  #5470de;\n",
       "            color:  #000000;\n",
       "        }    #T_fbff4642_7335_11ea_83ea_b3662bcab3f9row12_col0 {\n",
       "            background-color:  #3e51c5;\n",
       "            color:  #f1f1f1;\n",
       "        }    #T_fbff4642_7335_11ea_83ea_b3662bcab3f9row12_col1 {\n",
       "            background-color:  #7a9df8;\n",
       "            color:  #000000;\n",
       "        }    #T_fbff4642_7335_11ea_83ea_b3662bcab3f9row12_col2 {\n",
       "            background-color:  #8fb1fe;\n",
       "            color:  #000000;\n",
       "        }    #T_fbff4642_7335_11ea_83ea_b3662bcab3f9row12_col3 {\n",
       "            background-color:  #80a3fa;\n",
       "            color:  #000000;\n",
       "        }    #T_fbff4642_7335_11ea_83ea_b3662bcab3f9row12_col4 {\n",
       "            background-color:  #d7dce3;\n",
       "            color:  #000000;\n",
       "        }    #T_fbff4642_7335_11ea_83ea_b3662bcab3f9row12_col5 {\n",
       "            background-color:  #506bda;\n",
       "            color:  #000000;\n",
       "        }    #T_fbff4642_7335_11ea_83ea_b3662bcab3f9row12_col6 {\n",
       "            background-color:  #9dbdff;\n",
       "            color:  #000000;\n",
       "        }    #T_fbff4642_7335_11ea_83ea_b3662bcab3f9row12_col7 {\n",
       "            background-color:  #a6c4fe;\n",
       "            color:  #000000;\n",
       "        }    #T_fbff4642_7335_11ea_83ea_b3662bcab3f9row12_col8 {\n",
       "            background-color:  #94b6ff;\n",
       "            color:  #000000;\n",
       "        }    #T_fbff4642_7335_11ea_83ea_b3662bcab3f9row12_col9 {\n",
       "            background-color:  #9abbff;\n",
       "            color:  #000000;\n",
       "        }    #T_fbff4642_7335_11ea_83ea_b3662bcab3f9row12_col10 {\n",
       "            background-color:  #bbd1f8;\n",
       "            color:  #000000;\n",
       "        }    #T_fbff4642_7335_11ea_83ea_b3662bcab3f9row12_col11 {\n",
       "            background-color:  #afcafc;\n",
       "            color:  #000000;\n",
       "        }    #T_fbff4642_7335_11ea_83ea_b3662bcab3f9row12_col12 {\n",
       "            background-color:  #b40426;\n",
       "            color:  #f1f1f1;\n",
       "        }    #T_fbff4642_7335_11ea_83ea_b3662bcab3f9row12_col13 {\n",
       "            background-color:  #dbdcde;\n",
       "            color:  #000000;\n",
       "        }    #T_fbff4642_7335_11ea_83ea_b3662bcab3f9row12_col14 {\n",
       "            background-color:  #cfdaea;\n",
       "            color:  #000000;\n",
       "        }    #T_fbff4642_7335_11ea_83ea_b3662bcab3f9row12_col15 {\n",
       "            background-color:  #88abfd;\n",
       "            color:  #000000;\n",
       "        }    #T_fbff4642_7335_11ea_83ea_b3662bcab3f9row12_col16 {\n",
       "            background-color:  #779af7;\n",
       "            color:  #000000;\n",
       "        }    #T_fbff4642_7335_11ea_83ea_b3662bcab3f9row12_col17 {\n",
       "            background-color:  #dcdddd;\n",
       "            color:  #000000;\n",
       "        }    #T_fbff4642_7335_11ea_83ea_b3662bcab3f9row12_col18 {\n",
       "            background-color:  #e7d7ce;\n",
       "            color:  #000000;\n",
       "        }    #T_fbff4642_7335_11ea_83ea_b3662bcab3f9row12_col19 {\n",
       "            background-color:  #8fb1fe;\n",
       "            color:  #000000;\n",
       "        }    #T_fbff4642_7335_11ea_83ea_b3662bcab3f9row13_col0 {\n",
       "            background-color:  #3e51c5;\n",
       "            color:  #f1f1f1;\n",
       "        }    #T_fbff4642_7335_11ea_83ea_b3662bcab3f9row13_col1 {\n",
       "            background-color:  #80a3fa;\n",
       "            color:  #000000;\n",
       "        }    #T_fbff4642_7335_11ea_83ea_b3662bcab3f9row13_col2 {\n",
       "            background-color:  #8caffe;\n",
       "            color:  #000000;\n",
       "        }    #T_fbff4642_7335_11ea_83ea_b3662bcab3f9row13_col3 {\n",
       "            background-color:  #7a9df8;\n",
       "            color:  #000000;\n",
       "        }    #T_fbff4642_7335_11ea_83ea_b3662bcab3f9row13_col4 {\n",
       "            background-color:  #dadce0;\n",
       "            color:  #000000;\n",
       "        }    #T_fbff4642_7335_11ea_83ea_b3662bcab3f9row13_col5 {\n",
       "            background-color:  #4e68d8;\n",
       "            color:  #000000;\n",
       "        }    #T_fbff4642_7335_11ea_83ea_b3662bcab3f9row13_col6 {\n",
       "            background-color:  #a1c0ff;\n",
       "            color:  #000000;\n",
       "        }    #T_fbff4642_7335_11ea_83ea_b3662bcab3f9row13_col7 {\n",
       "            background-color:  #a2c1ff;\n",
       "            color:  #000000;\n",
       "        }    #T_fbff4642_7335_11ea_83ea_b3662bcab3f9row13_col8 {\n",
       "            background-color:  #97b8ff;\n",
       "            color:  #000000;\n",
       "        }    #T_fbff4642_7335_11ea_83ea_b3662bcab3f9row13_col9 {\n",
       "            background-color:  #98b9ff;\n",
       "            color:  #000000;\n",
       "        }    #T_fbff4642_7335_11ea_83ea_b3662bcab3f9row13_col10 {\n",
       "            background-color:  #c1d4f4;\n",
       "            color:  #000000;\n",
       "        }    #T_fbff4642_7335_11ea_83ea_b3662bcab3f9row13_col11 {\n",
       "            background-color:  #afcafc;\n",
       "            color:  #000000;\n",
       "        }    #T_fbff4642_7335_11ea_83ea_b3662bcab3f9row13_col12 {\n",
       "            background-color:  #d9dce1;\n",
       "            color:  #000000;\n",
       "        }    #T_fbff4642_7335_11ea_83ea_b3662bcab3f9row13_col13 {\n",
       "            background-color:  #b40426;\n",
       "            color:  #f1f1f1;\n",
       "        }    #T_fbff4642_7335_11ea_83ea_b3662bcab3f9row13_col14 {\n",
       "            background-color:  #d1dae9;\n",
       "            color:  #000000;\n",
       "        }    #T_fbff4642_7335_11ea_83ea_b3662bcab3f9row13_col15 {\n",
       "            background-color:  #84a7fc;\n",
       "            color:  #000000;\n",
       "        }    #T_fbff4642_7335_11ea_83ea_b3662bcab3f9row13_col16 {\n",
       "            background-color:  #7396f5;\n",
       "            color:  #000000;\n",
       "        }    #T_fbff4642_7335_11ea_83ea_b3662bcab3f9row13_col17 {\n",
       "            background-color:  #dcdddd;\n",
       "            color:  #000000;\n",
       "        }    #T_fbff4642_7335_11ea_83ea_b3662bcab3f9row13_col18 {\n",
       "            background-color:  #ead5c9;\n",
       "            color:  #000000;\n",
       "        }    #T_fbff4642_7335_11ea_83ea_b3662bcab3f9row13_col19 {\n",
       "            background-color:  #8fb1fe;\n",
       "            color:  #000000;\n",
       "        }    #T_fbff4642_7335_11ea_83ea_b3662bcab3f9row14_col0 {\n",
       "            background-color:  #3f53c6;\n",
       "            color:  #f1f1f1;\n",
       "        }    #T_fbff4642_7335_11ea_83ea_b3662bcab3f9row14_col1 {\n",
       "            background-color:  #4a63d3;\n",
       "            color:  #f1f1f1;\n",
       "        }    #T_fbff4642_7335_11ea_83ea_b3662bcab3f9row14_col2 {\n",
       "            background-color:  #bed2f6;\n",
       "            color:  #000000;\n",
       "        }    #T_fbff4642_7335_11ea_83ea_b3662bcab3f9row14_col3 {\n",
       "            background-color:  #bad0f8;\n",
       "            color:  #000000;\n",
       "        }    #T_fbff4642_7335_11ea_83ea_b3662bcab3f9row14_col4 {\n",
       "            background-color:  #f39577;\n",
       "            color:  #000000;\n",
       "        }    #T_fbff4642_7335_11ea_83ea_b3662bcab3f9row14_col5 {\n",
       "            background-color:  #4055c8;\n",
       "            color:  #f1f1f1;\n",
       "        }    #T_fbff4642_7335_11ea_83ea_b3662bcab3f9row14_col6 {\n",
       "            background-color:  #8caffe;\n",
       "            color:  #000000;\n",
       "        }    #T_fbff4642_7335_11ea_83ea_b3662bcab3f9row14_col7 {\n",
       "            background-color:  #a5c3fe;\n",
       "            color:  #000000;\n",
       "        }    #T_fbff4642_7335_11ea_83ea_b3662bcab3f9row14_col8 {\n",
       "            background-color:  #e0dbd8;\n",
       "            color:  #000000;\n",
       "        }    #T_fbff4642_7335_11ea_83ea_b3662bcab3f9row14_col9 {\n",
       "            background-color:  #bfd3f6;\n",
       "            color:  #000000;\n",
       "        }    #T_fbff4642_7335_11ea_83ea_b3662bcab3f9row14_col10 {\n",
       "            background-color:  #d1dae9;\n",
       "            color:  #000000;\n",
       "        }    #T_fbff4642_7335_11ea_83ea_b3662bcab3f9row14_col11 {\n",
       "            background-color:  #ead5c9;\n",
       "            color:  #000000;\n",
       "        }    #T_fbff4642_7335_11ea_83ea_b3662bcab3f9row14_col12 {\n",
       "            background-color:  #9fbfff;\n",
       "            color:  #000000;\n",
       "        }    #T_fbff4642_7335_11ea_83ea_b3662bcab3f9row14_col13 {\n",
       "            background-color:  #a5c3fe;\n",
       "            color:  #000000;\n",
       "        }    #T_fbff4642_7335_11ea_83ea_b3662bcab3f9row14_col14 {\n",
       "            background-color:  #b40426;\n",
       "            color:  #f1f1f1;\n",
       "        }    #T_fbff4642_7335_11ea_83ea_b3662bcab3f9row14_col15 {\n",
       "            background-color:  #3b4cc0;\n",
       "            color:  #f1f1f1;\n",
       "        }    #T_fbff4642_7335_11ea_83ea_b3662bcab3f9row14_col16 {\n",
       "            background-color:  #5a78e4;\n",
       "            color:  #000000;\n",
       "        }    #T_fbff4642_7335_11ea_83ea_b3662bcab3f9row14_col17 {\n",
       "            background-color:  #779af7;\n",
       "            color:  #000000;\n",
       "        }    #T_fbff4642_7335_11ea_83ea_b3662bcab3f9row14_col18 {\n",
       "            background-color:  #efcebd;\n",
       "            color:  #000000;\n",
       "        }    #T_fbff4642_7335_11ea_83ea_b3662bcab3f9row14_col19 {\n",
       "            background-color:  #3b4cc0;\n",
       "            color:  #f1f1f1;\n",
       "        }    #T_fbff4642_7335_11ea_83ea_b3662bcab3f9row15_col0 {\n",
       "            background-color:  #3c4ec2;\n",
       "            color:  #f1f1f1;\n",
       "        }    #T_fbff4642_7335_11ea_83ea_b3662bcab3f9row15_col1 {\n",
       "            background-color:  #9fbfff;\n",
       "            color:  #000000;\n",
       "        }    #T_fbff4642_7335_11ea_83ea_b3662bcab3f9row15_col2 {\n",
       "            background-color:  #5e7de7;\n",
       "            color:  #000000;\n",
       "        }    #T_fbff4642_7335_11ea_83ea_b3662bcab3f9row15_col3 {\n",
       "            background-color:  #5470de;\n",
       "            color:  #000000;\n",
       "        }    #T_fbff4642_7335_11ea_83ea_b3662bcab3f9row15_col4 {\n",
       "            background-color:  #93b5fe;\n",
       "            color:  #000000;\n",
       "        }    #T_fbff4642_7335_11ea_83ea_b3662bcab3f9row15_col5 {\n",
       "            background-color:  #455cce;\n",
       "            color:  #f1f1f1;\n",
       "        }    #T_fbff4642_7335_11ea_83ea_b3662bcab3f9row15_col6 {\n",
       "            background-color:  #9dbdff;\n",
       "            color:  #000000;\n",
       "        }    #T_fbff4642_7335_11ea_83ea_b3662bcab3f9row15_col7 {\n",
       "            background-color:  #6687ed;\n",
       "            color:  #000000;\n",
       "        }    #T_fbff4642_7335_11ea_83ea_b3662bcab3f9row15_col8 {\n",
       "            background-color:  #5b7ae5;\n",
       "            color:  #000000;\n",
       "        }    #T_fbff4642_7335_11ea_83ea_b3662bcab3f9row15_col9 {\n",
       "            background-color:  #6a8bef;\n",
       "            color:  #000000;\n",
       "        }    #T_fbff4642_7335_11ea_83ea_b3662bcab3f9row15_col10 {\n",
       "            background-color:  #5f7fe8;\n",
       "            color:  #000000;\n",
       "        }    #T_fbff4642_7335_11ea_83ea_b3662bcab3f9row15_col11 {\n",
       "            background-color:  #6282ea;\n",
       "            color:  #000000;\n",
       "        }    #T_fbff4642_7335_11ea_83ea_b3662bcab3f9row15_col12 {\n",
       "            background-color:  #7597f6;\n",
       "            color:  #000000;\n",
       "        }    #T_fbff4642_7335_11ea_83ea_b3662bcab3f9row15_col13 {\n",
       "            background-color:  #7396f5;\n",
       "            color:  #000000;\n",
       "        }    #T_fbff4642_7335_11ea_83ea_b3662bcab3f9row15_col14 {\n",
       "            background-color:  #6b8df0;\n",
       "            color:  #000000;\n",
       "        }    #T_fbff4642_7335_11ea_83ea_b3662bcab3f9row15_col15 {\n",
       "            background-color:  #b40426;\n",
       "            color:  #f1f1f1;\n",
       "        }    #T_fbff4642_7335_11ea_83ea_b3662bcab3f9row15_col16 {\n",
       "            background-color:  #82a6fb;\n",
       "            color:  #000000;\n",
       "        }    #T_fbff4642_7335_11ea_83ea_b3662bcab3f9row15_col17 {\n",
       "            background-color:  #e0dbd8;\n",
       "            color:  #000000;\n",
       "        }    #T_fbff4642_7335_11ea_83ea_b3662bcab3f9row15_col18 {\n",
       "            background-color:  #b6cefa;\n",
       "            color:  #000000;\n",
       "        }    #T_fbff4642_7335_11ea_83ea_b3662bcab3f9row15_col19 {\n",
       "            background-color:  #c6d6f1;\n",
       "            color:  #000000;\n",
       "        }    #T_fbff4642_7335_11ea_83ea_b3662bcab3f9row16_col0 {\n",
       "            background-color:  #455cce;\n",
       "            color:  #f1f1f1;\n",
       "        }    #T_fbff4642_7335_11ea_83ea_b3662bcab3f9row16_col1 {\n",
       "            background-color:  #688aef;\n",
       "            color:  #000000;\n",
       "        }    #T_fbff4642_7335_11ea_83ea_b3662bcab3f9row16_col2 {\n",
       "            background-color:  #3b4cc0;\n",
       "            color:  #f1f1f1;\n",
       "        }    #T_fbff4642_7335_11ea_83ea_b3662bcab3f9row16_col3 {\n",
       "            background-color:  #688aef;\n",
       "            color:  #000000;\n",
       "        }    #T_fbff4642_7335_11ea_83ea_b3662bcab3f9row16_col4 {\n",
       "            background-color:  #3b4cc0;\n",
       "            color:  #f1f1f1;\n",
       "        }    #T_fbff4642_7335_11ea_83ea_b3662bcab3f9row16_col5 {\n",
       "            background-color:  #3e51c5;\n",
       "            color:  #f1f1f1;\n",
       "        }    #T_fbff4642_7335_11ea_83ea_b3662bcab3f9row16_col6 {\n",
       "            background-color:  #3b4cc0;\n",
       "            color:  #f1f1f1;\n",
       "        }    #T_fbff4642_7335_11ea_83ea_b3662bcab3f9row16_col7 {\n",
       "            background-color:  #a2c1ff;\n",
       "            color:  #000000;\n",
       "        }    #T_fbff4642_7335_11ea_83ea_b3662bcab3f9row16_col8 {\n",
       "            background-color:  #6b8df0;\n",
       "            color:  #000000;\n",
       "        }    #T_fbff4642_7335_11ea_83ea_b3662bcab3f9row16_col9 {\n",
       "            background-color:  #4e68d8;\n",
       "            color:  #000000;\n",
       "        }    #T_fbff4642_7335_11ea_83ea_b3662bcab3f9row16_col10 {\n",
       "            background-color:  #445acc;\n",
       "            color:  #f1f1f1;\n",
       "        }    #T_fbff4642_7335_11ea_83ea_b3662bcab3f9row16_col11 {\n",
       "            background-color:  #6687ed;\n",
       "            color:  #000000;\n",
       "        }    #T_fbff4642_7335_11ea_83ea_b3662bcab3f9row16_col12 {\n",
       "            background-color:  #3b4cc0;\n",
       "            color:  #f1f1f1;\n",
       "        }    #T_fbff4642_7335_11ea_83ea_b3662bcab3f9row16_col13 {\n",
       "            background-color:  #3b4cc0;\n",
       "            color:  #f1f1f1;\n",
       "        }    #T_fbff4642_7335_11ea_83ea_b3662bcab3f9row16_col14 {\n",
       "            background-color:  #6282ea;\n",
       "            color:  #000000;\n",
       "        }    #T_fbff4642_7335_11ea_83ea_b3662bcab3f9row16_col15 {\n",
       "            background-color:  #5b7ae5;\n",
       "            color:  #000000;\n",
       "        }    #T_fbff4642_7335_11ea_83ea_b3662bcab3f9row16_col16 {\n",
       "            background-color:  #b40426;\n",
       "            color:  #f1f1f1;\n",
       "        }    #T_fbff4642_7335_11ea_83ea_b3662bcab3f9row16_col17 {\n",
       "            background-color:  #5673e0;\n",
       "            color:  #000000;\n",
       "        }    #T_fbff4642_7335_11ea_83ea_b3662bcab3f9row16_col18 {\n",
       "            background-color:  #3b4cc0;\n",
       "            color:  #f1f1f1;\n",
       "        }    #T_fbff4642_7335_11ea_83ea_b3662bcab3f9row16_col19 {\n",
       "            background-color:  #b2ccfb;\n",
       "            color:  #000000;\n",
       "        }    #T_fbff4642_7335_11ea_83ea_b3662bcab3f9row17_col0 {\n",
       "            background-color:  #3c4ec2;\n",
       "            color:  #f1f1f1;\n",
       "        }    #T_fbff4642_7335_11ea_83ea_b3662bcab3f9row17_col1 {\n",
       "            background-color:  #b2ccfb;\n",
       "            color:  #000000;\n",
       "        }    #T_fbff4642_7335_11ea_83ea_b3662bcab3f9row17_col2 {\n",
       "            background-color:  #82a6fb;\n",
       "            color:  #000000;\n",
       "        }    #T_fbff4642_7335_11ea_83ea_b3662bcab3f9row17_col3 {\n",
       "            background-color:  #536edd;\n",
       "            color:  #000000;\n",
       "        }    #T_fbff4642_7335_11ea_83ea_b3662bcab3f9row17_col4 {\n",
       "            background-color:  #d1dae9;\n",
       "            color:  #000000;\n",
       "        }    #T_fbff4642_7335_11ea_83ea_b3662bcab3f9row17_col5 {\n",
       "            background-color:  #92b4fe;\n",
       "            color:  #000000;\n",
       "        }    #T_fbff4642_7335_11ea_83ea_b3662bcab3f9row17_col6 {\n",
       "            background-color:  #e2dad5;\n",
       "            color:  #000000;\n",
       "        }    #T_fbff4642_7335_11ea_83ea_b3662bcab3f9row17_col7 {\n",
       "            background-color:  #3b4cc0;\n",
       "            color:  #f1f1f1;\n",
       "        }    #T_fbff4642_7335_11ea_83ea_b3662bcab3f9row17_col8 {\n",
       "            background-color:  #779af7;\n",
       "            color:  #000000;\n",
       "        }    #T_fbff4642_7335_11ea_83ea_b3662bcab3f9row17_col9 {\n",
       "            background-color:  #93b5fe;\n",
       "            color:  #000000;\n",
       "        }    #T_fbff4642_7335_11ea_83ea_b3662bcab3f9row17_col10 {\n",
       "            background-color:  #9bbcff;\n",
       "            color:  #000000;\n",
       "        }    #T_fbff4642_7335_11ea_83ea_b3662bcab3f9row17_col11 {\n",
       "            background-color:  #80a3fa;\n",
       "            color:  #000000;\n",
       "        }    #T_fbff4642_7335_11ea_83ea_b3662bcab3f9row17_col12 {\n",
       "            background-color:  #bfd3f6;\n",
       "            color:  #000000;\n",
       "        }    #T_fbff4642_7335_11ea_83ea_b3662bcab3f9row17_col13 {\n",
       "            background-color:  #c3d5f4;\n",
       "            color:  #000000;\n",
       "        }    #T_fbff4642_7335_11ea_83ea_b3662bcab3f9row17_col14 {\n",
       "            background-color:  #88abfd;\n",
       "            color:  #000000;\n",
       "        }    #T_fbff4642_7335_11ea_83ea_b3662bcab3f9row17_col15 {\n",
       "            background-color:  #d1dae9;\n",
       "            color:  #000000;\n",
       "        }    #T_fbff4642_7335_11ea_83ea_b3662bcab3f9row17_col16 {\n",
       "            background-color:  #5f7fe8;\n",
       "            color:  #000000;\n",
       "        }    #T_fbff4642_7335_11ea_83ea_b3662bcab3f9row17_col17 {\n",
       "            background-color:  #b40426;\n",
       "            color:  #f1f1f1;\n",
       "        }    #T_fbff4642_7335_11ea_83ea_b3662bcab3f9row17_col18 {\n",
       "            background-color:  #f59d7e;\n",
       "            color:  #000000;\n",
       "        }    #T_fbff4642_7335_11ea_83ea_b3662bcab3f9row17_col19 {\n",
       "            background-color:  #c5d6f2;\n",
       "            color:  #000000;\n",
       "        }    #T_fbff4642_7335_11ea_83ea_b3662bcab3f9row18_col0 {\n",
       "            background-color:  #3f53c6;\n",
       "            color:  #f1f1f1;\n",
       "        }    #T_fbff4642_7335_11ea_83ea_b3662bcab3f9row18_col1 {\n",
       "            background-color:  #8db0fe;\n",
       "            color:  #000000;\n",
       "        }    #T_fbff4642_7335_11ea_83ea_b3662bcab3f9row18_col2 {\n",
       "            background-color:  #c4d5f3;\n",
       "            color:  #000000;\n",
       "        }    #T_fbff4642_7335_11ea_83ea_b3662bcab3f9row18_col3 {\n",
       "            background-color:  #85a8fc;\n",
       "            color:  #000000;\n",
       "        }    #T_fbff4642_7335_11ea_83ea_b3662bcab3f9row18_col4 {\n",
       "            background-color:  #de614d;\n",
       "            color:  #000000;\n",
       "        }    #T_fbff4642_7335_11ea_83ea_b3662bcab3f9row18_col5 {\n",
       "            background-color:  #6384eb;\n",
       "            color:  #000000;\n",
       "        }    #T_fbff4642_7335_11ea_83ea_b3662bcab3f9row18_col6 {\n",
       "            background-color:  #e7d7ce;\n",
       "            color:  #000000;\n",
       "        }    #T_fbff4642_7335_11ea_83ea_b3662bcab3f9row18_col7 {\n",
       "            background-color:  #5d7ce6;\n",
       "            color:  #000000;\n",
       "        }    #T_fbff4642_7335_11ea_83ea_b3662bcab3f9row18_col8 {\n",
       "            background-color:  #c7d7f0;\n",
       "            color:  #000000;\n",
       "        }    #T_fbff4642_7335_11ea_83ea_b3662bcab3f9row18_col9 {\n",
       "            background-color:  #d6dce4;\n",
       "            color:  #000000;\n",
       "        }    #T_fbff4642_7335_11ea_83ea_b3662bcab3f9row18_col10 {\n",
       "            background-color:  #d8dce2;\n",
       "            color:  #000000;\n",
       "        }    #T_fbff4642_7335_11ea_83ea_b3662bcab3f9row18_col11 {\n",
       "            background-color:  #cbd8ee;\n",
       "            color:  #000000;\n",
       "        }    #T_fbff4642_7335_11ea_83ea_b3662bcab3f9row18_col12 {\n",
       "            background-color:  #cedaeb;\n",
       "            color:  #000000;\n",
       "        }    #T_fbff4642_7335_11ea_83ea_b3662bcab3f9row18_col13 {\n",
       "            background-color:  #d4dbe6;\n",
       "            color:  #000000;\n",
       "        }    #T_fbff4642_7335_11ea_83ea_b3662bcab3f9row18_col14 {\n",
       "            background-color:  #f2c9b4;\n",
       "            color:  #000000;\n",
       "        }    #T_fbff4642_7335_11ea_83ea_b3662bcab3f9row18_col15 {\n",
       "            background-color:  #9bbcff;\n",
       "            color:  #000000;\n",
       "        }    #T_fbff4642_7335_11ea_83ea_b3662bcab3f9row18_col16 {\n",
       "            background-color:  #4257c9;\n",
       "            color:  #f1f1f1;\n",
       "        }    #T_fbff4642_7335_11ea_83ea_b3662bcab3f9row18_col17 {\n",
       "            background-color:  #f59d7e;\n",
       "            color:  #000000;\n",
       "        }    #T_fbff4642_7335_11ea_83ea_b3662bcab3f9row18_col18 {\n",
       "            background-color:  #b40426;\n",
       "            color:  #f1f1f1;\n",
       "        }    #T_fbff4642_7335_11ea_83ea_b3662bcab3f9row18_col19 {\n",
       "            background-color:  #6788ee;\n",
       "            color:  #000000;\n",
       "        }    #T_fbff4642_7335_11ea_83ea_b3662bcab3f9row19_col0 {\n",
       "            background-color:  #3d50c3;\n",
       "            color:  #f1f1f1;\n",
       "        }    #T_fbff4642_7335_11ea_83ea_b3662bcab3f9row19_col1 {\n",
       "            background-color:  #9ebeff;\n",
       "            color:  #000000;\n",
       "        }    #T_fbff4642_7335_11ea_83ea_b3662bcab3f9row19_col2 {\n",
       "            background-color:  #3c4ec2;\n",
       "            color:  #f1f1f1;\n",
       "        }    #T_fbff4642_7335_11ea_83ea_b3662bcab3f9row19_col3 {\n",
       "            background-color:  #485fd1;\n",
       "            color:  #f1f1f1;\n",
       "        }    #T_fbff4642_7335_11ea_83ea_b3662bcab3f9row19_col4 {\n",
       "            background-color:  #3d50c3;\n",
       "            color:  #f1f1f1;\n",
       "        }    #T_fbff4642_7335_11ea_83ea_b3662bcab3f9row19_col5 {\n",
       "            background-color:  #4257c9;\n",
       "            color:  #f1f1f1;\n",
       "        }    #T_fbff4642_7335_11ea_83ea_b3662bcab3f9row19_col6 {\n",
       "            background-color:  #7396f5;\n",
       "            color:  #000000;\n",
       "        }    #T_fbff4642_7335_11ea_83ea_b3662bcab3f9row19_col7 {\n",
       "            background-color:  #7da0f9;\n",
       "            color:  #000000;\n",
       "        }    #T_fbff4642_7335_11ea_83ea_b3662bcab3f9row19_col8 {\n",
       "            background-color:  #3b4cc0;\n",
       "            color:  #f1f1f1;\n",
       "        }    #T_fbff4642_7335_11ea_83ea_b3662bcab3f9row19_col9 {\n",
       "            background-color:  #3b4cc0;\n",
       "            color:  #f1f1f1;\n",
       "        }    #T_fbff4642_7335_11ea_83ea_b3662bcab3f9row19_col10 {\n",
       "            background-color:  #3b4cc0;\n",
       "            color:  #f1f1f1;\n",
       "        }    #T_fbff4642_7335_11ea_83ea_b3662bcab3f9row19_col11 {\n",
       "            background-color:  #3b4cc0;\n",
       "            color:  #f1f1f1;\n",
       "        }    #T_fbff4642_7335_11ea_83ea_b3662bcab3f9row19_col12 {\n",
       "            background-color:  #4b64d5;\n",
       "            color:  #f1f1f1;\n",
       "        }    #T_fbff4642_7335_11ea_83ea_b3662bcab3f9row19_col13 {\n",
       "            background-color:  #4f69d9;\n",
       "            color:  #000000;\n",
       "        }    #T_fbff4642_7335_11ea_83ea_b3662bcab3f9row19_col14 {\n",
       "            background-color:  #3b4cc0;\n",
       "            color:  #f1f1f1;\n",
       "        }    #T_fbff4642_7335_11ea_83ea_b3662bcab3f9row19_col15 {\n",
       "            background-color:  #a3c2fe;\n",
       "            color:  #000000;\n",
       "        }    #T_fbff4642_7335_11ea_83ea_b3662bcab3f9row19_col16 {\n",
       "            background-color:  #adc9fd;\n",
       "            color:  #000000;\n",
       "        }    #T_fbff4642_7335_11ea_83ea_b3662bcab3f9row19_col17 {\n",
       "            background-color:  #bbd1f8;\n",
       "            color:  #000000;\n",
       "        }    #T_fbff4642_7335_11ea_83ea_b3662bcab3f9row19_col18 {\n",
       "            background-color:  #5875e1;\n",
       "            color:  #000000;\n",
       "        }    #T_fbff4642_7335_11ea_83ea_b3662bcab3f9row19_col19 {\n",
       "            background-color:  #b40426;\n",
       "            color:  #f1f1f1;\n",
       "        }</style><table id=\"T_fbff4642_7335_11ea_83ea_b3662bcab3f9\" ><thead>    <tr>        <th class=\"blank level0\" ></th>        <th class=\"col_heading level0 col0\" >gender</th>        <th class=\"col_heading level0 col1\" >SeniorCitizen</th>        <th class=\"col_heading level0 col2\" >Partner</th>        <th class=\"col_heading level0 col3\" >Dependents</th>        <th class=\"col_heading level0 col4\" >tenure</th>        <th class=\"col_heading level0 col5\" >PhoneService</th>        <th class=\"col_heading level0 col6\" >MultipleLines</th>        <th class=\"col_heading level0 col7\" >InternetService</th>        <th class=\"col_heading level0 col8\" >OnlineSecurity</th>        <th class=\"col_heading level0 col9\" >OnlineBackup</th>        <th class=\"col_heading level0 col10\" >DeviceProtection</th>        <th class=\"col_heading level0 col11\" >TechSupport</th>        <th class=\"col_heading level0 col12\" >StreamingTV</th>        <th class=\"col_heading level0 col13\" >StreamingMovies</th>        <th class=\"col_heading level0 col14\" >Contract</th>        <th class=\"col_heading level0 col15\" >PaperlessBilling</th>        <th class=\"col_heading level0 col16\" >PaymentMethod</th>        <th class=\"col_heading level0 col17\" >MonthlyCharges</th>        <th class=\"col_heading level0 col18\" >TotalCharges</th>        <th class=\"col_heading level0 col19\" >Churn</th>    </tr></thead><tbody>\n",
       "                <tr>\n",
       "                        <th id=\"T_fbff4642_7335_11ea_83ea_b3662bcab3f9level0_row0\" class=\"row_heading level0 row0\" >gender</th>\n",
       "                        <td id=\"T_fbff4642_7335_11ea_83ea_b3662bcab3f9row0_col0\" class=\"data row0 col0\" >1</td>\n",
       "                        <td id=\"T_fbff4642_7335_11ea_83ea_b3662bcab3f9row0_col1\" class=\"data row0 col1\" >-0.00744733</td>\n",
       "                        <td id=\"T_fbff4642_7335_11ea_83ea_b3662bcab3f9row0_col2\" class=\"data row0 col2\" >-0.00779137</td>\n",
       "                        <td id=\"T_fbff4642_7335_11ea_83ea_b3662bcab3f9row0_col3\" class=\"data row0 col3\" >0.00908269</td>\n",
       "                        <td id=\"T_fbff4642_7335_11ea_83ea_b3662bcab3f9row0_col4\" class=\"data row0 col4\" >0.00321991</td>\n",
       "                        <td id=\"T_fbff4642_7335_11ea_83ea_b3662bcab3f9row0_col5\" class=\"data row0 col5\" >-0.00491257</td>\n",
       "                        <td id=\"T_fbff4642_7335_11ea_83ea_b3662bcab3f9row0_col6\" class=\"data row0 col6\" >0.000654401</td>\n",
       "                        <td id=\"T_fbff4642_7335_11ea_83ea_b3662bcab3f9row0_col7\" class=\"data row0 col7\" >-0.00185768</td>\n",
       "                        <td id=\"T_fbff4642_7335_11ea_83ea_b3662bcab3f9row0_col8\" class=\"data row0 col8\" >-0.0207592</td>\n",
       "                        <td id=\"T_fbff4642_7335_11ea_83ea_b3662bcab3f9row0_col9\" class=\"data row0 col9\" >-0.0180448</td>\n",
       "                        <td id=\"T_fbff4642_7335_11ea_83ea_b3662bcab3f9row0_col10\" class=\"data row0 col10\" >-0.00301043</td>\n",
       "                        <td id=\"T_fbff4642_7335_11ea_83ea_b3662bcab3f9row0_col11\" class=\"data row0 col11\" >-0.00846832</td>\n",
       "                        <td id=\"T_fbff4642_7335_11ea_83ea_b3662bcab3f9row0_col12\" class=\"data row0 col12\" >-0.00819273</td>\n",
       "                        <td id=\"T_fbff4642_7335_11ea_83ea_b3662bcab3f9row0_col13\" class=\"data row0 col13\" >-0.00729691</td>\n",
       "                        <td id=\"T_fbff4642_7335_11ea_83ea_b3662bcab3f9row0_col14\" class=\"data row0 col14\" >-0.00184313</td>\n",
       "                        <td id=\"T_fbff4642_7335_11ea_83ea_b3662bcab3f9row0_col15\" class=\"data row0 col15\" >-0.0139895</td>\n",
       "                        <td id=\"T_fbff4642_7335_11ea_83ea_b3662bcab3f9row0_col16\" class=\"data row0 col16\" >0.0157446</td>\n",
       "                        <td id=\"T_fbff4642_7335_11ea_83ea_b3662bcab3f9row0_col17\" class=\"data row0 col17\" >-0.014286</td>\n",
       "                        <td id=\"T_fbff4642_7335_11ea_83ea_b3662bcab3f9row0_col18\" class=\"data row0 col18\" >-0.0036672</td>\n",
       "                        <td id=\"T_fbff4642_7335_11ea_83ea_b3662bcab3f9row0_col19\" class=\"data row0 col19\" >-0.00954815</td>\n",
       "            </tr>\n",
       "            <tr>\n",
       "                        <th id=\"T_fbff4642_7335_11ea_83ea_b3662bcab3f9level0_row1\" class=\"row_heading level0 row1\" >SeniorCitizen</th>\n",
       "                        <td id=\"T_fbff4642_7335_11ea_83ea_b3662bcab3f9row1_col0\" class=\"data row1 col0\" >-0.00744733</td>\n",
       "                        <td id=\"T_fbff4642_7335_11ea_83ea_b3662bcab3f9row1_col1\" class=\"data row1 col1\" >1</td>\n",
       "                        <td id=\"T_fbff4642_7335_11ea_83ea_b3662bcab3f9row1_col2\" class=\"data row1 col2\" >0.0148673</td>\n",
       "                        <td id=\"T_fbff4642_7335_11ea_83ea_b3662bcab3f9row1_col3\" class=\"data row1 col3\" >-0.214233</td>\n",
       "                        <td id=\"T_fbff4642_7335_11ea_83ea_b3662bcab3f9row1_col4\" class=\"data row1 col4\" >0.00543851</td>\n",
       "                        <td id=\"T_fbff4642_7335_11ea_83ea_b3662bcab3f9row1_col5\" class=\"data row1 col5\" >0.00946405</td>\n",
       "                        <td id=\"T_fbff4642_7335_11ea_83ea_b3662bcab3f9row1_col6\" class=\"data row1 col6\" >0.135743</td>\n",
       "                        <td id=\"T_fbff4642_7335_11ea_83ea_b3662bcab3f9row1_col7\" class=\"data row1 col7\" >-0.0336139</td>\n",
       "                        <td id=\"T_fbff4642_7335_11ea_83ea_b3662bcab3f9row1_col8\" class=\"data row1 col8\" >-0.127915</td>\n",
       "                        <td id=\"T_fbff4642_7335_11ea_83ea_b3662bcab3f9row1_col9\" class=\"data row1 col9\" >-0.0174604</td>\n",
       "                        <td id=\"T_fbff4642_7335_11ea_83ea_b3662bcab3f9row1_col10\" class=\"data row1 col10\" >-0.0199112</td>\n",
       "                        <td id=\"T_fbff4642_7335_11ea_83ea_b3662bcab3f9row1_col11\" class=\"data row1 col11\" >-0.152474</td>\n",
       "                        <td id=\"T_fbff4642_7335_11ea_83ea_b3662bcab3f9row1_col12\" class=\"data row1 col12\" >0.0268687</td>\n",
       "                        <td id=\"T_fbff4642_7335_11ea_83ea_b3662bcab3f9row1_col13\" class=\"data row1 col13\" >0.0429401</td>\n",
       "                        <td id=\"T_fbff4642_7335_11ea_83ea_b3662bcab3f9row1_col14\" class=\"data row1 col14\" >-0.149406</td>\n",
       "                        <td id=\"T_fbff4642_7335_11ea_83ea_b3662bcab3f9row1_col15\" class=\"data row1 col15\" >0.155691</td>\n",
       "                        <td id=\"T_fbff4642_7335_11ea_83ea_b3662bcab3f9row1_col16\" class=\"data row1 col16\" >-0.0376532</td>\n",
       "                        <td id=\"T_fbff4642_7335_11ea_83ea_b3662bcab3f9row1_col17\" class=\"data row1 col17\" >0.219387</td>\n",
       "                        <td id=\"T_fbff4642_7335_11ea_83ea_b3662bcab3f9row1_col18\" class=\"data row1 col18\" >0.0937969</td>\n",
       "                        <td id=\"T_fbff4642_7335_11ea_83ea_b3662bcab3f9row1_col19\" class=\"data row1 col19\" >0.150097</td>\n",
       "            </tr>\n",
       "            <tr>\n",
       "                        <th id=\"T_fbff4642_7335_11ea_83ea_b3662bcab3f9level0_row2\" class=\"row_heading level0 row2\" >Partner</th>\n",
       "                        <td id=\"T_fbff4642_7335_11ea_83ea_b3662bcab3f9row2_col0\" class=\"data row2 col0\" >-0.00779137</td>\n",
       "                        <td id=\"T_fbff4642_7335_11ea_83ea_b3662bcab3f9row2_col1\" class=\"data row2 col1\" >0.0148673</td>\n",
       "                        <td id=\"T_fbff4642_7335_11ea_83ea_b3662bcab3f9row2_col2\" class=\"data row2 col2\" >1</td>\n",
       "                        <td id=\"T_fbff4642_7335_11ea_83ea_b3662bcab3f9row2_col3\" class=\"data row2 col3\" >0.449029</td>\n",
       "                        <td id=\"T_fbff4642_7335_11ea_83ea_b3662bcab3f9row2_col4\" class=\"data row2 col4\" >0.382053</td>\n",
       "                        <td id=\"T_fbff4642_7335_11ea_83ea_b3662bcab3f9row2_col5\" class=\"data row2 col5\" >0.0249263</td>\n",
       "                        <td id=\"T_fbff4642_7335_11ea_83ea_b3662bcab3f9row2_col6\" class=\"data row2 col6\" >0.14791</td>\n",
       "                        <td id=\"T_fbff4642_7335_11ea_83ea_b3662bcab3f9row2_col7\" class=\"data row2 col7\" >0.00631926</td>\n",
       "                        <td id=\"T_fbff4642_7335_11ea_83ea_b3662bcab3f9row2_col8\" class=\"data row2 col8\" >0.161958</td>\n",
       "                        <td id=\"T_fbff4642_7335_11ea_83ea_b3662bcab3f9row2_col9\" class=\"data row2 col9\" >0.162627</td>\n",
       "                        <td id=\"T_fbff4642_7335_11ea_83ea_b3662bcab3f9row2_col10\" class=\"data row2 col10\" >0.165875</td>\n",
       "                        <td id=\"T_fbff4642_7335_11ea_83ea_b3662bcab3f9row2_col11\" class=\"data row2 col11\" >0.133171</td>\n",
       "                        <td id=\"T_fbff4642_7335_11ea_83ea_b3662bcab3f9row2_col12\" class=\"data row2 col12\" >0.143919</td>\n",
       "                        <td id=\"T_fbff4642_7335_11ea_83ea_b3662bcab3f9row2_col13\" class=\"data row2 col13\" >0.134082</td>\n",
       "                        <td id=\"T_fbff4642_7335_11ea_83ea_b3662bcab3f9row2_col14\" class=\"data row2 col14\" >0.300549</td>\n",
       "                        <td id=\"T_fbff4642_7335_11ea_83ea_b3662bcab3f9row2_col15\" class=\"data row2 col15\" >-0.0180368</td>\n",
       "                        <td id=\"T_fbff4642_7335_11ea_83ea_b3662bcab3f9row2_col16\" class=\"data row2 col16\" >-0.151566</td>\n",
       "                        <td id=\"T_fbff4642_7335_11ea_83ea_b3662bcab3f9row2_col17\" class=\"data row2 col17\" >0.104006</td>\n",
       "                        <td id=\"T_fbff4642_7335_11ea_83ea_b3662bcab3f9row2_col18\" class=\"data row2 col18\" >0.321375</td>\n",
       "                        <td id=\"T_fbff4642_7335_11ea_83ea_b3662bcab3f9row2_col19\" class=\"data row2 col19\" >-0.14684</td>\n",
       "            </tr>\n",
       "            <tr>\n",
       "                        <th id=\"T_fbff4642_7335_11ea_83ea_b3662bcab3f9level0_row3\" class=\"row_heading level0 row3\" >Dependents</th>\n",
       "                        <td id=\"T_fbff4642_7335_11ea_83ea_b3662bcab3f9row3_col0\" class=\"data row3 col0\" >0.00908269</td>\n",
       "                        <td id=\"T_fbff4642_7335_11ea_83ea_b3662bcab3f9row3_col1\" class=\"data row3 col1\" >-0.214233</td>\n",
       "                        <td id=\"T_fbff4642_7335_11ea_83ea_b3662bcab3f9row3_col2\" class=\"data row3 col2\" >0.449029</td>\n",
       "                        <td id=\"T_fbff4642_7335_11ea_83ea_b3662bcab3f9row3_col3\" class=\"data row3 col3\" >1</td>\n",
       "                        <td id=\"T_fbff4642_7335_11ea_83ea_b3662bcab3f9row3_col4\" class=\"data row3 col4\" >0.163829</td>\n",
       "                        <td id=\"T_fbff4642_7335_11ea_83ea_b3662bcab3f9row3_col5\" class=\"data row3 col5\" >-0.000579052</td>\n",
       "                        <td id=\"T_fbff4642_7335_11ea_83ea_b3662bcab3f9row3_col6\" class=\"data row3 col6\" >-0.02318</td>\n",
       "                        <td id=\"T_fbff4642_7335_11ea_83ea_b3662bcab3f9row3_col7\" class=\"data row3 col7\" >0.0467192</td>\n",
       "                        <td id=\"T_fbff4642_7335_11ea_83ea_b3662bcab3f9row3_col8\" class=\"data row3 col8\" >0.158121</td>\n",
       "                        <td id=\"T_fbff4642_7335_11ea_83ea_b3662bcab3f9row3_col9\" class=\"data row3 col9\" >0.0906802</td>\n",
       "                        <td id=\"T_fbff4642_7335_11ea_83ea_b3662bcab3f9row3_col10\" class=\"data row3 col10\" >0.077105</td>\n",
       "                        <td id=\"T_fbff4642_7335_11ea_83ea_b3662bcab3f9row3_col11\" class=\"data row3 col11\" >0.139518</td>\n",
       "                        <td id=\"T_fbff4642_7335_11ea_83ea_b3662bcab3f9row3_col12\" class=\"data row3 col12\" >0.0460746</td>\n",
       "                        <td id=\"T_fbff4642_7335_11ea_83ea_b3662bcab3f9row3_col13\" class=\"data row3 col13\" >0.0239284</td>\n",
       "                        <td id=\"T_fbff4642_7335_11ea_83ea_b3662bcab3f9row3_col14\" class=\"data row3 col14\" >0.246163</td>\n",
       "                        <td id=\"T_fbff4642_7335_11ea_83ea_b3662bcab3f9row3_col15\" class=\"data row3 col15\" >-0.112405</td>\n",
       "                        <td id=\"T_fbff4642_7335_11ea_83ea_b3662bcab3f9row3_col16\" class=\"data row3 col16\" >-0.0383025</td>\n",
       "                        <td id=\"T_fbff4642_7335_11ea_83ea_b3662bcab3f9row3_col17\" class=\"data row3 col17\" >-0.115803</td>\n",
       "                        <td id=\"T_fbff4642_7335_11ea_83ea_b3662bcab3f9row3_col18\" class=\"data row3 col18\" >0.062736</td>\n",
       "                        <td id=\"T_fbff4642_7335_11ea_83ea_b3662bcab3f9row3_col19\" class=\"data row3 col19\" >-0.160204</td>\n",
       "            </tr>\n",
       "            <tr>\n",
       "                        <th id=\"T_fbff4642_7335_11ea_83ea_b3662bcab3f9level0_row4\" class=\"row_heading level0 row4\" >tenure</th>\n",
       "                        <td id=\"T_fbff4642_7335_11ea_83ea_b3662bcab3f9row4_col0\" class=\"data row4 col0\" >0.00321991</td>\n",
       "                        <td id=\"T_fbff4642_7335_11ea_83ea_b3662bcab3f9row4_col1\" class=\"data row4 col1\" >0.00543851</td>\n",
       "                        <td id=\"T_fbff4642_7335_11ea_83ea_b3662bcab3f9row4_col2\" class=\"data row4 col2\" >0.382053</td>\n",
       "                        <td id=\"T_fbff4642_7335_11ea_83ea_b3662bcab3f9row4_col3\" class=\"data row4 col3\" >0.163829</td>\n",
       "                        <td id=\"T_fbff4642_7335_11ea_83ea_b3662bcab3f9row4_col4\" class=\"data row4 col4\" >1</td>\n",
       "                        <td id=\"T_fbff4642_7335_11ea_83ea_b3662bcab3f9row4_col5\" class=\"data row4 col5\" >0.0103702</td>\n",
       "                        <td id=\"T_fbff4642_7335_11ea_83ea_b3662bcab3f9row4_col6\" class=\"data row4 col6\" >0.350519</td>\n",
       "                        <td id=\"T_fbff4642_7335_11ea_83ea_b3662bcab3f9row4_col7\" class=\"data row4 col7\" >-0.0301563</td>\n",
       "                        <td id=\"T_fbff4642_7335_11ea_83ea_b3662bcab3f9row4_col8\" class=\"data row4 col8\" >0.328217</td>\n",
       "                        <td id=\"T_fbff4642_7335_11ea_83ea_b3662bcab3f9row4_col9\" class=\"data row4 col9\" >0.36721</td>\n",
       "                        <td id=\"T_fbff4642_7335_11ea_83ea_b3662bcab3f9row4_col10\" class=\"data row4 col10\" >0.37248</td>\n",
       "                        <td id=\"T_fbff4642_7335_11ea_83ea_b3662bcab3f9row4_col11\" class=\"data row4 col11\" >0.326142</td>\n",
       "                        <td id=\"T_fbff4642_7335_11ea_83ea_b3662bcab3f9row4_col12\" class=\"data row4 col12\" >0.293024</td>\n",
       "                        <td id=\"T_fbff4642_7335_11ea_83ea_b3662bcab3f9row4_col13\" class=\"data row4 col13\" >0.307449</td>\n",
       "                        <td id=\"T_fbff4642_7335_11ea_83ea_b3662bcab3f9row4_col14\" class=\"data row4 col14\" >0.671709</td>\n",
       "                        <td id=\"T_fbff4642_7335_11ea_83ea_b3662bcab3f9row4_col15\" class=\"data row4 col15\" >0.00652948</td>\n",
       "                        <td id=\"T_fbff4642_7335_11ea_83ea_b3662bcab3f9row4_col16\" class=\"data row4 col16\" >-0.359644</td>\n",
       "                        <td id=\"T_fbff4642_7335_11ea_83ea_b3662bcab3f9row4_col17\" class=\"data row4 col17\" >0.256946</td>\n",
       "                        <td id=\"T_fbff4642_7335_11ea_83ea_b3662bcab3f9row4_col18\" class=\"data row4 col18\" >0.827747</td>\n",
       "                        <td id=\"T_fbff4642_7335_11ea_83ea_b3662bcab3f9row4_col19\" class=\"data row4 col19\" >-0.34854</td>\n",
       "            </tr>\n",
       "            <tr>\n",
       "                        <th id=\"T_fbff4642_7335_11ea_83ea_b3662bcab3f9level0_row5\" class=\"row_heading level0 row5\" >PhoneService</th>\n",
       "                        <td id=\"T_fbff4642_7335_11ea_83ea_b3662bcab3f9row5_col0\" class=\"data row5 col0\" >-0.00491257</td>\n",
       "                        <td id=\"T_fbff4642_7335_11ea_83ea_b3662bcab3f9row5_col1\" class=\"data row5 col1\" >0.00946405</td>\n",
       "                        <td id=\"T_fbff4642_7335_11ea_83ea_b3662bcab3f9row5_col2\" class=\"data row5 col2\" >0.0249263</td>\n",
       "                        <td id=\"T_fbff4642_7335_11ea_83ea_b3662bcab3f9row5_col3\" class=\"data row5 col3\" >-0.000579052</td>\n",
       "                        <td id=\"T_fbff4642_7335_11ea_83ea_b3662bcab3f9row5_col4\" class=\"data row5 col4\" >0.0103702</td>\n",
       "                        <td id=\"T_fbff4642_7335_11ea_83ea_b3662bcab3f9row5_col5\" class=\"data row5 col5\" >1</td>\n",
       "                        <td id=\"T_fbff4642_7335_11ea_83ea_b3662bcab3f9row5_col6\" class=\"data row5 col6\" >-0.0174788</td>\n",
       "                        <td id=\"T_fbff4642_7335_11ea_83ea_b3662bcab3f9row5_col7\" class=\"data row5 col7\" >0.390024</td>\n",
       "                        <td id=\"T_fbff4642_7335_11ea_83ea_b3662bcab3f9row5_col8\" class=\"data row5 col8\" >-0.0111304</td>\n",
       "                        <td id=\"T_fbff4642_7335_11ea_83ea_b3662bcab3f9row5_col9\" class=\"data row5 col9\" >0.0274936</td>\n",
       "                        <td id=\"T_fbff4642_7335_11ea_83ea_b3662bcab3f9row5_col10\" class=\"data row5 col10\" >0.00276366</td>\n",
       "                        <td id=\"T_fbff4642_7335_11ea_83ea_b3662bcab3f9row5_col11\" class=\"data row5 col11\" >-0.0121892</td>\n",
       "                        <td id=\"T_fbff4642_7335_11ea_83ea_b3662bcab3f9row5_col12\" class=\"data row5 col12\" >0.0555817</td>\n",
       "                        <td id=\"T_fbff4642_7335_11ea_83ea_b3662bcab3f9row5_col13\" class=\"data row5 col13\" >0.0470351</td>\n",
       "                        <td id=\"T_fbff4642_7335_11ea_83ea_b3662bcab3f9row5_col14\" class=\"data row5 col14\" >0.00526677</td>\n",
       "                        <td id=\"T_fbff4642_7335_11ea_83ea_b3662bcab3f9row5_col15\" class=\"data row5 col15\" >0.0213397</td>\n",
       "                        <td id=\"T_fbff4642_7335_11ea_83ea_b3662bcab3f9row5_col16\" class=\"data row5 col16\" >-0.00385277</td>\n",
       "                        <td id=\"T_fbff4642_7335_11ea_83ea_b3662bcab3f9row5_col17\" class=\"data row5 col17\" >0.251029</td>\n",
       "                        <td id=\"T_fbff4642_7335_11ea_83ea_b3662bcab3f9row5_col18\" class=\"data row5 col18\" >0.117151</td>\n",
       "                        <td id=\"T_fbff4642_7335_11ea_83ea_b3662bcab3f9row5_col19\" class=\"data row5 col19\" >0.00942133</td>\n",
       "            </tr>\n",
       "            <tr>\n",
       "                        <th id=\"T_fbff4642_7335_11ea_83ea_b3662bcab3f9level0_row6\" class=\"row_heading level0 row6\" >MultipleLines</th>\n",
       "                        <td id=\"T_fbff4642_7335_11ea_83ea_b3662bcab3f9row6_col0\" class=\"data row6 col0\" >0.000654401</td>\n",
       "                        <td id=\"T_fbff4642_7335_11ea_83ea_b3662bcab3f9row6_col1\" class=\"data row6 col1\" >0.135743</td>\n",
       "                        <td id=\"T_fbff4642_7335_11ea_83ea_b3662bcab3f9row6_col2\" class=\"data row6 col2\" >0.14791</td>\n",
       "                        <td id=\"T_fbff4642_7335_11ea_83ea_b3662bcab3f9row6_col3\" class=\"data row6 col3\" >-0.02318</td>\n",
       "                        <td id=\"T_fbff4642_7335_11ea_83ea_b3662bcab3f9row6_col4\" class=\"data row6 col4\" >0.350519</td>\n",
       "                        <td id=\"T_fbff4642_7335_11ea_83ea_b3662bcab3f9row6_col5\" class=\"data row6 col5\" >-0.0174788</td>\n",
       "                        <td id=\"T_fbff4642_7335_11ea_83ea_b3662bcab3f9row6_col6\" class=\"data row6 col6\" >1</td>\n",
       "                        <td id=\"T_fbff4642_7335_11ea_83ea_b3662bcab3f9row6_col7\" class=\"data row6 col7\" >-0.106981</td>\n",
       "                        <td id=\"T_fbff4642_7335_11ea_83ea_b3662bcab3f9row6_col8\" class=\"data row6 col8\" >0.0125819</td>\n",
       "                        <td id=\"T_fbff4642_7335_11ea_83ea_b3662bcab3f9row6_col9\" class=\"data row6 col9\" >0.125375</td>\n",
       "                        <td id=\"T_fbff4642_7335_11ea_83ea_b3662bcab3f9row6_col10\" class=\"data row6 col10\" >0.126047</td>\n",
       "                        <td id=\"T_fbff4642_7335_11ea_83ea_b3662bcab3f9row6_col11\" class=\"data row6 col11\" >0.0150517</td>\n",
       "                        <td id=\"T_fbff4642_7335_11ea_83ea_b3662bcab3f9row6_col12\" class=\"data row6 col12\" >0.17089</td>\n",
       "                        <td id=\"T_fbff4642_7335_11ea_83ea_b3662bcab3f9row6_col13\" class=\"data row6 col13\" >0.184659</td>\n",
       "                        <td id=\"T_fbff4642_7335_11ea_83ea_b3662bcab3f9row6_col14\" class=\"data row6 col14\" >0.113906</td>\n",
       "                        <td id=\"T_fbff4642_7335_11ea_83ea_b3662bcab3f9row6_col15\" class=\"data row6 col15\" >0.169703</td>\n",
       "                        <td id=\"T_fbff4642_7335_11ea_83ea_b3662bcab3f9row6_col16\" class=\"data row6 col16\" >-0.176295</td>\n",
       "                        <td id=\"T_fbff4642_7335_11ea_83ea_b3662bcab3f9row6_col17\" class=\"data row6 col17\" >0.436869</td>\n",
       "                        <td id=\"T_fbff4642_7335_11ea_83ea_b3662bcab3f9row6_col18\" class=\"data row6 col18\" >0.458822</td>\n",
       "                        <td id=\"T_fbff4642_7335_11ea_83ea_b3662bcab3f9row6_col19\" class=\"data row6 col19\" >0.0349428</td>\n",
       "            </tr>\n",
       "            <tr>\n",
       "                        <th id=\"T_fbff4642_7335_11ea_83ea_b3662bcab3f9level0_row7\" class=\"row_heading level0 row7\" >InternetService</th>\n",
       "                        <td id=\"T_fbff4642_7335_11ea_83ea_b3662bcab3f9row7_col0\" class=\"data row7 col0\" >-0.00185768</td>\n",
       "                        <td id=\"T_fbff4642_7335_11ea_83ea_b3662bcab3f9row7_col1\" class=\"data row7 col1\" >-0.0336139</td>\n",
       "                        <td id=\"T_fbff4642_7335_11ea_83ea_b3662bcab3f9row7_col2\" class=\"data row7 col2\" >0.00631926</td>\n",
       "                        <td id=\"T_fbff4642_7335_11ea_83ea_b3662bcab3f9row7_col3\" class=\"data row7 col3\" >0.0467192</td>\n",
       "                        <td id=\"T_fbff4642_7335_11ea_83ea_b3662bcab3f9row7_col4\" class=\"data row7 col4\" >-0.0301563</td>\n",
       "                        <td id=\"T_fbff4642_7335_11ea_83ea_b3662bcab3f9row7_col5\" class=\"data row7 col5\" >0.390024</td>\n",
       "                        <td id=\"T_fbff4642_7335_11ea_83ea_b3662bcab3f9row7_col6\" class=\"data row7 col6\" >-0.106981</td>\n",
       "                        <td id=\"T_fbff4642_7335_11ea_83ea_b3662bcab3f9row7_col7\" class=\"data row7 col7\" >1</td>\n",
       "                        <td id=\"T_fbff4642_7335_11ea_83ea_b3662bcab3f9row7_col8\" class=\"data row7 col8\" >-0.0233631</td>\n",
       "                        <td id=\"T_fbff4642_7335_11ea_83ea_b3662bcab3f9row7_col9\" class=\"data row7 col9\" >0.0326646</td>\n",
       "                        <td id=\"T_fbff4642_7335_11ea_83ea_b3662bcab3f9row7_col10\" class=\"data row7 col10\" >0.044264</td>\n",
       "                        <td id=\"T_fbff4642_7335_11ea_83ea_b3662bcab3f9row7_col11\" class=\"data row7 col11\" >-0.021814</td>\n",
       "                        <td id=\"T_fbff4642_7335_11ea_83ea_b3662bcab3f9row7_col12\" class=\"data row7 col12\" >0.105667</td>\n",
       "                        <td id=\"T_fbff4642_7335_11ea_83ea_b3662bcab3f9row7_col13\" class=\"data row7 col13\" >0.0919925</td>\n",
       "                        <td id=\"T_fbff4642_7335_11ea_83ea_b3662bcab3f9row7_col14\" class=\"data row7 col14\" >0.100796</td>\n",
       "                        <td id=\"T_fbff4642_7335_11ea_83ea_b3662bcab3f9row7_col15\" class=\"data row7 col15\" >-0.137651</td>\n",
       "                        <td id=\"T_fbff4642_7335_11ea_83ea_b3662bcab3f9row7_col16\" class=\"data row7 col16\" >0.089963</td>\n",
       "                        <td id=\"T_fbff4642_7335_11ea_83ea_b3662bcab3f9row7_col17\" class=\"data row7 col17\" >-0.320206</td>\n",
       "                        <td id=\"T_fbff4642_7335_11ea_83ea_b3662bcab3f9row7_col18\" class=\"data row7 col18\" >-0.173635</td>\n",
       "                        <td id=\"T_fbff4642_7335_11ea_83ea_b3662bcab3f9row7_col19\" class=\"data row7 col19\" >-0.0471975</td>\n",
       "            </tr>\n",
       "            <tr>\n",
       "                        <th id=\"T_fbff4642_7335_11ea_83ea_b3662bcab3f9level0_row8\" class=\"row_heading level0 row8\" >OnlineSecurity</th>\n",
       "                        <td id=\"T_fbff4642_7335_11ea_83ea_b3662bcab3f9row8_col0\" class=\"data row8 col0\" >-0.0207592</td>\n",
       "                        <td id=\"T_fbff4642_7335_11ea_83ea_b3662bcab3f9row8_col1\" class=\"data row8 col1\" >-0.127915</td>\n",
       "                        <td id=\"T_fbff4642_7335_11ea_83ea_b3662bcab3f9row8_col2\" class=\"data row8 col2\" >0.161958</td>\n",
       "                        <td id=\"T_fbff4642_7335_11ea_83ea_b3662bcab3f9row8_col3\" class=\"data row8 col3\" >0.158121</td>\n",
       "                        <td id=\"T_fbff4642_7335_11ea_83ea_b3662bcab3f9row8_col4\" class=\"data row8 col4\" >0.328217</td>\n",
       "                        <td id=\"T_fbff4642_7335_11ea_83ea_b3662bcab3f9row8_col5\" class=\"data row8 col5\" >-0.0111304</td>\n",
       "                        <td id=\"T_fbff4642_7335_11ea_83ea_b3662bcab3f9row8_col6\" class=\"data row8 col6\" >0.0125819</td>\n",
       "                        <td id=\"T_fbff4642_7335_11ea_83ea_b3662bcab3f9row8_col7\" class=\"data row8 col7\" >-0.0233631</td>\n",
       "                        <td id=\"T_fbff4642_7335_11ea_83ea_b3662bcab3f9row8_col8\" class=\"data row8 col8\" >1</td>\n",
       "                        <td id=\"T_fbff4642_7335_11ea_83ea_b3662bcab3f9row8_col9\" class=\"data row8 col9\" >0.187753</td>\n",
       "                        <td id=\"T_fbff4642_7335_11ea_83ea_b3662bcab3f9row8_col10\" class=\"data row8 col10\" >0.186062</td>\n",
       "                        <td id=\"T_fbff4642_7335_11ea_83ea_b3662bcab3f9row8_col11\" class=\"data row8 col11\" >0.283037</td>\n",
       "                        <td id=\"T_fbff4642_7335_11ea_83ea_b3662bcab3f9row8_col12\" class=\"data row8 col12\" >0.0586677</td>\n",
       "                        <td id=\"T_fbff4642_7335_11ea_83ea_b3662bcab3f9row8_col13\" class=\"data row8 col13\" >0.0691888</td>\n",
       "                        <td id=\"T_fbff4642_7335_11ea_83ea_b3662bcab3f9row8_col14\" class=\"data row8 col14\" >0.37406</td>\n",
       "                        <td id=\"T_fbff4642_7335_11ea_83ea_b3662bcab3f9row8_col15\" class=\"data row8 col15\" >-0.150102</td>\n",
       "                        <td id=\"T_fbff4642_7335_11ea_83ea_b3662bcab3f9row8_col16\" class=\"data row8 col16\" >-0.0891262</td>\n",
       "                        <td id=\"T_fbff4642_7335_11ea_83ea_b3662bcab3f9row8_col17\" class=\"data row8 col17\" >-0.0449474</td>\n",
       "                        <td id=\"T_fbff4642_7335_11ea_83ea_b3662bcab3f9row8_col18\" class=\"data row8 col18\" >0.258598</td>\n",
       "                        <td id=\"T_fbff4642_7335_11ea_83ea_b3662bcab3f9row8_col19\" class=\"data row8 col19\" >-0.290306</td>\n",
       "            </tr>\n",
       "            <tr>\n",
       "                        <th id=\"T_fbff4642_7335_11ea_83ea_b3662bcab3f9level0_row9\" class=\"row_heading level0 row9\" >OnlineBackup</th>\n",
       "                        <td id=\"T_fbff4642_7335_11ea_83ea_b3662bcab3f9row9_col0\" class=\"data row9 col0\" >-0.0180448</td>\n",
       "                        <td id=\"T_fbff4642_7335_11ea_83ea_b3662bcab3f9row9_col1\" class=\"data row9 col1\" >-0.0174604</td>\n",
       "                        <td id=\"T_fbff4642_7335_11ea_83ea_b3662bcab3f9row9_col2\" class=\"data row9 col2\" >0.162627</td>\n",
       "                        <td id=\"T_fbff4642_7335_11ea_83ea_b3662bcab3f9row9_col3\" class=\"data row9 col3\" >0.0906802</td>\n",
       "                        <td id=\"T_fbff4642_7335_11ea_83ea_b3662bcab3f9row9_col4\" class=\"data row9 col4\" >0.36721</td>\n",
       "                        <td id=\"T_fbff4642_7335_11ea_83ea_b3662bcab3f9row9_col5\" class=\"data row9 col5\" >0.0274936</td>\n",
       "                        <td id=\"T_fbff4642_7335_11ea_83ea_b3662bcab3f9row9_col6\" class=\"data row9 col6\" >0.125375</td>\n",
       "                        <td id=\"T_fbff4642_7335_11ea_83ea_b3662bcab3f9row9_col7\" class=\"data row9 col7\" >0.0326646</td>\n",
       "                        <td id=\"T_fbff4642_7335_11ea_83ea_b3662bcab3f9row9_col8\" class=\"data row9 col8\" >0.187753</td>\n",
       "                        <td id=\"T_fbff4642_7335_11ea_83ea_b3662bcab3f9row9_col9\" class=\"data row9 col9\" >1</td>\n",
       "                        <td id=\"T_fbff4642_7335_11ea_83ea_b3662bcab3f9row9_col10\" class=\"data row9 col10\" >0.191779</td>\n",
       "                        <td id=\"T_fbff4642_7335_11ea_83ea_b3662bcab3f9row9_col11\" class=\"data row9 col11\" >0.189077</td>\n",
       "                        <td id=\"T_fbff4642_7335_11ea_83ea_b3662bcab3f9row9_col12\" class=\"data row9 col12\" >0.148079</td>\n",
       "                        <td id=\"T_fbff4642_7335_11ea_83ea_b3662bcab3f9row9_col13\" class=\"data row9 col13\" >0.146281</td>\n",
       "                        <td id=\"T_fbff4642_7335_11ea_83ea_b3662bcab3f9row9_col14\" class=\"data row9 col14\" >0.279856</td>\n",
       "                        <td id=\"T_fbff4642_7335_11ea_83ea_b3662bcab3f9row9_col15\" class=\"data row9 col15\" >-0.0163627</td>\n",
       "                        <td id=\"T_fbff4642_7335_11ea_83ea_b3662bcab3f9row9_col16\" class=\"data row9 col16\" >-0.1187</td>\n",
       "                        <td id=\"T_fbff4642_7335_11ea_83ea_b3662bcab3f9row9_col17\" class=\"data row9 col17\" >0.12697</td>\n",
       "                        <td id=\"T_fbff4642_7335_11ea_83ea_b3662bcab3f9row9_col18\" class=\"data row9 col18\" >0.372418</td>\n",
       "                        <td id=\"T_fbff4642_7335_11ea_83ea_b3662bcab3f9row9_col19\" class=\"data row9 col19\" >-0.193851</td>\n",
       "            </tr>\n",
       "            <tr>\n",
       "                        <th id=\"T_fbff4642_7335_11ea_83ea_b3662bcab3f9level0_row10\" class=\"row_heading level0 row10\" >DeviceProtection</th>\n",
       "                        <td id=\"T_fbff4642_7335_11ea_83ea_b3662bcab3f9row10_col0\" class=\"data row10 col0\" >-0.00301043</td>\n",
       "                        <td id=\"T_fbff4642_7335_11ea_83ea_b3662bcab3f9row10_col1\" class=\"data row10 col1\" >-0.0199112</td>\n",
       "                        <td id=\"T_fbff4642_7335_11ea_83ea_b3662bcab3f9row10_col2\" class=\"data row10 col2\" >0.165875</td>\n",
       "                        <td id=\"T_fbff4642_7335_11ea_83ea_b3662bcab3f9row10_col3\" class=\"data row10 col3\" >0.077105</td>\n",
       "                        <td id=\"T_fbff4642_7335_11ea_83ea_b3662bcab3f9row10_col4\" class=\"data row10 col4\" >0.37248</td>\n",
       "                        <td id=\"T_fbff4642_7335_11ea_83ea_b3662bcab3f9row10_col5\" class=\"data row10 col5\" >0.00276366</td>\n",
       "                        <td id=\"T_fbff4642_7335_11ea_83ea_b3662bcab3f9row10_col6\" class=\"data row10 col6\" >0.126047</td>\n",
       "                        <td id=\"T_fbff4642_7335_11ea_83ea_b3662bcab3f9row10_col7\" class=\"data row10 col7\" >0.044264</td>\n",
       "                        <td id=\"T_fbff4642_7335_11ea_83ea_b3662bcab3f9row10_col8\" class=\"data row10 col8\" >0.186062</td>\n",
       "                        <td id=\"T_fbff4642_7335_11ea_83ea_b3662bcab3f9row10_col9\" class=\"data row10 col9\" >0.191779</td>\n",
       "                        <td id=\"T_fbff4642_7335_11ea_83ea_b3662bcab3f9row10_col10\" class=\"data row10 col10\" >1</td>\n",
       "                        <td id=\"T_fbff4642_7335_11ea_83ea_b3662bcab3f9row10_col11\" class=\"data row10 col11\" >0.242131</td>\n",
       "                        <td id=\"T_fbff4642_7335_11ea_83ea_b3662bcab3f9row10_col12\" class=\"data row10 col12\" >0.273672</td>\n",
       "                        <td id=\"T_fbff4642_7335_11ea_83ea_b3662bcab3f9row10_col13\" class=\"data row10 col13\" >0.298596</td>\n",
       "                        <td id=\"T_fbff4642_7335_11ea_83ea_b3662bcab3f9row10_col14\" class=\"data row10 col14\" >0.356045</td>\n",
       "                        <td id=\"T_fbff4642_7335_11ea_83ea_b3662bcab3f9row10_col15\" class=\"data row10 col15\" >-0.0375052</td>\n",
       "                        <td id=\"T_fbff4642_7335_11ea_83ea_b3662bcab3f9row10_col16\" class=\"data row10 col16\" >-0.139106</td>\n",
       "                        <td id=\"T_fbff4642_7335_11ea_83ea_b3662bcab3f9row10_col17\" class=\"data row10 col17\" >0.164062</td>\n",
       "                        <td id=\"T_fbff4642_7335_11ea_83ea_b3662bcab3f9row10_col18\" class=\"data row10 col18\" >0.387246</td>\n",
       "                        <td id=\"T_fbff4642_7335_11ea_83ea_b3662bcab3f9row10_col19\" class=\"data row10 col19\" >-0.18012</td>\n",
       "            </tr>\n",
       "            <tr>\n",
       "                        <th id=\"T_fbff4642_7335_11ea_83ea_b3662bcab3f9level0_row11\" class=\"row_heading level0 row11\" >TechSupport</th>\n",
       "                        <td id=\"T_fbff4642_7335_11ea_83ea_b3662bcab3f9row11_col0\" class=\"data row11 col0\" >-0.00846832</td>\n",
       "                        <td id=\"T_fbff4642_7335_11ea_83ea_b3662bcab3f9row11_col1\" class=\"data row11 col1\" >-0.152474</td>\n",
       "                        <td id=\"T_fbff4642_7335_11ea_83ea_b3662bcab3f9row11_col2\" class=\"data row11 col2\" >0.133171</td>\n",
       "                        <td id=\"T_fbff4642_7335_11ea_83ea_b3662bcab3f9row11_col3\" class=\"data row11 col3\" >0.139518</td>\n",
       "                        <td id=\"T_fbff4642_7335_11ea_83ea_b3662bcab3f9row11_col4\" class=\"data row11 col4\" >0.326142</td>\n",
       "                        <td id=\"T_fbff4642_7335_11ea_83ea_b3662bcab3f9row11_col5\" class=\"data row11 col5\" >-0.0121892</td>\n",
       "                        <td id=\"T_fbff4642_7335_11ea_83ea_b3662bcab3f9row11_col6\" class=\"data row11 col6\" >0.0150517</td>\n",
       "                        <td id=\"T_fbff4642_7335_11ea_83ea_b3662bcab3f9row11_col7\" class=\"data row11 col7\" >-0.021814</td>\n",
       "                        <td id=\"T_fbff4642_7335_11ea_83ea_b3662bcab3f9row11_col8\" class=\"data row11 col8\" >0.283037</td>\n",
       "                        <td id=\"T_fbff4642_7335_11ea_83ea_b3662bcab3f9row11_col9\" class=\"data row11 col9\" >0.189077</td>\n",
       "                        <td id=\"T_fbff4642_7335_11ea_83ea_b3662bcab3f9row11_col10\" class=\"data row11 col10\" >0.242131</td>\n",
       "                        <td id=\"T_fbff4642_7335_11ea_83ea_b3662bcab3f9row11_col11\" class=\"data row11 col11\" >1</td>\n",
       "                        <td id=\"T_fbff4642_7335_11ea_83ea_b3662bcab3f9row11_col12\" class=\"data row11 col12\" >0.167276</td>\n",
       "                        <td id=\"T_fbff4642_7335_11ea_83ea_b3662bcab3f9row11_col13\" class=\"data row11 col13\" >0.167149</td>\n",
       "                        <td id=\"T_fbff4642_7335_11ea_83ea_b3662bcab3f9row11_col14\" class=\"data row11 col14\" >0.429494</td>\n",
       "                        <td id=\"T_fbff4642_7335_11ea_83ea_b3662bcab3f9row11_col15\" class=\"data row11 col15\" >-0.115084</td>\n",
       "                        <td id=\"T_fbff4642_7335_11ea_83ea_b3662bcab3f9row11_col16\" class=\"data row11 col16\" >-0.0997071</td>\n",
       "                        <td id=\"T_fbff4642_7335_11ea_83ea_b3662bcab3f9row11_col17\" class=\"data row11 col17\" >-0.0036319</td>\n",
       "                        <td id=\"T_fbff4642_7335_11ea_83ea_b3662bcab3f9row11_col18\" class=\"data row11 col18\" >0.280444</td>\n",
       "                        <td id=\"T_fbff4642_7335_11ea_83ea_b3662bcab3f9row11_col19\" class=\"data row11 col19\" >-0.277261</td>\n",
       "            </tr>\n",
       "            <tr>\n",
       "                        <th id=\"T_fbff4642_7335_11ea_83ea_b3662bcab3f9level0_row12\" class=\"row_heading level0 row12\" >StreamingTV</th>\n",
       "                        <td id=\"T_fbff4642_7335_11ea_83ea_b3662bcab3f9row12_col0\" class=\"data row12 col0\" >-0.00819273</td>\n",
       "                        <td id=\"T_fbff4642_7335_11ea_83ea_b3662bcab3f9row12_col1\" class=\"data row12 col1\" >0.0268687</td>\n",
       "                        <td id=\"T_fbff4642_7335_11ea_83ea_b3662bcab3f9row12_col2\" class=\"data row12 col2\" >0.143919</td>\n",
       "                        <td id=\"T_fbff4642_7335_11ea_83ea_b3662bcab3f9row12_col3\" class=\"data row12 col3\" >0.0460746</td>\n",
       "                        <td id=\"T_fbff4642_7335_11ea_83ea_b3662bcab3f9row12_col4\" class=\"data row12 col4\" >0.293024</td>\n",
       "                        <td id=\"T_fbff4642_7335_11ea_83ea_b3662bcab3f9row12_col5\" class=\"data row12 col5\" >0.0555817</td>\n",
       "                        <td id=\"T_fbff4642_7335_11ea_83ea_b3662bcab3f9row12_col6\" class=\"data row12 col6\" >0.17089</td>\n",
       "                        <td id=\"T_fbff4642_7335_11ea_83ea_b3662bcab3f9row12_col7\" class=\"data row12 col7\" >0.105667</td>\n",
       "                        <td id=\"T_fbff4642_7335_11ea_83ea_b3662bcab3f9row12_col8\" class=\"data row12 col8\" >0.0586677</td>\n",
       "                        <td id=\"T_fbff4642_7335_11ea_83ea_b3662bcab3f9row12_col9\" class=\"data row12 col9\" >0.148079</td>\n",
       "                        <td id=\"T_fbff4642_7335_11ea_83ea_b3662bcab3f9row12_col10\" class=\"data row12 col10\" >0.273672</td>\n",
       "                        <td id=\"T_fbff4642_7335_11ea_83ea_b3662bcab3f9row12_col11\" class=\"data row12 col11\" >0.167276</td>\n",
       "                        <td id=\"T_fbff4642_7335_11ea_83ea_b3662bcab3f9row12_col12\" class=\"data row12 col12\" >1</td>\n",
       "                        <td id=\"T_fbff4642_7335_11ea_83ea_b3662bcab3f9row12_col13\" class=\"data row12 col13\" >0.435575</td>\n",
       "                        <td id=\"T_fbff4642_7335_11ea_83ea_b3662bcab3f9row12_col14\" class=\"data row12 col14\" >0.231885</td>\n",
       "                        <td id=\"T_fbff4642_7335_11ea_83ea_b3662bcab3f9row12_col15\" class=\"data row12 col15\" >0.0977573</td>\n",
       "                        <td id=\"T_fbff4642_7335_11ea_83ea_b3662bcab3f9row12_col16\" class=\"data row12 col16\" >-0.101177</td>\n",
       "                        <td id=\"T_fbff4642_7335_11ea_83ea_b3662bcab3f9row12_col17\" class=\"data row12 col17\" >0.337402</td>\n",
       "                        <td id=\"T_fbff4642_7335_11ea_83ea_b3662bcab3f9row12_col18\" class=\"data row12 col18\" >0.39312</td>\n",
       "                        <td id=\"T_fbff4642_7335_11ea_83ea_b3662bcab3f9row12_col19\" class=\"data row12 col19\" >-0.0376095</td>\n",
       "            </tr>\n",
       "            <tr>\n",
       "                        <th id=\"T_fbff4642_7335_11ea_83ea_b3662bcab3f9level0_row13\" class=\"row_heading level0 row13\" >StreamingMovies</th>\n",
       "                        <td id=\"T_fbff4642_7335_11ea_83ea_b3662bcab3f9row13_col0\" class=\"data row13 col0\" >-0.00729691</td>\n",
       "                        <td id=\"T_fbff4642_7335_11ea_83ea_b3662bcab3f9row13_col1\" class=\"data row13 col1\" >0.0429401</td>\n",
       "                        <td id=\"T_fbff4642_7335_11ea_83ea_b3662bcab3f9row13_col2\" class=\"data row13 col2\" >0.134082</td>\n",
       "                        <td id=\"T_fbff4642_7335_11ea_83ea_b3662bcab3f9row13_col3\" class=\"data row13 col3\" >0.0239284</td>\n",
       "                        <td id=\"T_fbff4642_7335_11ea_83ea_b3662bcab3f9row13_col4\" class=\"data row13 col4\" >0.307449</td>\n",
       "                        <td id=\"T_fbff4642_7335_11ea_83ea_b3662bcab3f9row13_col5\" class=\"data row13 col5\" >0.0470351</td>\n",
       "                        <td id=\"T_fbff4642_7335_11ea_83ea_b3662bcab3f9row13_col6\" class=\"data row13 col6\" >0.184659</td>\n",
       "                        <td id=\"T_fbff4642_7335_11ea_83ea_b3662bcab3f9row13_col7\" class=\"data row13 col7\" >0.0919925</td>\n",
       "                        <td id=\"T_fbff4642_7335_11ea_83ea_b3662bcab3f9row13_col8\" class=\"data row13 col8\" >0.0691888</td>\n",
       "                        <td id=\"T_fbff4642_7335_11ea_83ea_b3662bcab3f9row13_col9\" class=\"data row13 col9\" >0.146281</td>\n",
       "                        <td id=\"T_fbff4642_7335_11ea_83ea_b3662bcab3f9row13_col10\" class=\"data row13 col10\" >0.298596</td>\n",
       "                        <td id=\"T_fbff4642_7335_11ea_83ea_b3662bcab3f9row13_col11\" class=\"data row13 col11\" >0.167149</td>\n",
       "                        <td id=\"T_fbff4642_7335_11ea_83ea_b3662bcab3f9row13_col12\" class=\"data row13 col12\" >0.435575</td>\n",
       "                        <td id=\"T_fbff4642_7335_11ea_83ea_b3662bcab3f9row13_col13\" class=\"data row13 col13\" >1</td>\n",
       "                        <td id=\"T_fbff4642_7335_11ea_83ea_b3662bcab3f9row13_col14\" class=\"data row13 col14\" >0.238688</td>\n",
       "                        <td id=\"T_fbff4642_7335_11ea_83ea_b3662bcab3f9row13_col15\" class=\"data row13 col15\" >0.0820636</td>\n",
       "                        <td id=\"T_fbff4642_7335_11ea_83ea_b3662bcab3f9row13_col16\" class=\"data row13 col16\" >-0.115639</td>\n",
       "                        <td id=\"T_fbff4642_7335_11ea_83ea_b3662bcab3f9row13_col17\" class=\"data row13 col17\" >0.33889</td>\n",
       "                        <td id=\"T_fbff4642_7335_11ea_83ea_b3662bcab3f9row13_col18\" class=\"data row13 col18\" >0.406662</td>\n",
       "                        <td id=\"T_fbff4642_7335_11ea_83ea_b3662bcab3f9row13_col19\" class=\"data row13 col19\" >-0.0390999</td>\n",
       "            </tr>\n",
       "            <tr>\n",
       "                        <th id=\"T_fbff4642_7335_11ea_83ea_b3662bcab3f9level0_row14\" class=\"row_heading level0 row14\" >Contract</th>\n",
       "                        <td id=\"T_fbff4642_7335_11ea_83ea_b3662bcab3f9row14_col0\" class=\"data row14 col0\" >-0.00184313</td>\n",
       "                        <td id=\"T_fbff4642_7335_11ea_83ea_b3662bcab3f9row14_col1\" class=\"data row14 col1\" >-0.149406</td>\n",
       "                        <td id=\"T_fbff4642_7335_11ea_83ea_b3662bcab3f9row14_col2\" class=\"data row14 col2\" >0.300549</td>\n",
       "                        <td id=\"T_fbff4642_7335_11ea_83ea_b3662bcab3f9row14_col3\" class=\"data row14 col3\" >0.246163</td>\n",
       "                        <td id=\"T_fbff4642_7335_11ea_83ea_b3662bcab3f9row14_col4\" class=\"data row14 col4\" >0.671709</td>\n",
       "                        <td id=\"T_fbff4642_7335_11ea_83ea_b3662bcab3f9row14_col5\" class=\"data row14 col5\" >0.00526677</td>\n",
       "                        <td id=\"T_fbff4642_7335_11ea_83ea_b3662bcab3f9row14_col6\" class=\"data row14 col6\" >0.113906</td>\n",
       "                        <td id=\"T_fbff4642_7335_11ea_83ea_b3662bcab3f9row14_col7\" class=\"data row14 col7\" >0.100796</td>\n",
       "                        <td id=\"T_fbff4642_7335_11ea_83ea_b3662bcab3f9row14_col8\" class=\"data row14 col8\" >0.37406</td>\n",
       "                        <td id=\"T_fbff4642_7335_11ea_83ea_b3662bcab3f9row14_col9\" class=\"data row14 col9\" >0.279856</td>\n",
       "                        <td id=\"T_fbff4642_7335_11ea_83ea_b3662bcab3f9row14_col10\" class=\"data row14 col10\" >0.356045</td>\n",
       "                        <td id=\"T_fbff4642_7335_11ea_83ea_b3662bcab3f9row14_col11\" class=\"data row14 col11\" >0.429494</td>\n",
       "                        <td id=\"T_fbff4642_7335_11ea_83ea_b3662bcab3f9row14_col12\" class=\"data row14 col12\" >0.231885</td>\n",
       "                        <td id=\"T_fbff4642_7335_11ea_83ea_b3662bcab3f9row14_col13\" class=\"data row14 col13\" >0.238688</td>\n",
       "                        <td id=\"T_fbff4642_7335_11ea_83ea_b3662bcab3f9row14_col14\" class=\"data row14 col14\" >1</td>\n",
       "                        <td id=\"T_fbff4642_7335_11ea_83ea_b3662bcab3f9row14_col15\" class=\"data row14 col15\" >-0.183335</td>\n",
       "                        <td id=\"T_fbff4642_7335_11ea_83ea_b3662bcab3f9row14_col16\" class=\"data row14 col16\" >-0.21892</td>\n",
       "                        <td id=\"T_fbff4642_7335_11ea_83ea_b3662bcab3f9row14_col17\" class=\"data row14 col17\" >-0.0684291</td>\n",
       "                        <td id=\"T_fbff4642_7335_11ea_83ea_b3662bcab3f9row14_col18\" class=\"data row14 col18\" >0.449144</td>\n",
       "                        <td id=\"T_fbff4642_7335_11ea_83ea_b3662bcab3f9row14_col19\" class=\"data row14 col19\" >-0.396446</td>\n",
       "            </tr>\n",
       "            <tr>\n",
       "                        <th id=\"T_fbff4642_7335_11ea_83ea_b3662bcab3f9level0_row15\" class=\"row_heading level0 row15\" >PaperlessBilling</th>\n",
       "                        <td id=\"T_fbff4642_7335_11ea_83ea_b3662bcab3f9row15_col0\" class=\"data row15 col0\" >-0.0139895</td>\n",
       "                        <td id=\"T_fbff4642_7335_11ea_83ea_b3662bcab3f9row15_col1\" class=\"data row15 col1\" >0.155691</td>\n",
       "                        <td id=\"T_fbff4642_7335_11ea_83ea_b3662bcab3f9row15_col2\" class=\"data row15 col2\" >-0.0180368</td>\n",
       "                        <td id=\"T_fbff4642_7335_11ea_83ea_b3662bcab3f9row15_col3\" class=\"data row15 col3\" >-0.112405</td>\n",
       "                        <td id=\"T_fbff4642_7335_11ea_83ea_b3662bcab3f9row15_col4\" class=\"data row15 col4\" >0.00652948</td>\n",
       "                        <td id=\"T_fbff4642_7335_11ea_83ea_b3662bcab3f9row15_col5\" class=\"data row15 col5\" >0.0213397</td>\n",
       "                        <td id=\"T_fbff4642_7335_11ea_83ea_b3662bcab3f9row15_col6\" class=\"data row15 col6\" >0.169703</td>\n",
       "                        <td id=\"T_fbff4642_7335_11ea_83ea_b3662bcab3f9row15_col7\" class=\"data row15 col7\" >-0.137651</td>\n",
       "                        <td id=\"T_fbff4642_7335_11ea_83ea_b3662bcab3f9row15_col8\" class=\"data row15 col8\" >-0.150102</td>\n",
       "                        <td id=\"T_fbff4642_7335_11ea_83ea_b3662bcab3f9row15_col9\" class=\"data row15 col9\" >-0.0163627</td>\n",
       "                        <td id=\"T_fbff4642_7335_11ea_83ea_b3662bcab3f9row15_col10\" class=\"data row15 col10\" >-0.0375052</td>\n",
       "                        <td id=\"T_fbff4642_7335_11ea_83ea_b3662bcab3f9row15_col11\" class=\"data row15 col11\" >-0.115084</td>\n",
       "                        <td id=\"T_fbff4642_7335_11ea_83ea_b3662bcab3f9row15_col12\" class=\"data row15 col12\" >0.0977573</td>\n",
       "                        <td id=\"T_fbff4642_7335_11ea_83ea_b3662bcab3f9row15_col13\" class=\"data row15 col13\" >0.0820636</td>\n",
       "                        <td id=\"T_fbff4642_7335_11ea_83ea_b3662bcab3f9row15_col14\" class=\"data row15 col14\" >-0.183335</td>\n",
       "                        <td id=\"T_fbff4642_7335_11ea_83ea_b3662bcab3f9row15_col15\" class=\"data row15 col15\" >1</td>\n",
       "                        <td id=\"T_fbff4642_7335_11ea_83ea_b3662bcab3f9row15_col16\" class=\"data row15 col16\" >-0.0579412</td>\n",
       "                        <td id=\"T_fbff4642_7335_11ea_83ea_b3662bcab3f9row15_col17\" class=\"data row15 col17\" >0.355816</td>\n",
       "                        <td id=\"T_fbff4642_7335_11ea_83ea_b3662bcab3f9row15_col18\" class=\"data row15 col18\" >0.162795</td>\n",
       "                        <td id=\"T_fbff4642_7335_11ea_83ea_b3662bcab3f9row15_col19\" class=\"data row15 col19\" >0.188996</td>\n",
       "            </tr>\n",
       "            <tr>\n",
       "                        <th id=\"T_fbff4642_7335_11ea_83ea_b3662bcab3f9level0_row16\" class=\"row_heading level0 row16\" >PaymentMethod</th>\n",
       "                        <td id=\"T_fbff4642_7335_11ea_83ea_b3662bcab3f9row16_col0\" class=\"data row16 col0\" >0.0157446</td>\n",
       "                        <td id=\"T_fbff4642_7335_11ea_83ea_b3662bcab3f9row16_col1\" class=\"data row16 col1\" >-0.0376532</td>\n",
       "                        <td id=\"T_fbff4642_7335_11ea_83ea_b3662bcab3f9row16_col2\" class=\"data row16 col2\" >-0.151566</td>\n",
       "                        <td id=\"T_fbff4642_7335_11ea_83ea_b3662bcab3f9row16_col3\" class=\"data row16 col3\" >-0.0383025</td>\n",
       "                        <td id=\"T_fbff4642_7335_11ea_83ea_b3662bcab3f9row16_col4\" class=\"data row16 col4\" >-0.359644</td>\n",
       "                        <td id=\"T_fbff4642_7335_11ea_83ea_b3662bcab3f9row16_col5\" class=\"data row16 col5\" >-0.00385277</td>\n",
       "                        <td id=\"T_fbff4642_7335_11ea_83ea_b3662bcab3f9row16_col6\" class=\"data row16 col6\" >-0.176295</td>\n",
       "                        <td id=\"T_fbff4642_7335_11ea_83ea_b3662bcab3f9row16_col7\" class=\"data row16 col7\" >0.089963</td>\n",
       "                        <td id=\"T_fbff4642_7335_11ea_83ea_b3662bcab3f9row16_col8\" class=\"data row16 col8\" >-0.0891262</td>\n",
       "                        <td id=\"T_fbff4642_7335_11ea_83ea_b3662bcab3f9row16_col9\" class=\"data row16 col9\" >-0.1187</td>\n",
       "                        <td id=\"T_fbff4642_7335_11ea_83ea_b3662bcab3f9row16_col10\" class=\"data row16 col10\" >-0.139106</td>\n",
       "                        <td id=\"T_fbff4642_7335_11ea_83ea_b3662bcab3f9row16_col11\" class=\"data row16 col11\" >-0.0997071</td>\n",
       "                        <td id=\"T_fbff4642_7335_11ea_83ea_b3662bcab3f9row16_col12\" class=\"data row16 col12\" >-0.101177</td>\n",
       "                        <td id=\"T_fbff4642_7335_11ea_83ea_b3662bcab3f9row16_col13\" class=\"data row16 col13\" >-0.115639</td>\n",
       "                        <td id=\"T_fbff4642_7335_11ea_83ea_b3662bcab3f9row16_col14\" class=\"data row16 col14\" >-0.21892</td>\n",
       "                        <td id=\"T_fbff4642_7335_11ea_83ea_b3662bcab3f9row16_col15\" class=\"data row16 col15\" >-0.0579412</td>\n",
       "                        <td id=\"T_fbff4642_7335_11ea_83ea_b3662bcab3f9row16_col16\" class=\"data row16 col16\" >1</td>\n",
       "                        <td id=\"T_fbff4642_7335_11ea_83ea_b3662bcab3f9row16_col17\" class=\"data row16 col17\" >-0.199109</td>\n",
       "                        <td id=\"T_fbff4642_7335_11ea_83ea_b3662bcab3f9row16_col18\" class=\"data row16 col18\" >-0.32576</td>\n",
       "                        <td id=\"T_fbff4642_7335_11ea_83ea_b3662bcab3f9row16_col19\" class=\"data row16 col19\" >0.103927</td>\n",
       "            </tr>\n",
       "            <tr>\n",
       "                        <th id=\"T_fbff4642_7335_11ea_83ea_b3662bcab3f9level0_row17\" class=\"row_heading level0 row17\" >MonthlyCharges</th>\n",
       "                        <td id=\"T_fbff4642_7335_11ea_83ea_b3662bcab3f9row17_col0\" class=\"data row17 col0\" >-0.014286</td>\n",
       "                        <td id=\"T_fbff4642_7335_11ea_83ea_b3662bcab3f9row17_col1\" class=\"data row17 col1\" >0.219387</td>\n",
       "                        <td id=\"T_fbff4642_7335_11ea_83ea_b3662bcab3f9row17_col2\" class=\"data row17 col2\" >0.104006</td>\n",
       "                        <td id=\"T_fbff4642_7335_11ea_83ea_b3662bcab3f9row17_col3\" class=\"data row17 col3\" >-0.115803</td>\n",
       "                        <td id=\"T_fbff4642_7335_11ea_83ea_b3662bcab3f9row17_col4\" class=\"data row17 col4\" >0.256946</td>\n",
       "                        <td id=\"T_fbff4642_7335_11ea_83ea_b3662bcab3f9row17_col5\" class=\"data row17 col5\" >0.251029</td>\n",
       "                        <td id=\"T_fbff4642_7335_11ea_83ea_b3662bcab3f9row17_col6\" class=\"data row17 col6\" >0.436869</td>\n",
       "                        <td id=\"T_fbff4642_7335_11ea_83ea_b3662bcab3f9row17_col7\" class=\"data row17 col7\" >-0.320206</td>\n",
       "                        <td id=\"T_fbff4642_7335_11ea_83ea_b3662bcab3f9row17_col8\" class=\"data row17 col8\" >-0.0449474</td>\n",
       "                        <td id=\"T_fbff4642_7335_11ea_83ea_b3662bcab3f9row17_col9\" class=\"data row17 col9\" >0.12697</td>\n",
       "                        <td id=\"T_fbff4642_7335_11ea_83ea_b3662bcab3f9row17_col10\" class=\"data row17 col10\" >0.164062</td>\n",
       "                        <td id=\"T_fbff4642_7335_11ea_83ea_b3662bcab3f9row17_col11\" class=\"data row17 col11\" >-0.0036319</td>\n",
       "                        <td id=\"T_fbff4642_7335_11ea_83ea_b3662bcab3f9row17_col12\" class=\"data row17 col12\" >0.337402</td>\n",
       "                        <td id=\"T_fbff4642_7335_11ea_83ea_b3662bcab3f9row17_col13\" class=\"data row17 col13\" >0.33889</td>\n",
       "                        <td id=\"T_fbff4642_7335_11ea_83ea_b3662bcab3f9row17_col14\" class=\"data row17 col14\" >-0.0684291</td>\n",
       "                        <td id=\"T_fbff4642_7335_11ea_83ea_b3662bcab3f9row17_col15\" class=\"data row17 col15\" >0.355816</td>\n",
       "                        <td id=\"T_fbff4642_7335_11ea_83ea_b3662bcab3f9row17_col16\" class=\"data row17 col16\" >-0.199109</td>\n",
       "                        <td id=\"T_fbff4642_7335_11ea_83ea_b3662bcab3f9row17_col17\" class=\"data row17 col17\" >1</td>\n",
       "                        <td id=\"T_fbff4642_7335_11ea_83ea_b3662bcab3f9row17_col18\" class=\"data row17 col18\" >0.656766</td>\n",
       "                        <td id=\"T_fbff4642_7335_11ea_83ea_b3662bcab3f9row17_col19\" class=\"data row17 col19\" >0.186753</td>\n",
       "            </tr>\n",
       "            <tr>\n",
       "                        <th id=\"T_fbff4642_7335_11ea_83ea_b3662bcab3f9level0_row18\" class=\"row_heading level0 row18\" >TotalCharges</th>\n",
       "                        <td id=\"T_fbff4642_7335_11ea_83ea_b3662bcab3f9row18_col0\" class=\"data row18 col0\" >-0.0036672</td>\n",
       "                        <td id=\"T_fbff4642_7335_11ea_83ea_b3662bcab3f9row18_col1\" class=\"data row18 col1\" >0.0937969</td>\n",
       "                        <td id=\"T_fbff4642_7335_11ea_83ea_b3662bcab3f9row18_col2\" class=\"data row18 col2\" >0.321375</td>\n",
       "                        <td id=\"T_fbff4642_7335_11ea_83ea_b3662bcab3f9row18_col3\" class=\"data row18 col3\" >0.062736</td>\n",
       "                        <td id=\"T_fbff4642_7335_11ea_83ea_b3662bcab3f9row18_col4\" class=\"data row18 col4\" >0.827747</td>\n",
       "                        <td id=\"T_fbff4642_7335_11ea_83ea_b3662bcab3f9row18_col5\" class=\"data row18 col5\" >0.117151</td>\n",
       "                        <td id=\"T_fbff4642_7335_11ea_83ea_b3662bcab3f9row18_col6\" class=\"data row18 col6\" >0.458822</td>\n",
       "                        <td id=\"T_fbff4642_7335_11ea_83ea_b3662bcab3f9row18_col7\" class=\"data row18 col7\" >-0.173635</td>\n",
       "                        <td id=\"T_fbff4642_7335_11ea_83ea_b3662bcab3f9row18_col8\" class=\"data row18 col8\" >0.258598</td>\n",
       "                        <td id=\"T_fbff4642_7335_11ea_83ea_b3662bcab3f9row18_col9\" class=\"data row18 col9\" >0.372418</td>\n",
       "                        <td id=\"T_fbff4642_7335_11ea_83ea_b3662bcab3f9row18_col10\" class=\"data row18 col10\" >0.387246</td>\n",
       "                        <td id=\"T_fbff4642_7335_11ea_83ea_b3662bcab3f9row18_col11\" class=\"data row18 col11\" >0.280444</td>\n",
       "                        <td id=\"T_fbff4642_7335_11ea_83ea_b3662bcab3f9row18_col12\" class=\"data row18 col12\" >0.39312</td>\n",
       "                        <td id=\"T_fbff4642_7335_11ea_83ea_b3662bcab3f9row18_col13\" class=\"data row18 col13\" >0.406662</td>\n",
       "                        <td id=\"T_fbff4642_7335_11ea_83ea_b3662bcab3f9row18_col14\" class=\"data row18 col14\" >0.449144</td>\n",
       "                        <td id=\"T_fbff4642_7335_11ea_83ea_b3662bcab3f9row18_col15\" class=\"data row18 col15\" >0.162795</td>\n",
       "                        <td id=\"T_fbff4642_7335_11ea_83ea_b3662bcab3f9row18_col16\" class=\"data row18 col16\" >-0.32576</td>\n",
       "                        <td id=\"T_fbff4642_7335_11ea_83ea_b3662bcab3f9row18_col17\" class=\"data row18 col17\" >0.656766</td>\n",
       "                        <td id=\"T_fbff4642_7335_11ea_83ea_b3662bcab3f9row18_col18\" class=\"data row18 col18\" >1</td>\n",
       "                        <td id=\"T_fbff4642_7335_11ea_83ea_b3662bcab3f9row18_col19\" class=\"data row18 col19\" >-0.196412</td>\n",
       "            </tr>\n",
       "            <tr>\n",
       "                        <th id=\"T_fbff4642_7335_11ea_83ea_b3662bcab3f9level0_row19\" class=\"row_heading level0 row19\" >Churn</th>\n",
       "                        <td id=\"T_fbff4642_7335_11ea_83ea_b3662bcab3f9row19_col0\" class=\"data row19 col0\" >-0.00954815</td>\n",
       "                        <td id=\"T_fbff4642_7335_11ea_83ea_b3662bcab3f9row19_col1\" class=\"data row19 col1\" >0.150097</td>\n",
       "                        <td id=\"T_fbff4642_7335_11ea_83ea_b3662bcab3f9row19_col2\" class=\"data row19 col2\" >-0.14684</td>\n",
       "                        <td id=\"T_fbff4642_7335_11ea_83ea_b3662bcab3f9row19_col3\" class=\"data row19 col3\" >-0.160204</td>\n",
       "                        <td id=\"T_fbff4642_7335_11ea_83ea_b3662bcab3f9row19_col4\" class=\"data row19 col4\" >-0.34854</td>\n",
       "                        <td id=\"T_fbff4642_7335_11ea_83ea_b3662bcab3f9row19_col5\" class=\"data row19 col5\" >0.00942133</td>\n",
       "                        <td id=\"T_fbff4642_7335_11ea_83ea_b3662bcab3f9row19_col6\" class=\"data row19 col6\" >0.0349428</td>\n",
       "                        <td id=\"T_fbff4642_7335_11ea_83ea_b3662bcab3f9row19_col7\" class=\"data row19 col7\" >-0.0471975</td>\n",
       "                        <td id=\"T_fbff4642_7335_11ea_83ea_b3662bcab3f9row19_col8\" class=\"data row19 col8\" >-0.290306</td>\n",
       "                        <td id=\"T_fbff4642_7335_11ea_83ea_b3662bcab3f9row19_col9\" class=\"data row19 col9\" >-0.193851</td>\n",
       "                        <td id=\"T_fbff4642_7335_11ea_83ea_b3662bcab3f9row19_col10\" class=\"data row19 col10\" >-0.18012</td>\n",
       "                        <td id=\"T_fbff4642_7335_11ea_83ea_b3662bcab3f9row19_col11\" class=\"data row19 col11\" >-0.277261</td>\n",
       "                        <td id=\"T_fbff4642_7335_11ea_83ea_b3662bcab3f9row19_col12\" class=\"data row19 col12\" >-0.0376095</td>\n",
       "                        <td id=\"T_fbff4642_7335_11ea_83ea_b3662bcab3f9row19_col13\" class=\"data row19 col13\" >-0.0390999</td>\n",
       "                        <td id=\"T_fbff4642_7335_11ea_83ea_b3662bcab3f9row19_col14\" class=\"data row19 col14\" >-0.396446</td>\n",
       "                        <td id=\"T_fbff4642_7335_11ea_83ea_b3662bcab3f9row19_col15\" class=\"data row19 col15\" >0.188996</td>\n",
       "                        <td id=\"T_fbff4642_7335_11ea_83ea_b3662bcab3f9row19_col16\" class=\"data row19 col16\" >0.103927</td>\n",
       "                        <td id=\"T_fbff4642_7335_11ea_83ea_b3662bcab3f9row19_col17\" class=\"data row19 col17\" >0.186753</td>\n",
       "                        <td id=\"T_fbff4642_7335_11ea_83ea_b3662bcab3f9row19_col18\" class=\"data row19 col18\" >-0.196412</td>\n",
       "                        <td id=\"T_fbff4642_7335_11ea_83ea_b3662bcab3f9row19_col19\" class=\"data row19 col19\" >1</td>\n",
       "            </tr>\n",
       "    </tbody></table>"
      ],
      "text/plain": [
       "<pandas.io.formats.style.Styler at 0x7f26c272abd0>"
      ]
     },
     "execution_count": 38,
     "metadata": {},
     "output_type": "execute_result"
    }
   ],
   "source": [
    "corr = df.corr()\n",
    "corr.style.background_gradient(cmap='coolwarm')"
   ]
  },
  {
   "cell_type": "markdown",
   "metadata": {
    "colab_type": "text",
    "id": "YnZrI40dVYSZ"
   },
   "source": [
    "# 3. Построение моделей для прогнозирования оттока"
   ]
  },
  {
   "cell_type": "markdown",
   "metadata": {
    "colab_type": "text",
    "id": "E8RmJ-i9_d_i"
   },
   "source": [
    "Как было выясненно ранее ушедшие пользователи похожи между собой. Большинством сервисов они пользуются меньше, стриминговым ТВ и кино больше, они платят больше и остаются на платформе не так долго. Считаю логичным попытаться поискать похожих пользователей с помощью kNN или найти \"правила\" по которым определяется пользователь, собирающийся уходить, с помощью DecisionTree (подразумевается использование более сложных моделей основаных на DecisionTree, таких как RandomForest). Стоит заметить, что стандартные методы ML, такие как DecisionTree и LogisticRegression, имеют тенденцию к отклонению от класса большинства и склонны игнорировать класс меньшинства. Собственно покажем это."
   ]
  },
  {
   "cell_type": "code",
   "execution_count": 39,
   "metadata": {
    "colab": {},
    "colab_type": "code",
    "id": "wwrrkx8pVYSa"
   },
   "outputs": [],
   "source": [
    "from sklearn.model_selection import train_test_split\n",
    "from sklearn.metrics import classification_report\n",
    "from sklearn.ensemble import RandomForestClassifier"
   ]
  },
  {
   "cell_type": "markdown",
   "metadata": {
    "colab_type": "text",
    "id": "B87t0xW3_d_i"
   },
   "source": [
    "Разделяем выборку на тренировочные и тестовые данные."
   ]
  },
  {
   "cell_type": "code",
   "execution_count": 40,
   "metadata": {
    "colab": {},
    "colab_type": "code",
    "id": "HqfMX713_d_i"
   },
   "outputs": [],
   "source": [
    "X_train, X_test, y_train, y_test = train_test_split(df.drop(['Churn'], axis=1),\n",
    "                                                   df.Churn, test_size=0.3,\n",
    "                                                   random_state=17)"
   ]
  },
  {
   "cell_type": "code",
   "execution_count": null,
   "metadata": {
    "colab": {},
    "colab_type": "code",
    "id": "9evlvsCW_d_i"
   },
   "outputs": [],
   "source": [
    "rfr = RandomForestClassifier(n_estimators=5000).fit(X_train, y_train)"
   ]
  },
  {
   "cell_type": "code",
   "execution_count": null,
   "metadata": {
    "colab": {},
    "colab_type": "code",
    "id": "Fh3SIpd6_d_i"
   },
   "outputs": [],
   "source": [
    "report= classification_report(y_test, rfr.predict(X_test), target_names=['No', 'Yes'],  digits=3)"
   ]
  },
  {
   "cell_type": "code",
   "execution_count": null,
   "metadata": {
    "colab": {
     "base_uri": "https://localhost:8080/",
     "height": 168
    },
    "colab_type": "code",
    "id": "R4D86BOF_d_i",
    "outputId": "546a452e-c287-467b-bc08-ff68898323e0"
   },
   "outputs": [],
   "source": [
    "print(report)"
   ]
  },
  {
   "cell_type": "code",
   "execution_count": 44,
   "metadata": {
    "colab": {
     "base_uri": "https://localhost:8080/",
     "height": 168
    },
    "colab_type": "code",
    "id": "mTTZFp6l_d_i",
    "outputId": "12d7c4e5-3786-4e50-acb3-6efac658af49"
   },
   "outputs": [
    {
     "name": "stdout",
     "output_type": "stream",
     "text": [
      "              precision    recall  f1-score   support\n",
      "\n",
      "          No      0.816     0.898     0.855      1332\n",
      "         Yes      0.588     0.418     0.489       464\n",
      "\n",
      "    accuracy                          0.774      1796\n",
      "   macro avg      0.702     0.658     0.672      1796\n",
      "weighted avg      0.757     0.774     0.760      1796\n",
      "\n"
     ]
    }
   ],
   "source": [
    "from sklearn.neighbors import KNeighborsClassifier\n",
    "rfr = KNeighborsClassifier().fit(X_train, y_train)\n",
    "report= classification_report(y_test, rfr.predict(X_test), target_names=['No', 'Yes'],  digits=3)\n",
    "print(report)"
   ]
  },
  {
   "cell_type": "code",
   "execution_count": 136,
   "metadata": {
    "colab": {
     "base_uri": "https://localhost:8080/",
     "height": 302
    },
    "colab_type": "code",
    "id": "yrCFqPwG_d_i",
    "outputId": "3c5499e7-426e-4527-fca0-7a6e5c060851"
   },
   "outputs": [
    {
     "name": "stdout",
     "output_type": "stream",
     "text": [
      "              precision    recall  f1-score   support\n",
      "\n",
      "          No      0.838     0.892     0.864      1332\n",
      "         Yes      0.620     0.506     0.558       464\n",
      "\n",
      "    accuracy                          0.792      1796\n",
      "   macro avg      0.729     0.699     0.711      1796\n",
      "weighted avg      0.782     0.792     0.785      1796\n",
      "\n"
     ]
    },
    {
     "name": "stderr",
     "output_type": "stream",
     "text": [
      "/home/veilas/anaconda3/envs/myml/lib/python3.7/site-packages/sklearn/linear_model/_logistic.py:940: ConvergenceWarning: lbfgs failed to converge (status=1):\n",
      "STOP: TOTAL NO. of ITERATIONS REACHED LIMIT.\n",
      "\n",
      "Increase the number of iterations (max_iter) or scale the data as shown in:\n",
      "    https://scikit-learn.org/stable/modules/preprocessing.html\n",
      "Please also refer to the documentation for alternative solver options:\n",
      "    https://scikit-learn.org/stable/modules/linear_model.html#logistic-regression\n",
      "  extra_warning_msg=_LOGISTIC_SOLVER_CONVERGENCE_MSG)\n"
     ]
    }
   ],
   "source": [
    "from sklearn.linear_model import LogisticRegression\n",
    "rfr = LogisticRegression().fit(X_train, y_train)\n",
    "report= classification_report(y_test, rfr.predict(X_test), target_names=['No', 'Yes'],  digits=3)\n",
    "print(report)"
   ]
  },
  {
   "cell_type": "markdown",
   "metadata": {
    "colab_type": "text",
    "id": "oRvRfPZU_d_y"
   },
   "source": [
    "Как мы видим все три алгоритма обучились определять один класс намного лучше другого в следствии несбалансированности датасета."
   ]
  },
  {
   "cell_type": "markdown",
   "metadata": {
    "colab_type": "text",
    "id": "X1Mg6gNw_d_y"
   },
   "source": [
    "Я предлагаю сгенерировать данные с помощью алгорима SMOTE. Для начала установим библиотеку."
   ]
  },
  {
   "cell_type": "code",
   "execution_count": 46,
   "metadata": {
    "colab": {},
    "colab_type": "code",
    "id": "H8RNdYLv_d_y"
   },
   "outputs": [
    {
     "name": "stdout",
     "output_type": "stream",
     "text": [
      "Requirement already satisfied: imblearn in /home/veilas/anaconda3/envs/myml/lib/python3.7/site-packages (0.0)\n",
      "Requirement already satisfied: imbalanced-learn in /home/veilas/anaconda3/envs/myml/lib/python3.7/site-packages (from imblearn) (0.6.2)\n",
      "Requirement already satisfied: scipy>=0.17 in /home/veilas/anaconda3/envs/myml/lib/python3.7/site-packages (from imbalanced-learn->imblearn) (1.4.1)\n",
      "Requirement already satisfied: joblib>=0.11 in /home/veilas/anaconda3/envs/myml/lib/python3.7/site-packages (from imbalanced-learn->imblearn) (0.14.1)\n",
      "Requirement already satisfied: scikit-learn>=0.22 in /home/veilas/anaconda3/envs/myml/lib/python3.7/site-packages (from imbalanced-learn->imblearn) (0.22.1)\n",
      "Requirement already satisfied: numpy>=1.11 in /home/veilas/anaconda3/envs/myml/lib/python3.7/site-packages (from imbalanced-learn->imblearn) (1.17.4)\n"
     ]
    }
   ],
   "source": [
    "!pip install imblearn"
   ]
  },
  {
   "cell_type": "code",
   "execution_count": 47,
   "metadata": {
    "colab": {
     "base_uri": "https://localhost:8080/",
     "height": 107
    },
    "colab_type": "code",
    "id": "DrluqWYf_d_y",
    "outputId": "26062413-20ec-42ba-9344-8abf85a2ed80"
   },
   "outputs": [
    {
     "name": "stderr",
     "output_type": "stream",
     "text": [
      "Using TensorFlow backend.\n"
     ]
    }
   ],
   "source": [
    "from imblearn.over_sampling import SMOTE"
   ]
  },
  {
   "cell_type": "markdown",
   "metadata": {},
   "source": [
    "Сгенерируем дополнительные данные, чтобы сбалансировать датасет."
   ]
  },
  {
   "cell_type": "code",
   "execution_count": 48,
   "metadata": {
    "colab": {
     "base_uri": "https://localhost:8080/",
     "height": 70
    },
    "colab_type": "code",
    "id": "p3rkncUQ_d_y",
    "outputId": "113050b6-4139-4b96-d9e8-9c80e54bb535"
   },
   "outputs": [],
   "source": [
    "sm = SMOTE(random_state=42)\n",
    "X_res, y_res = sm.fit_resample(X_train, y_train)"
   ]
  },
  {
   "cell_type": "code",
   "execution_count": 49,
   "metadata": {
    "colab": {
     "base_uri": "https://localhost:8080/",
     "height": 50
    },
    "colab_type": "code",
    "id": "3dO5ujFLEU5o",
    "outputId": "ca016a87-329e-4e96-e77a-9d9d38e503fa"
   },
   "outputs": [
    {
     "name": "stdout",
     "output_type": "stream",
     "text": [
      "(4190, 19)\n",
      "(6134, 19)\n"
     ]
    }
   ],
   "source": [
    "print(X_train.shape)\n",
    "print(X_res.shape)"
   ]
  },
  {
   "cell_type": "markdown",
   "metadata": {},
   "source": [
    "Смотрим результат по 3 выбранным алгоритмам, Recall увеличился, но только для класса 'Yes', соответсвенно уменьшилось число false negative ошибок."
   ]
  },
  {
   "cell_type": "code",
   "execution_count": 138,
   "metadata": {
    "colab": {
     "base_uri": "https://localhost:8080/",
     "height": 302
    },
    "colab_type": "code",
    "id": "o-oIx7UpEU33",
    "outputId": "e475648b-330f-49a0-f35e-6ed2c0204886"
   },
   "outputs": [
    {
     "name": "stdout",
     "output_type": "stream",
     "text": [
      "              precision    recall  f1-score   support\n",
      "\n",
      "          No      0.868     0.773     0.818      1332\n",
      "         Yes      0.504     0.664     0.573       464\n",
      "\n",
      "    accuracy                          0.744      1796\n",
      "   macro avg      0.686     0.718     0.695      1796\n",
      "weighted avg      0.774     0.744     0.754      1796\n",
      "\n"
     ]
    },
    {
     "name": "stderr",
     "output_type": "stream",
     "text": [
      "/home/veilas/anaconda3/envs/myml/lib/python3.7/site-packages/sklearn/linear_model/_logistic.py:940: ConvergenceWarning: lbfgs failed to converge (status=1):\n",
      "STOP: TOTAL NO. of ITERATIONS REACHED LIMIT.\n",
      "\n",
      "Increase the number of iterations (max_iter) or scale the data as shown in:\n",
      "    https://scikit-learn.org/stable/modules/preprocessing.html\n",
      "Please also refer to the documentation for alternative solver options:\n",
      "    https://scikit-learn.org/stable/modules/linear_model.html#logistic-regression\n",
      "  extra_warning_msg=_LOGISTIC_SOLVER_CONVERGENCE_MSG)\n"
     ]
    }
   ],
   "source": [
    "rfr = LogisticRegression().fit(X_res, y_res)\n",
    "report= classification_report(y_test, rfr.predict(X_test), target_names=['No', 'Yes'],  digits=3)\n",
    "print(report)"
   ]
  },
  {
   "cell_type": "code",
   "execution_count": 51,
   "metadata": {
    "colab": {
     "base_uri": "https://localhost:8080/",
     "height": 168
    },
    "colab_type": "code",
    "id": "s4i7ohrmEU1g",
    "outputId": "f49a8ba9-9a78-40b8-d255-2137e871ddd6"
   },
   "outputs": [
    {
     "name": "stdout",
     "output_type": "stream",
     "text": [
      "              precision    recall  f1-score   support\n",
      "\n",
      "          No      0.858     0.729     0.788      1332\n",
      "         Yes      0.456     0.653     0.537       464\n",
      "\n",
      "    accuracy                          0.709      1796\n",
      "   macro avg      0.657     0.691     0.663      1796\n",
      "weighted avg      0.754     0.709     0.723      1796\n",
      "\n"
     ]
    }
   ],
   "source": [
    "rfr = KNeighborsClassifier().fit(X_res, y_res)\n",
    "report= classification_report(y_test, rfr.predict(X_test), target_names=['No', 'Yes'],  digits=3)\n",
    "print(report)"
   ]
  },
  {
   "cell_type": "code",
   "execution_count": 52,
   "metadata": {
    "colab": {
     "base_uri": "https://localhost:8080/",
     "height": 168
    },
    "colab_type": "code",
    "id": "hWU7OAJIEUxL",
    "outputId": "227696ed-1917-404f-ce2f-6797d75ef2f8"
   },
   "outputs": [
    {
     "name": "stdout",
     "output_type": "stream",
     "text": [
      "              precision    recall  f1-score   support\n",
      "\n",
      "          No      0.851     0.854     0.852      1332\n",
      "         Yes      0.576     0.571     0.574       464\n",
      "\n",
      "    accuracy                          0.781      1796\n",
      "   macro avg      0.714     0.712     0.713      1796\n",
      "weighted avg      0.780     0.781     0.780      1796\n",
      "\n"
     ]
    }
   ],
   "source": [
    "rfr = RandomForestClassifier().fit(X_res, y_res)\n",
    "report= classification_report(y_test, rfr.predict(X_test), target_names=['No', 'Yes'],  digits=3)\n",
    "print(report)"
   ]
  },
  {
   "cell_type": "markdown",
   "metadata": {},
   "source": [
    "Посмотрим на разпределение полной оплаты в датасете. Заметим отрицательное биномиальное распределение."
   ]
  },
  {
   "cell_type": "code",
   "execution_count": 58,
   "metadata": {},
   "outputs": [
    {
     "data": {
      "text/plain": [
       "<matplotlib.axes._subplots.AxesSubplot at 0x7f4abf6714d0>"
      ]
     },
     "execution_count": 58,
     "metadata": {},
     "output_type": "execute_result"
    },
    {
     "data": {
      "image/png": "[encoded data removed]",
      "text/plain": [
       "<Figure size 432x288 with 1 Axes>"
      ]
     },
     "metadata": {
      "needs_background": "light"
     },
     "output_type": "display_data"
    }
   ],
   "source": [
    "df.TotalCharges.hist()"
   ]
  },
  {
   "cell_type": "code",
   "execution_count": 60,
   "metadata": {},
   "outputs": [],
   "source": [
    "df1 = df.copy()"
   ]
  },
  {
   "cell_type": "markdown",
   "metadata": {},
   "source": [
    "Логарифмируем TotalCharges дабы избавиться от сильного хвоста."
   ]
  },
  {
   "cell_type": "code",
   "execution_count": 61,
   "metadata": {},
   "outputs": [],
   "source": [
    "import numpy as np\n",
    "df1.TotalCharges = np.log1p(df1.TotalCharges)"
   ]
  },
  {
   "cell_type": "code",
   "execution_count": 68,
   "metadata": {},
   "outputs": [
    {
     "data": {
      "text/plain": [
       "<matplotlib.axes._subplots.AxesSubplot at 0x7f4abf045710>"
      ]
     },
     "execution_count": 68,
     "metadata": {},
     "output_type": "execute_result"
    },
    {
     "data": {
      "image/png": "[encoded data removed]",
      "text/plain": [
       "<Figure size 432x288 with 1 Axes>"
      ]
     },
     "metadata": {
      "needs_background": "light"
     },
     "output_type": "display_data"
    }
   ],
   "source": [
    "df1.TotalCharges.hist()"
   ]
  },
  {
   "cell_type": "markdown",
   "metadata": {},
   "source": [
    "Делим датасет на тренировочную и тестовую часть."
   ]
  },
  {
   "cell_type": "code",
   "execution_count": 62,
   "metadata": {},
   "outputs": [],
   "source": [
    "X_train1, X_test1, y_train1, y_test1 = train_test_split(df1.drop(['Churn'], axis=1),\n",
    "                                                   df1.Churn, test_size=0.3,\n",
    "                                                   random_state=17)"
   ]
  },
  {
   "cell_type": "markdown",
   "metadata": {},
   "source": [
    "Обучаем выбранные алгоритмы на изменненых данных."
   ]
  },
  {
   "cell_type": "code",
   "execution_count": 63,
   "metadata": {},
   "outputs": [
    {
     "name": "stdout",
     "output_type": "stream",
     "text": [
      "              precision    recall  f1-score   support\n",
      "\n",
      "          No      0.826     0.906     0.864      1332\n",
      "         Yes      0.627     0.453     0.526       464\n",
      "\n",
      "    accuracy                          0.789      1796\n",
      "   macro avg      0.727     0.679     0.695      1796\n",
      "weighted avg      0.775     0.789     0.777      1796\n",
      "\n"
     ]
    }
   ],
   "source": [
    "rfr = RandomForestClassifier().fit(X_train1, y_train1)\n",
    "report= classification_report(y_test1, rfr.predict(X_test1), target_names=['No', 'Yes'],  digits=3)\n",
    "print(report)"
   ]
  },
  {
   "cell_type": "code",
   "execution_count": 64,
   "metadata": {},
   "outputs": [
    {
     "name": "stdout",
     "output_type": "stream",
     "text": [
      "              precision    recall  f1-score   support\n",
      "\n",
      "          No      0.840     0.911     0.874      1332\n",
      "         Yes      0.663     0.500     0.570       464\n",
      "\n",
      "    accuracy                          0.805      1796\n",
      "   macro avg      0.751     0.706     0.722      1796\n",
      "weighted avg      0.794     0.805     0.795      1796\n",
      "\n"
     ]
    },
    {
     "name": "stderr",
     "output_type": "stream",
     "text": [
      "/home/veilas/anaconda3/envs/myml/lib/python3.7/site-packages/sklearn/linear_model/_logistic.py:940: ConvergenceWarning: lbfgs failed to converge (status=1):\n",
      "STOP: TOTAL NO. of ITERATIONS REACHED LIMIT.\n",
      "\n",
      "Increase the number of iterations (max_iter) or scale the data as shown in:\n",
      "    https://scikit-learn.org/stable/modules/preprocessing.html\n",
      "Please also refer to the documentation for alternative solver options:\n",
      "    https://scikit-learn.org/stable/modules/linear_model.html#logistic-regression\n",
      "  extra_warning_msg=_LOGISTIC_SOLVER_CONVERGENCE_MSG)\n"
     ]
    }
   ],
   "source": [
    "rfr = LogisticRegression().fit(X_train1, y_train1)\n",
    "report= classification_report(y_test1, rfr.predict(X_test1), target_names=['No', 'Yes'],  digits=3)\n",
    "print(report)"
   ]
  },
  {
   "cell_type": "code",
   "execution_count": 133,
   "metadata": {},
   "outputs": [
    {
     "name": "stdout",
     "output_type": "stream",
     "text": [
      "              precision    recall  f1-score   support\n",
      "\n",
      "          No      0.836     0.881     0.858      1332\n",
      "         Yes      0.596     0.502     0.545       464\n",
      "\n",
      "    accuracy                          0.783      1796\n",
      "   macro avg      0.716     0.692     0.701      1796\n",
      "weighted avg      0.774     0.783     0.777      1796\n",
      "\n"
     ]
    }
   ],
   "source": [
    "rfr = KNeighborsClassifier().fit(X_train1, y_train1)\n",
    "report= classification_report(y_test1, rfr.predict(X_test1), target_names=['No', 'Yes'],  digits=3)\n",
    "print(report)"
   ]
  },
  {
   "cell_type": "markdown",
   "metadata": {},
   "source": [
    "Пробуем изменённый датасет с генерацией данных."
   ]
  },
  {
   "cell_type": "code",
   "execution_count": 65,
   "metadata": {},
   "outputs": [],
   "source": [
    "sm = SMOTE(random_state=42)\n",
    "X_res1, y_res1 = sm.fit_resample(X_train1, y_train1)"
   ]
  },
  {
   "cell_type": "code",
   "execution_count": 66,
   "metadata": {},
   "outputs": [
    {
     "name": "stdout",
     "output_type": "stream",
     "text": [
      "              precision    recall  f1-score   support\n",
      "\n",
      "          No      0.852     0.845     0.848      1332\n",
      "         Yes      0.564     0.578     0.571       464\n",
      "\n",
      "    accuracy                          0.776      1796\n",
      "   macro avg      0.708     0.711     0.709      1796\n",
      "weighted avg      0.777     0.776     0.776      1796\n",
      "\n"
     ]
    }
   ],
   "source": [
    "rfr = RandomForestClassifier().fit(X_res1, y_res1)\n",
    "report= classification_report(y_test1, rfr.predict(X_test1), target_names=['No', 'Yes'],  digits=3)\n",
    "print(report)"
   ]
  },
  {
   "cell_type": "code",
   "execution_count": 140,
   "metadata": {},
   "outputs": [
    {
     "name": "stdout",
     "output_type": "stream",
     "text": [
      "              precision    recall  f1-score   support\n",
      "\n",
      "          No      0.883     0.715     0.791      1332\n",
      "         Yes      0.471     0.728     0.572       464\n",
      "\n",
      "    accuracy                          0.719      1796\n",
      "   macro avg      0.677     0.722     0.681      1796\n",
      "weighted avg      0.777     0.719     0.734      1796\n",
      "\n"
     ]
    }
   ],
   "source": [
    "rfr = KNeighborsClassifier().fit(X_res1, y_res1)\n",
    "report= classification_report(y_test1, rfr.predict(X_test1), target_names=['No', 'Yes'],  digits=3)\n",
    "print(report)"
   ]
  },
  {
   "cell_type": "code",
   "execution_count": 67,
   "metadata": {},
   "outputs": [
    {
     "name": "stdout",
     "output_type": "stream",
     "text": [
      "              precision    recall  f1-score   support\n",
      "\n",
      "          No      0.877     0.758     0.813      1332\n",
      "         Yes      0.500     0.696     0.582       464\n",
      "\n",
      "    accuracy                          0.742      1796\n",
      "   macro avg      0.689     0.727     0.698      1796\n",
      "weighted avg      0.780     0.742     0.753      1796\n",
      "\n"
     ]
    },
    {
     "name": "stderr",
     "output_type": "stream",
     "text": [
      "/home/veilas/anaconda3/envs/myml/lib/python3.7/site-packages/sklearn/linear_model/_logistic.py:940: ConvergenceWarning: lbfgs failed to converge (status=1):\n",
      "STOP: TOTAL NO. of ITERATIONS REACHED LIMIT.\n",
      "\n",
      "Increase the number of iterations (max_iter) or scale the data as shown in:\n",
      "    https://scikit-learn.org/stable/modules/preprocessing.html\n",
      "Please also refer to the documentation for alternative solver options:\n",
      "    https://scikit-learn.org/stable/modules/linear_model.html#logistic-regression\n",
      "  extra_warning_msg=_LOGISTIC_SOLVER_CONVERGENCE_MSG)\n"
     ]
    }
   ],
   "source": [
    "rfr = LogisticRegression().fit(X_res1, y_res1)\n",
    "report= classification_report(y_test1, rfr.predict(X_test1), target_names=['No', 'Yes'],  digits=3)\n",
    "print(report)"
   ]
  },
  {
   "cell_type": "markdown",
   "metadata": {},
   "source": [
    "Попробуем стэкинг."
   ]
  },
  {
   "cell_type": "code",
   "execution_count": 82,
   "metadata": {},
   "outputs": [],
   "source": [
    "def stacking(models, meta_alg, data_train, targets_train, data_test, targets_test=None, random_state=None, test_size=None, cv=5):\n",
    "    if test_size is None:\n",
    "        meta_mtrx = np.empty((data_train.shape[0], len(models)))\n",
    "        skf = StratifiedKFold(n_splits=5).get_n_splits(data_train, targets_train)\n",
    "        for n, model in enumerate(models):\n",
    "            meta_mtrx[:,n] = cross_val_predict(model, data_train,\n",
    "                                               targets_train, cv = skf, method='predict')\n",
    "            model = model.fit(data_train, targets_train)\n",
    "        \n",
    "        meta_model = meta_alg.fit(meta_mtrx, targets_train)\n",
    "        \n",
    "        meta_mtrx_test = np.empty((data_test.shape[0], len(models)))\n",
    "        for n, model in enumerate(models):\n",
    "            meta_mtrx_test[:,n] = model.predict(data_test)\n",
    "        \n",
    "        prediction= meta_model.predict(meta_mtrx_test)\n",
    "        \n",
    "        if targets_test is not None:\n",
    "            report= classification_report(targets_test, prediction, target_names=['No', 'Yes'],  digits=3)\n",
    "            print(report)\n",
    "            #print('Roc_auc', roc_auc_score(targets_test, prediction))\n",
    "    \n",
    "    elif test_size < 0 or test_size > 1:\n",
    "        print('test_size must be between 0 and 1')\n",
    "    \n",
    "    else:\n",
    "        train, valid, train_true, valid_true = train_test_split(data_train,\n",
    "                                                                targets_train,\n",
    "                                                               test_size=test_size)\n",
    "        meta_mtrx = np.empty((valid.shape[0], len(models)))\n",
    "        for n, model in enumerate(models):\n",
    "            model = model.fit(train, train_true)\n",
    "            meta_mtrx[:,n] = model.predict(valid)\n",
    "            \n",
    "        meta_model = meta_alg.fit(meta_mtrx, valid_true)\n",
    "        \n",
    "        meta_mtrx_test = np.empty((data_test.shape[0], len(models)))\n",
    "        for n, model in enumerate(models):\n",
    "            meta_mtrx_test[:,n] = model.predict(data_test)\n",
    "        \n",
    "        prediction= meta_model.predict(meta_mtrx_test)\n",
    "        \n",
    "        if targets_test is not None:\n",
    "            report= classification_report(targets_test, prediction, target_names=['No', 'Yes'],  digits=3)\n",
    "            print(report)\n",
    "            #print('Roc_auc', roc_auc_score(targets_test, prediction))"
   ]
  },
  {
   "cell_type": "code",
   "execution_count": 83,
   "metadata": {},
   "outputs": [],
   "source": [
    "knn = KNeighborsClassifier(n_neighbors=3)\n",
    "lr = LogisticRegression(random_state=17)\n",
    "rfc = RandomForestClassifier(random_state=17)\n",
    "\n",
    "meta = XGBClassifier(n_estimators=100)"
   ]
  },
  {
   "cell_type": "markdown",
   "metadata": {},
   "source": [
    "Без генерации данных."
   ]
  },
  {
   "cell_type": "code",
   "execution_count": 87,
   "metadata": {},
   "outputs": [
    {
     "name": "stderr",
     "output_type": "stream",
     "text": [
      "/home/veilas/anaconda3/envs/myml/lib/python3.7/site-packages/sklearn/linear_model/_logistic.py:940: ConvergenceWarning: lbfgs failed to converge (status=1):\n",
      "STOP: TOTAL NO. of ITERATIONS REACHED LIMIT.\n",
      "\n",
      "Increase the number of iterations (max_iter) or scale the data as shown in:\n",
      "    https://scikit-learn.org/stable/modules/preprocessing.html\n",
      "Please also refer to the documentation for alternative solver options:\n",
      "    https://scikit-learn.org/stable/modules/linear_model.html#logistic-regression\n",
      "  extra_warning_msg=_LOGISTIC_SOLVER_CONVERGENCE_MSG)\n"
     ]
    },
    {
     "name": "stdout",
     "output_type": "stream",
     "text": [
      "              precision    recall  f1-score   support\n",
      "\n",
      "          No      0.843     0.904     0.872      1332\n",
      "         Yes      0.651     0.515     0.575       464\n",
      "\n",
      "    accuracy                          0.803      1796\n",
      "   macro avg      0.747     0.709     0.724      1796\n",
      "weighted avg      0.793     0.803     0.795      1796\n",
      "\n"
     ]
    }
   ],
   "source": [
    "stacking(models=[knn, lr, rfc], meta_alg=meta, data_train= X_train1,\n",
    "         targets_train=y_train1,\n",
    "        data_test= X_test1, targets_test=y_test1, random_state=42, test_size=0.3)"
   ]
  },
  {
   "cell_type": "markdown",
   "metadata": {},
   "source": [
    "С генерацией данных."
   ]
  },
  {
   "cell_type": "code",
   "execution_count": 120,
   "metadata": {},
   "outputs": [
    {
     "name": "stderr",
     "output_type": "stream",
     "text": [
      "/home/veilas/anaconda3/envs/myml/lib/python3.7/site-packages/sklearn/linear_model/_logistic.py:940: ConvergenceWarning: lbfgs failed to converge (status=1):\n",
      "STOP: TOTAL NO. of ITERATIONS REACHED LIMIT.\n",
      "\n",
      "Increase the number of iterations (max_iter) or scale the data as shown in:\n",
      "    https://scikit-learn.org/stable/modules/preprocessing.html\n",
      "Please also refer to the documentation for alternative solver options:\n",
      "    https://scikit-learn.org/stable/modules/linear_model.html#logistic-regression\n",
      "  extra_warning_msg=_LOGISTIC_SOLVER_CONVERGENCE_MSG)\n"
     ]
    },
    {
     "name": "stdout",
     "output_type": "stream",
     "text": [
      "              precision    recall  f1-score   support\n",
      "\n",
      "          No      0.855     0.830     0.842      1332\n",
      "         Yes      0.550     0.597     0.572       464\n",
      "\n",
      "    accuracy                          0.769      1796\n",
      "   macro avg      0.702     0.713     0.707      1796\n",
      "weighted avg      0.776     0.769     0.772      1796\n",
      "\n"
     ]
    }
   ],
   "source": [
    "stacking(models=[knn, lr, rfc], meta_alg=meta, data_train= X_res1,\n",
    "         targets_train=y_res1,\n",
    "        data_test= X_test1, targets_test=y_test1, random_state=42, test_size=0.3)"
   ]
  },
  {
   "cell_type": "markdown",
   "metadata": {},
   "source": [
    "Так же хорошей идей может быть попробовать XGBoost, так как иногда он работает лучше других алгоритмов."
   ]
  },
  {
   "cell_type": "code",
   "execution_count": 98,
   "metadata": {
    "colab": {
     "base_uri": "https://localhost:8080/",
     "height": 319
    },
    "colab_type": "code",
    "id": "U_z2TDr6Holn",
    "outputId": "c4ac6d95-3287-4141-cd9c-32a8287a86a0"
   },
   "outputs": [
    {
     "data": {
      "text/plain": [
       "GridSearchCV(cv=5, error_score=nan,\n",
       "             estimator=XGBClassifier(base_score=0.5, booster='gbtree',\n",
       "                                     colsample_bylevel=1, colsample_bynode=1,\n",
       "                                     colsample_bytree=1, gamma=0,\n",
       "                                     learning_rate=0.1, max_delta_step=0,\n",
       "                                     max_depth=3, min_child_weight=1,\n",
       "                                     missing=None, n_estimators=100, n_jobs=1,\n",
       "                                     nthread=None, objective='binary:logistic',\n",
       "                                     random_state=0, reg_alpha=0, reg_lambda=1,\n",
       "                                     scale_pos_weight=1, seed=None, silent=None,\n",
       "                                     subsample=1, verbosity=1),\n",
       "             iid='deprecated', n_jobs=-1,\n",
       "             param_grid={'eta': [0.05, 0.1, 0.15, 0.2, 0.25, 0.3],\n",
       "                         'gamma': [0.0, 0.1, 0.2, 0.3, 0.4],\n",
       "                         'max_depth': [3, 4, 5, 6, 8, 10, 12, 15],\n",
       "                         'min_child_weight': [1, 3, 5, 7]},\n",
       "             pre_dispatch='2*n_jobs', refit=True, return_train_score=False,\n",
       "             scoring='f1_weighted', verbose=0)"
      ]
     },
     "execution_count": 98,
     "metadata": {},
     "output_type": "execute_result"
    }
   ],
   "source": [
    "from sklearn.model_selection import GridSearchCV\n",
    "from xgboost import XGBClassifier\n",
    "\n",
    "clf = XGBClassifier()\n",
    "parameters = {\n",
    "     \"eta\"    : [0.05, 0.10, 0.15, 0.20, 0.25, 0.30 ] ,\n",
    "     \"max_depth\"        : [ 3, 4, 5, 6, 8, 10, 12, 15],\n",
    "     \"min_child_weight\" : [ 1, 3, 5, 7 ],\n",
    "     \"gamma\"            : [ 0.0, 0.1, 0.2 , 0.3, 0.4 ]\n",
    "     }\n",
    "\n",
    "grid = GridSearchCV(clf,\n",
    "                    parameters, n_jobs=-1, scoring='f1_weighted',\n",
    "                    cv=5)\n",
    "\n",
    "grid.fit(X_train1, y_train1)"
   ]
  },
  {
   "cell_type": "code",
   "execution_count": 99,
   "metadata": {
    "colab": {
     "base_uri": "https://localhost:8080/",
     "height": 168
    },
    "colab_type": "code",
    "id": "z4jsIiJEHw7A",
    "outputId": "72dfb45e-1ff7-4414-ea93-02d04bc2e4c8"
   },
   "outputs": [
    {
     "name": "stdout",
     "output_type": "stream",
     "text": [
      "              precision    recall  f1-score   support\n",
      "\n",
      "          No      0.837     0.911     0.872      1332\n",
      "         Yes      0.658     0.489     0.561       464\n",
      "\n",
      "    accuracy                          0.802      1796\n",
      "   macro avg      0.747     0.700     0.717      1796\n",
      "weighted avg      0.790     0.802     0.792      1796\n",
      "\n"
     ]
    }
   ],
   "source": [
    "report= classification_report(y_test1, grid.predict(X_test1), target_names=['No', 'Yes'],  digits=3)\n",
    "print(report)"
   ]
  },
  {
   "cell_type": "markdown",
   "metadata": {
    "colab_type": "text",
    "id": "uyDpeHkTVYSf"
   },
   "source": [
    "# 4. Сравнение качества моделей "
   ]
  },
  {
   "cell_type": "markdown",
   "metadata": {
    "colab": {},
    "colab_type": "code",
    "id": "mryxTDJoVYSh"
   },
   "source": [
    "Важно отметить что при не сбалансированном датасете не следует использовать accuracy как метрику. Считаю что целесообразно использовать Recall(так как ошибки второго рода в данном случае более актуальны) и F1-score, но в анализе я также приведу значение accuracy.  \n",
    "Прорезюмируем результаты полученные из экспериментов:  \n",
    "1) Неизменённый датасет:  \n",
    "    RandomForest: Accuracy-0.783, Recall-  0.783, F1-score - 0.771  \n",
    "    KNeighbors: Accuracy-0.774, Recall- 0.774, F1-score - 0.760  \n",
    "    LogisticRegression: Accuracy-0.792, Recall- 0.792, F1-score - 0.785  \n",
    "2) Датасет с использованием алгоритма генерации SMOTE:  \n",
    "    RandomForest: Accuracy-0.744, Recall- 0.744, F1-score - 0.780  \n",
    "    KNeighbors: Accuracy-0.709, Recall- 0.709, F1-score - 0.725  \n",
    "    LogisticRegression: Accuracy-0.781, Recall- 0.781, F1-score - 0.755  \n",
    "3) Датасет с использованием логарифмизации TotalCharges:  \n",
    "    RandomForest: Accuracy-0.789, Recall- 0.789, F1-score - 0.795  \n",
    "    KNeighbors: Accuracy-0.783, Recall- 0.783, F1-score - 0.777  \n",
    "    LogisticRegression: Accuracy-0.805, Recall- 0.805, F1-score - 0.777  \n",
    "4) Датасет с использованием логарифмизации TotalCharges и генерацией данных:  \n",
    "    RandomForest: Accuracy-0.776, Recall- 0.776, F1-score - 0.776  \n",
    "    KNeighbors: Accuracy-0.719, Recall- 0.719, F1-score - 0.734  \n",
    "    LogisticRegression: Accuracy-0.742, Recall- 0.742, F1-score - 0.753  \n",
    "5) Датасет с использованием логарифмизации TotalCharges и Стэкинг:  \n",
    "    Stack: Accuracy-0.803, Recall- 0.803, F1-score - 0.795  \n",
    "6) Датасет с использованием логарифмизации TotalCharges и генерацией данных, и Стэкинг:  \n",
    "    Stack: Accuracy-0.769, Recall- 0.769, F1-score - 0.772  \n",
    "7) Датасет с использованием логарифмизации TotalCharges и XGBoost:  \n",
    "    Stack: Accuracy-0.802, Recall- 0.802, F1-score - 0.792  "
   ]
  },
  {
   "cell_type": "markdown",
   "metadata": {
    "colab": {},
    "colab_type": "code",
    "id": "RDJEiMID_d_y"
   },
   "source": [
    "В общем лучше всего себя показал датасет с использованием логарифмизации TotalCharges и Стэкинг, хочется отметить что с ощибками второго рода дла класса \"Yes\" очень хорошо справляется KNeighbors c датасетом с использованием логарифмизации TotalCharges и генерацией данных.\n",
    "\n",
    "Так же за кулисами осталось использование MinMaxScaler, но результатов это не дало (Идея была в том, что признак TotalCharges, очень сильно отличается от остальных признаков и имеет наибольшее влияние на таргет)."
   ]
  },
  {
   "cell_type": "markdown",
   "metadata": {},
   "source": [
    "Сгласно проведенному анализу, компании следует большее внимание уделять новым пользователям, в оссобенности к тем кто платит сервису больше чем средняя оплата среди старых пользователей. Рекомендуется устраивать скидки для первой подписки, а так же привлекать пользователей на планы отпаты длиной больше месяца различными скидками, это дасть людям время привыкнуть к сервису и в последствии уменьшит отток."
   ]
  }
 ],
 "metadata": {
  "accelerator": "GPU",
  "colab": {
   "collapsed_sections": [],
   "name": "Coursework_ML.ipynb",
   "provenance": []
  },
  "kernelspec": {
   "display_name": "Python 3",
   "language": "python",
   "name": "python3"
  },
  "language_info": {
   "codemirror_mode": {
    "name": "ipython",
    "version": 3
   },
   "file_extension": ".py",
   "mimetype": "text/x-python",
   "name": "python",
   "nbconvert_exporter": "python",
   "pygments_lexer": "ipython3",
   "version": "3.7.6"
  }
 },
 "nbformat": 4,
 "nbformat_minor": 1
}
